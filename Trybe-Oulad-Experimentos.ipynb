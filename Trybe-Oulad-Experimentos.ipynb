{
 "cells": [
  {
   "cell_type": "code",
   "execution_count": 125,
   "metadata": {},
   "outputs": [],
   "source": [
    "# Imports\n",
    "from utils import (plot_mean_bar,\n",
    "                   get_target,\n",
    "                   categorical_cardinality,\n",
    "                   categorical_mean)\n",
    "import pandas as pd\n",
    "import numpy as np\n",
    "import matplotlib.pyplot as plt\n",
    "import seaborn as sns\n",
    "from collections import Counter\n",
    "from joblib import dump, load\n",
    "from pathlib import Path\n",
    "from IPython.display import display\n",
    "from sklearn import set_config\n",
    "from sklearn.model_selection import (train_test_split,\n",
    "                                     StratifiedKFold,\n",
    "                                     cross_val_score,\n",
    "                                     cross_val_predict,\n",
    "                                     GridSearchCV)\n",
    "from sklearn.ensemble import RandomForestClassifier,RandomForestRegressor\n",
    "from sklearn.dummy import DummyClassifier\n",
    "from sklearn.compose import make_column_transformer\n",
    "from sklearn.pipeline import make_pipeline\n",
    "from sklearn.preprocessing import OneHotEncoder\n",
    "from sklearn.experimental import enable_iterative_imputer\n",
    "from sklearn.impute import SimpleImputer,IterativeImputer\n",
    "from sklearn.metrics import (average_precision_score,\n",
    "                             f1_score,\n",
    "                             make_scorer,\n",
    "                             precision_recall_curve,\n",
    "                             confusion_matrix,\n",
    "                             plot_precision_recall_curve,\n",
    "                             plot_roc_curve,\n",
    "                             plot_confusion_matrix)\n",
    "from sklearn.inspection import permutation_importance\n",
    "\n",
    "# Notebook Settings\n",
    "plt.style.use('fivethirtyeight')\n",
    "plt.rcParams['figure.figsize'] = [8, 5]\n",
    "set_config(display=\"diagram\")\n",
    "\n",
    "############# Caminhos dos Arquivos de Entrada ########################\n",
    "\n",
    "input_folder = \"..\"\n",
    "studentInfo_data = \"studentInfo.csv\"\n",
    "studentAssessment_data = \"studentAssessment.csv\"\n",
    "assessments_data = \"assessments.csv\"\n",
    "studentVle_data = \"studentVle.csv\"\n",
    "vle_data = \"vle.csv\"\n",
    "\n",
    "#######################################################################\n",
    "\n",
    "############## Parametros Gerais ############################\n",
    "\n",
    "TEST_SIZE = 0.10\n",
    "RANDOM_SEED = 42\n"
   ]
  },
  {
   "cell_type": "markdown",
   "metadata": {},
   "source": [
    "**Disclaimer**: O texto em português contem diversas omissões de acentuação devido a escrito ao teclado nórdico que uso. Deste modo, escrever å torna-se mais fácil do que escrever ç. Perdoem-me :)"
   ]
  },
  {
   "cell_type": "markdown",
   "metadata": {},
   "source": [
    "# 1. Primeiro Experimento"
   ]
  },
  {
   "cell_type": "markdown",
   "metadata": {},
   "source": [
    "Nosso primeiro modelo (experimento) leva em conta apenas os atributos contidos no *dataset* **studentInfo**. "
   ]
  },
  {
   "cell_type": "markdown",
   "metadata": {},
   "source": [
    "## 1.1 Exploração do  *studentInfo Dataset*"
   ]
  },
  {
   "cell_type": "markdown",
   "metadata": {},
   "source": [
    "Começaremos explorando o dataset studentInfo pois o temos como a espinha dorsal do primeiro modelo que construiremos para resolver a questão de negócios que nos propusemos a resolver: **Quais estudantes falharão no Exame Final?**\n"
   ]
  },
  {
   "cell_type": "code",
   "execution_count": 2,
   "metadata": {},
   "outputs": [],
   "source": [
    "info = pd.read_csv(Path(input_folder,studentInfo_data),low_memory=False)"
   ]
  },
  {
   "cell_type": "code",
   "execution_count": 3,
   "metadata": {},
   "outputs": [
    {
     "data": {
      "text/plain": [
       "'Info Dataset Contem 32593 linhas e 12 colunas'"
      ]
     },
     "execution_count": 3,
     "metadata": {},
     "output_type": "execute_result"
    }
   ],
   "source": [
    "f'Info Dataset Contem {info.shape[0]} linhas e {info.shape[1]} colunas'"
   ]
  },
  {
   "cell_type": "code",
   "execution_count": 4,
   "metadata": {},
   "outputs": [
    {
     "data": {
      "text/html": [
       "<div>\n",
       "<style scoped>\n",
       "    .dataframe tbody tr th:only-of-type {\n",
       "        vertical-align: middle;\n",
       "    }\n",
       "\n",
       "    .dataframe tbody tr th {\n",
       "        vertical-align: top;\n",
       "    }\n",
       "\n",
       "    .dataframe thead th {\n",
       "        text-align: right;\n",
       "    }\n",
       "</style>\n",
       "<table border=\"1\" class=\"dataframe\">\n",
       "  <thead>\n",
       "    <tr style=\"text-align: right;\">\n",
       "      <th></th>\n",
       "      <th>code_module</th>\n",
       "      <th>code_presentation</th>\n",
       "      <th>id_student</th>\n",
       "      <th>gender</th>\n",
       "      <th>region</th>\n",
       "      <th>highest_education</th>\n",
       "      <th>imd_band</th>\n",
       "      <th>age_band</th>\n",
       "      <th>num_of_prev_attempts</th>\n",
       "      <th>studied_credits</th>\n",
       "      <th>disability</th>\n",
       "      <th>final_result</th>\n",
       "    </tr>\n",
       "  </thead>\n",
       "  <tbody>\n",
       "    <tr>\n",
       "      <th>0</th>\n",
       "      <td>AAA</td>\n",
       "      <td>2013J</td>\n",
       "      <td>11391</td>\n",
       "      <td>M</td>\n",
       "      <td>East Anglian Region</td>\n",
       "      <td>HE Qualification</td>\n",
       "      <td>90-100%</td>\n",
       "      <td>55&lt;=</td>\n",
       "      <td>0</td>\n",
       "      <td>240</td>\n",
       "      <td>N</td>\n",
       "      <td>Pass</td>\n",
       "    </tr>\n",
       "    <tr>\n",
       "      <th>1</th>\n",
       "      <td>AAA</td>\n",
       "      <td>2013J</td>\n",
       "      <td>28400</td>\n",
       "      <td>F</td>\n",
       "      <td>Scotland</td>\n",
       "      <td>HE Qualification</td>\n",
       "      <td>20-30%</td>\n",
       "      <td>35-55</td>\n",
       "      <td>0</td>\n",
       "      <td>60</td>\n",
       "      <td>N</td>\n",
       "      <td>Pass</td>\n",
       "    </tr>\n",
       "    <tr>\n",
       "      <th>2</th>\n",
       "      <td>AAA</td>\n",
       "      <td>2013J</td>\n",
       "      <td>30268</td>\n",
       "      <td>F</td>\n",
       "      <td>North Western Region</td>\n",
       "      <td>A Level or Equivalent</td>\n",
       "      <td>30-40%</td>\n",
       "      <td>35-55</td>\n",
       "      <td>0</td>\n",
       "      <td>60</td>\n",
       "      <td>Y</td>\n",
       "      <td>Withdrawn</td>\n",
       "    </tr>\n",
       "    <tr>\n",
       "      <th>3</th>\n",
       "      <td>AAA</td>\n",
       "      <td>2013J</td>\n",
       "      <td>31604</td>\n",
       "      <td>F</td>\n",
       "      <td>South East Region</td>\n",
       "      <td>A Level or Equivalent</td>\n",
       "      <td>50-60%</td>\n",
       "      <td>35-55</td>\n",
       "      <td>0</td>\n",
       "      <td>60</td>\n",
       "      <td>N</td>\n",
       "      <td>Pass</td>\n",
       "    </tr>\n",
       "    <tr>\n",
       "      <th>4</th>\n",
       "      <td>AAA</td>\n",
       "      <td>2013J</td>\n",
       "      <td>32885</td>\n",
       "      <td>F</td>\n",
       "      <td>West Midlands Region</td>\n",
       "      <td>Lower Than A Level</td>\n",
       "      <td>50-60%</td>\n",
       "      <td>0-35</td>\n",
       "      <td>0</td>\n",
       "      <td>60</td>\n",
       "      <td>N</td>\n",
       "      <td>Pass</td>\n",
       "    </tr>\n",
       "  </tbody>\n",
       "</table>\n",
       "</div>"
      ],
      "text/plain": [
       "  code_module code_presentation  id_student gender                region  \\\n",
       "0         AAA             2013J       11391      M   East Anglian Region   \n",
       "1         AAA             2013J       28400      F              Scotland   \n",
       "2         AAA             2013J       30268      F  North Western Region   \n",
       "3         AAA             2013J       31604      F     South East Region   \n",
       "4         AAA             2013J       32885      F  West Midlands Region   \n",
       "\n",
       "       highest_education imd_band age_band  num_of_prev_attempts  \\\n",
       "0       HE Qualification  90-100%     55<=                     0   \n",
       "1       HE Qualification   20-30%    35-55                     0   \n",
       "2  A Level or Equivalent   30-40%    35-55                     0   \n",
       "3  A Level or Equivalent   50-60%    35-55                     0   \n",
       "4     Lower Than A Level   50-60%     0-35                     0   \n",
       "\n",
       "   studied_credits disability final_result  \n",
       "0              240          N         Pass  \n",
       "1               60          N         Pass  \n",
       "2               60          Y    Withdrawn  \n",
       "3               60          N         Pass  \n",
       "4               60          N         Pass  "
      ]
     },
     "execution_count": 4,
     "metadata": {},
     "output_type": "execute_result"
    }
   ],
   "source": [
    "info.head()"
   ]
  },
  {
   "cell_type": "code",
   "execution_count": 5,
   "metadata": {},
   "outputs": [
    {
     "data": {
      "text/html": [
       "<div>\n",
       "<style scoped>\n",
       "    .dataframe tbody tr th:only-of-type {\n",
       "        vertical-align: middle;\n",
       "    }\n",
       "\n",
       "    .dataframe tbody tr th {\n",
       "        vertical-align: top;\n",
       "    }\n",
       "\n",
       "    .dataframe thead th {\n",
       "        text-align: right;\n",
       "    }\n",
       "</style>\n",
       "<table border=\"1\" class=\"dataframe\">\n",
       "  <thead>\n",
       "    <tr style=\"text-align: right;\">\n",
       "      <th></th>\n",
       "      <th>id_student</th>\n",
       "      <th>num_of_prev_attempts</th>\n",
       "      <th>studied_credits</th>\n",
       "    </tr>\n",
       "  </thead>\n",
       "  <tbody>\n",
       "    <tr>\n",
       "      <th>count</th>\n",
       "      <td>3.259300e+04</td>\n",
       "      <td>32593.000000</td>\n",
       "      <td>32593.000000</td>\n",
       "    </tr>\n",
       "    <tr>\n",
       "      <th>mean</th>\n",
       "      <td>7.066877e+05</td>\n",
       "      <td>0.163225</td>\n",
       "      <td>79.758691</td>\n",
       "    </tr>\n",
       "    <tr>\n",
       "      <th>std</th>\n",
       "      <td>5.491673e+05</td>\n",
       "      <td>0.479758</td>\n",
       "      <td>41.071900</td>\n",
       "    </tr>\n",
       "    <tr>\n",
       "      <th>min</th>\n",
       "      <td>3.733000e+03</td>\n",
       "      <td>0.000000</td>\n",
       "      <td>30.000000</td>\n",
       "    </tr>\n",
       "    <tr>\n",
       "      <th>25%</th>\n",
       "      <td>5.085730e+05</td>\n",
       "      <td>0.000000</td>\n",
       "      <td>60.000000</td>\n",
       "    </tr>\n",
       "    <tr>\n",
       "      <th>50%</th>\n",
       "      <td>5.903100e+05</td>\n",
       "      <td>0.000000</td>\n",
       "      <td>60.000000</td>\n",
       "    </tr>\n",
       "    <tr>\n",
       "      <th>75%</th>\n",
       "      <td>6.444530e+05</td>\n",
       "      <td>0.000000</td>\n",
       "      <td>120.000000</td>\n",
       "    </tr>\n",
       "    <tr>\n",
       "      <th>max</th>\n",
       "      <td>2.716795e+06</td>\n",
       "      <td>6.000000</td>\n",
       "      <td>655.000000</td>\n",
       "    </tr>\n",
       "  </tbody>\n",
       "</table>\n",
       "</div>"
      ],
      "text/plain": [
       "         id_student  num_of_prev_attempts  studied_credits\n",
       "count  3.259300e+04          32593.000000     32593.000000\n",
       "mean   7.066877e+05              0.163225        79.758691\n",
       "std    5.491673e+05              0.479758        41.071900\n",
       "min    3.733000e+03              0.000000        30.000000\n",
       "25%    5.085730e+05              0.000000        60.000000\n",
       "50%    5.903100e+05              0.000000        60.000000\n",
       "75%    6.444530e+05              0.000000       120.000000\n",
       "max    2.716795e+06              6.000000       655.000000"
      ]
     },
     "execution_count": 5,
     "metadata": {},
     "output_type": "execute_result"
    }
   ],
   "source": [
    "# Maybe some outliers?\n",
    "info.describe()"
   ]
  },
  {
   "cell_type": "code",
   "execution_count": 6,
   "metadata": {},
   "outputs": [
    {
     "data": {
      "text/plain": [
       "'28785 estudantes unicos no studentInfo dataset'"
      ]
     },
     "execution_count": 6,
     "metadata": {},
     "output_type": "execute_result"
    }
   ],
   "source": [
    "UNIQUE_STUDENTS = info['id_student'].nunique()\n",
    "f'{UNIQUE_STUDENTS} estudantes unicos no studentInfo dataset'"
   ]
  },
  {
   "cell_type": "markdown",
   "metadata": {},
   "source": [
    "Maioria dos Estudantes assistindo aos modulos pela primeira vez, como esperado. Ha um valor máximo de 6 tentativas anteriores que chama a atenção. Vamos investigar."
   ]
  },
  {
   "cell_type": "code",
   "execution_count": 7,
   "metadata": {},
   "outputs": [
    {
     "data": {
      "image/png": "[encoded data removed]",
      "text/plain": [
       "<Figure size 576x360 with 1 Axes>"
      ]
     },
     "metadata": {},
     "output_type": "display_data"
    }
   ],
   "source": [
    "ax = (\n",
    "       info.query(\"num_of_prev_attempts >=1\")['num_of_prev_attempts']\n",
    "       .plot(kind = 'hist')\n",
    "     )\n",
    "\n",
    "_= ax.set_title(\"Distribuicao da Ocorrencia de Repeticao de Modulos\")\n",
    "_= ax.set_xticks(np.arange(1,7))"
   ]
  },
  {
   "cell_type": "code",
   "execution_count": 8,
   "metadata": {
    "scrolled": false
   },
   "outputs": [
    {
     "data": {
      "image/png": "[encoded data removed]",
      "text/plain": [
       "<Figure size 576x360 with 1 Axes>"
      ]
     },
     "metadata": {},
     "output_type": "display_data"
    }
   ],
   "source": [
    "ax = (\n",
    "       info.query(\"num_of_prev_attempts >=3\")['num_of_prev_attempts']\n",
    "       .plot(kind = 'hist')\n",
    "     )\n",
    "\n",
    "_= ax.set_title(\"Distribuicao da Ocorrencia de Repeticao de Modulos \\n Mais do que 3 Ocorrencias\")\n",
    "_= ax.set_xticks(np.arange(3,7))"
   ]
  },
  {
   "cell_type": "code",
   "execution_count": 9,
   "metadata": {
    "scrolled": false
   },
   "outputs": [
    {
     "data": {
      "image/png": "[encoded data removed]",
      "text/plain": [
       "<Figure size 576x360 with 1 Axes>"
      ]
     },
     "metadata": {},
     "output_type": "display_data"
    }
   ],
   "source": [
    "ax = sns.stripplot(y = info['studied_credits'],alpha = 0.5)\n",
    "_= ax.set_ylabel(\"Studied Credits\")\n",
    "_= ax.set_title(\"Distribuicao dos Creditos Estudados \\n\")"
   ]
  },
  {
   "cell_type": "markdown",
   "metadata": {},
   "source": [
    "Alguns pontos claramente destoantes (possivelmente *outliers*, pois muito fora da IQR), mas sem grande motivo para nos preocuparmos, pois utilizaremos Random Forests na primeira versão da solução, algoritmo que não impõem nenhuma hipótese quanto a distribuição dos atributos bem como bastante resistente a outliers."
   ]
  },
  {
   "cell_type": "code",
   "execution_count": 10,
   "metadata": {},
   "outputs": [
    {
     "data": {
      "text/html": [
       "<div>\n",
       "<style scoped>\n",
       "    .dataframe tbody tr th:only-of-type {\n",
       "        vertical-align: middle;\n",
       "    }\n",
       "\n",
       "    .dataframe tbody tr th {\n",
       "        vertical-align: top;\n",
       "    }\n",
       "\n",
       "    .dataframe thead th {\n",
       "        text-align: right;\n",
       "    }\n",
       "</style>\n",
       "<table border=\"1\" class=\"dataframe\">\n",
       "  <thead>\n",
       "    <tr style=\"text-align: right;\">\n",
       "      <th></th>\n",
       "      <th>code_module</th>\n",
       "      <th>code_presentation</th>\n",
       "      <th>id_student</th>\n",
       "      <th>gender</th>\n",
       "      <th>region</th>\n",
       "      <th>highest_education</th>\n",
       "      <th>imd_band</th>\n",
       "      <th>age_band</th>\n",
       "      <th>num_of_prev_attempts</th>\n",
       "      <th>studied_credits</th>\n",
       "      <th>disability</th>\n",
       "      <th>final_result</th>\n",
       "    </tr>\n",
       "  </thead>\n",
       "  <tbody>\n",
       "    <tr>\n",
       "      <th>14395</th>\n",
       "      <td>DDD</td>\n",
       "      <td>2013J</td>\n",
       "      <td>8462</td>\n",
       "      <td>M</td>\n",
       "      <td>London Region</td>\n",
       "      <td>HE Qualification</td>\n",
       "      <td>30-40%</td>\n",
       "      <td>55&lt;=</td>\n",
       "      <td>0</td>\n",
       "      <td>90</td>\n",
       "      <td>N</td>\n",
       "      <td>Withdrawn</td>\n",
       "    </tr>\n",
       "    <tr>\n",
       "      <th>17560</th>\n",
       "      <td>DDD</td>\n",
       "      <td>2014J</td>\n",
       "      <td>8462</td>\n",
       "      <td>M</td>\n",
       "      <td>London Region</td>\n",
       "      <td>HE Qualification</td>\n",
       "      <td>30-40%</td>\n",
       "      <td>55&lt;=</td>\n",
       "      <td>1</td>\n",
       "      <td>60</td>\n",
       "      <td>N</td>\n",
       "      <td>Withdrawn</td>\n",
       "    </tr>\n",
       "    <tr>\n",
       "      <th>13091</th>\n",
       "      <td>DDD</td>\n",
       "      <td>2013B</td>\n",
       "      <td>24213</td>\n",
       "      <td>F</td>\n",
       "      <td>East Anglian Region</td>\n",
       "      <td>A Level or Equivalent</td>\n",
       "      <td>40-50%</td>\n",
       "      <td>0-35</td>\n",
       "      <td>0</td>\n",
       "      <td>90</td>\n",
       "      <td>N</td>\n",
       "      <td>Withdrawn</td>\n",
       "    </tr>\n",
       "    <tr>\n",
       "      <th>16332</th>\n",
       "      <td>DDD</td>\n",
       "      <td>2014B</td>\n",
       "      <td>24213</td>\n",
       "      <td>F</td>\n",
       "      <td>East Anglian Region</td>\n",
       "      <td>A Level or Equivalent</td>\n",
       "      <td>40-50%</td>\n",
       "      <td>0-35</td>\n",
       "      <td>1</td>\n",
       "      <td>60</td>\n",
       "      <td>N</td>\n",
       "      <td>Pass</td>\n",
       "    </tr>\n",
       "    <tr>\n",
       "      <th>2517</th>\n",
       "      <td>BBB</td>\n",
       "      <td>2013J</td>\n",
       "      <td>25629</td>\n",
       "      <td>F</td>\n",
       "      <td>Scotland</td>\n",
       "      <td>Lower Than A Level</td>\n",
       "      <td>20-30%</td>\n",
       "      <td>0-35</td>\n",
       "      <td>0</td>\n",
       "      <td>120</td>\n",
       "      <td>N</td>\n",
       "      <td>Withdrawn</td>\n",
       "    </tr>\n",
       "  </tbody>\n",
       "</table>\n",
       "</div>"
      ],
      "text/plain": [
       "      code_module code_presentation  id_student gender               region  \\\n",
       "14395         DDD             2013J        8462      M        London Region   \n",
       "17560         DDD             2014J        8462      M        London Region   \n",
       "13091         DDD             2013B       24213      F  East Anglian Region   \n",
       "16332         DDD             2014B       24213      F  East Anglian Region   \n",
       "2517          BBB             2013J       25629      F             Scotland   \n",
       "\n",
       "           highest_education imd_band age_band  num_of_prev_attempts  \\\n",
       "14395       HE Qualification   30-40%     55<=                     0   \n",
       "17560       HE Qualification   30-40%     55<=                     1   \n",
       "13091  A Level or Equivalent   40-50%     0-35                     0   \n",
       "16332  A Level or Equivalent   40-50%     0-35                     1   \n",
       "2517      Lower Than A Level   20-30%     0-35                     0   \n",
       "\n",
       "       studied_credits disability final_result  \n",
       "14395               90          N    Withdrawn  \n",
       "17560               60          N    Withdrawn  \n",
       "13091               90          N    Withdrawn  \n",
       "16332               60          N         Pass  \n",
       "2517               120          N    Withdrawn  "
      ]
     },
     "execution_count": 10,
     "metadata": {},
     "output_type": "execute_result"
    }
   ],
   "source": [
    "duplicated_mask = info['id_student'].duplicated(keep = False)\n",
    "info_duplicated = info[duplicated_mask]\n",
    "info_duplicated.sort_values('id_student').head()"
   ]
  },
  {
   "cell_type": "code",
   "execution_count": 11,
   "metadata": {},
   "outputs": [
    {
     "data": {
      "text/plain": [
       "'1667 estudantes repetiram modulos ao menos uma vez'"
      ]
     },
     "execution_count": 11,
     "metadata": {},
     "output_type": "execute_result"
    }
   ],
   "source": [
    "f'{info_duplicated.query(\"num_of_prev_attempts >=1\").shape[0]} estudantes repetiram modulos ao menos uma vez'"
   ]
  },
  {
   "cell_type": "code",
   "execution_count": 12,
   "metadata": {},
   "outputs": [
    {
     "data": {
      "image/png": "[encoded data removed]",
      "text/plain": [
       "<Figure size 576x360 with 1 Axes>"
      ]
     },
     "metadata": {},
     "output_type": "display_data"
    }
   ],
   "source": [
    "final_results = Counter(info['final_result'])\n",
    "ax = (\n",
    "       info\n",
    "      .final_result\n",
    "      .value_counts(ascending = True)\n",
    "      .plot(kind = \"barh\")\n",
    "     )\n",
    "\n",
    "_= ax.set_ylabel(\"\")\n",
    "_= ax.set_title(str(final_results['Fail']) + ' Estudantes Falharam nos Exames Finais \\n')"
   ]
  },
  {
   "cell_type": "code",
   "execution_count": 13,
   "metadata": {},
   "outputs": [
    {
     "data": {
      "image/png": "[encoded data removed]",
      "text/plain": [
       "<Figure size 576x360 with 1 Axes>"
      ]
     },
     "metadata": {},
     "output_type": "display_data"
    }
   ],
   "source": [
    "# Checando Valores Faltantes\n",
    "ax = (\n",
    "      info\n",
    "     .isna()\n",
    "     .mean()\n",
    "     .mul(100)\n",
    "     .plot(kind = \"barh\")\n",
    "     )\n",
    "_= ax.set_title(\"% de Valores Faltantes \\n\")"
   ]
  },
  {
   "cell_type": "code",
   "execution_count": 14,
   "metadata": {
    "scrolled": true
   },
   "outputs": [
    {
     "data": {
      "text/plain": [
       "{'code_module': 7,\n",
       " 'code_presentation': 4,\n",
       " 'gender': 2,\n",
       " 'region': 13,\n",
       " 'highest_education': 5,\n",
       " 'imd_band': 10,\n",
       " 'age_band': 3,\n",
       " 'disability': 2,\n",
       " 'final_result': 4}"
      ]
     },
     "execution_count": 14,
     "metadata": {},
     "output_type": "execute_result"
    }
   ],
   "source": [
    "# Numero de Niveis Distintos das Variaveis Categoricas\n",
    "categorical_cardinality(info)"
   ]
  },
  {
   "cell_type": "markdown",
   "metadata": {},
   "source": [
    "Nenhuma variável com cardinalidade proibitivamente alta, o que resultara em mais opções para escolher o *encoding* a ser usado na modelagem. *One-hot-encoding* não sera caro computacionalmente e lida bem com categorias desconhecidas que podem aparecer em produção :)"
   ]
  },
  {
   "cell_type": "markdown",
   "metadata": {},
   "source": [
    "## 1.2 Modelagem/Limpeza"
   ]
  },
  {
   "cell_type": "markdown",
   "metadata": {},
   "source": [
    "A variável *code_presentation* nao sera útil com o *encoding* atual, pois saber o ano em que o aluno realizou o modulo nao seria relevante no momento da inferência. Contudo os códigos **J/B** tem valor, pois a época do ano em que o modulo foi cursado pode conter poder preditivo."
   ]
  },
  {
   "cell_type": "code",
   "execution_count": 15,
   "metadata": {},
   "outputs": [],
   "source": [
    "info_clean = (info\n",
    " .assign(module_code = lambda df_:df_['code_presentation']\n",
    "         .str\n",
    "         .split('([A-Z])',expand = True)[1])\n",
    "             )\n",
    "\n",
    "assert list(info_clean['module_code'].unique()) == ['J', 'B'] "
   ]
  },
  {
   "cell_type": "code",
   "execution_count": 16,
   "metadata": {},
   "outputs": [
    {
     "data": {
      "text/plain": [
       "12323    J\n",
       "11572    J\n",
       "27533    B\n",
       "23630    B\n",
       "13721    B\n",
       "Name: module_code, dtype: object"
      ]
     },
     "execution_count": 16,
     "metadata": {},
     "output_type": "execute_result"
    }
   ],
   "source": [
    "info_clean['module_code'].sample(5)"
   ]
  },
  {
   "cell_type": "markdown",
   "metadata": {},
   "source": [
    "Para respondermos nossa questão de negocio (Quais estudantes falharão no Exame Final?), precisaremos reagrupar as categorias *Pass*/*Distinction* do alvo em Pass, alem de nao usarmos as observações em que os estudantes desistiram dos módulos (*Withdrawn*). Em experimentos futuros podemos rever essa hipotese e incorporar os dados coletados dos modulos em que o aluno desistiu."
   ]
  },
  {
   "cell_type": "code",
   "execution_count": 17,
   "metadata": {},
   "outputs": [],
   "source": [
    "# Primeira Tabela de Dados Feita :) \n",
    "feature_store = info_clean \n",
    "\n",
    "# Eliminadas as Observacoes em que o estudante desistiu e Alvo mapeado para (Pass/Fail)\n",
    "data_first_experiment = (\n",
    "                      feature_store\n",
    "                      .query(\"final_result != 'Withdrawn'\")\n",
    "                      .pipe(get_target,target_name = 'final_result')\n",
    "                      .drop(['id_student','code_presentation'],axis = 'columns')\n",
    "                     )\n",
    "\n",
    "assert list(data_first_experiment['final_result'].unique()) == ['Pass', 'Fail'] "
   ]
  },
  {
   "cell_type": "code",
   "execution_count": 18,
   "metadata": {},
   "outputs": [
    {
     "data": {
      "image/png": "[encoded data removed]",
      "text/plain": [
       "<Figure size 576x360 with 1 Axes>"
      ]
     },
     "metadata": {},
     "output_type": "display_data"
    }
   ],
   "source": [
    "# Distribuicao do Alvo\n",
    "ax = (\n",
    "      data_first_experiment['final_result']\n",
    "     .value_counts(normalize = True,ascending = True)\n",
    "     .mul(100)\n",
    "     .plot(kind = 'barh')\n",
    "     )\n",
    "\n",
    "_= ax.set_title(\"Aproximadamente 30% dos Modulos Finalizados Resultam em Falhas \\n na Avaliacao Final \\n\")"
   ]
  },
  {
   "cell_type": "markdown",
   "metadata": {},
   "source": [
    "*Dataset* levemente desbalanceado, o que nos obriga a usar algumas penalizações na função custo dos modelos (parâmetro *class weight*) de modo a dar oportunidade ao modelo de aprender melhor a classe *Fail*.Também precisamos estar atentos ao desbalaceamento no momento de dividir o *dataset* em partições de treino/teste de modo a preservar as proporções do alvo. O mesmo se aplica ao esquema de *Cross-Validation* que utilizaremos para avaliar o desempenho dos modelos. "
   ]
  },
  {
   "cell_type": "markdown",
   "metadata": {},
   "source": [
    "## 1.3 Avaliacao Preliminar do Poder Preditivo das Variáveis"
   ]
  },
  {
   "cell_type": "code",
   "execution_count": 19,
   "metadata": {},
   "outputs": [
    {
     "data": {
      "text/plain": [
       "['code_module',\n",
       " 'gender',\n",
       " 'region',\n",
       " 'highest_education',\n",
       " 'imd_band',\n",
       " 'age_band',\n",
       " 'disability',\n",
       " 'module_code']"
      ]
     },
     "execution_count": 19,
     "metadata": {},
     "output_type": "execute_result"
    }
   ],
   "source": [
    "categorical_cols = [col for col in data_first_experiment \n",
    "                    if data_first_experiment[col].dtype == 'object' and col != 'final_result']\n",
    "categorical_cols"
   ]
  },
  {
   "cell_type": "code",
   "execution_count": 20,
   "metadata": {},
   "outputs": [
    {
     "data": {
      "text/plain": [
       "['num_of_prev_attempts', 'studied_credits']"
      ]
     },
     "execution_count": 20,
     "metadata": {},
     "output_type": "execute_result"
    }
   ],
   "source": [
    "numerical_cols = [col for col in data_first_experiment if data_first_experiment[col].dtype != 'object']\n",
    "numerical_cols"
   ]
  },
  {
   "cell_type": "code",
   "execution_count": 21,
   "metadata": {},
   "outputs": [],
   "source": [
    "assert ((len(categorical_cols) + len(numerical_cols))) == (data_first_experiment.shape[1] -1) "
   ]
  },
  {
   "cell_type": "markdown",
   "metadata": {},
   "source": [
    "Mapearemos o alvo como : \n",
    "- *Pass* --> 0\n",
    "- *Fail* --> 1"
   ]
  },
  {
   "cell_type": "code",
   "execution_count": 22,
   "metadata": {},
   "outputs": [],
   "source": [
    "data_first_experiment['final_result'] = (\n",
    "                                            data_first_experiment['final_result']\n",
    "                                             .map({'Pass':0,'Fail':1})\n",
    "                                        )"
   ]
  },
  {
   "cell_type": "markdown",
   "metadata": {},
   "source": [
    "Abaixo temos uma tabela para cada valor das variáveis categóricas mostrando a porcentagem de alunos que falham no exame final (*mean*) bem como a razão entre essa taxa e a porcentagem geral de alunos reprovados (*rate*).\n",
    "\n",
    "Possíveis Valores de Rate:\n",
    "- Maior que 1.0: Mais alunos do que a média geral reprovam para aquele nivel categórico.\n",
    "- Menor que 1.0: Menos Alunos do que  a média geral reprovam para aquele nivel categórico.\n",
    "\n"
   ]
  },
  {
   "cell_type": "code",
   "execution_count": 23,
   "metadata": {},
   "outputs": [
    {
     "data": {
      "text/html": [
       "<div>\n",
       "<style scoped>\n",
       "    .dataframe tbody tr th:only-of-type {\n",
       "        vertical-align: middle;\n",
       "    }\n",
       "\n",
       "    .dataframe tbody tr th {\n",
       "        vertical-align: top;\n",
       "    }\n",
       "\n",
       "    .dataframe thead th {\n",
       "        text-align: right;\n",
       "    }\n",
       "</style>\n",
       "<table border=\"1\" class=\"dataframe\">\n",
       "  <thead>\n",
       "    <tr style=\"text-align: right;\">\n",
       "      <th></th>\n",
       "      <th>mean</th>\n",
       "      <th>rate</th>\n",
       "    </tr>\n",
       "    <tr>\n",
       "      <th>code_module</th>\n",
       "      <th></th>\n",
       "      <th></th>\n",
       "    </tr>\n",
       "  </thead>\n",
       "  <tbody>\n",
       "    <tr>\n",
       "      <th>DDD</th>\n",
       "      <td>0.351069</td>\n",
       "      <td>1.116979</td>\n",
       "    </tr>\n",
       "    <tr>\n",
       "      <th>GGG</th>\n",
       "      <td>0.324710</td>\n",
       "      <td>1.033114</td>\n",
       "    </tr>\n",
       "    <tr>\n",
       "      <th>BBB</th>\n",
       "      <td>0.320051</td>\n",
       "      <td>1.018290</td>\n",
       "    </tr>\n",
       "    <tr>\n",
       "      <th>FFF</th>\n",
       "      <td>0.319276</td>\n",
       "      <td>1.015825</td>\n",
       "    </tr>\n",
       "    <tr>\n",
       "      <th>CCC</th>\n",
       "      <td>0.317609</td>\n",
       "      <td>1.010520</td>\n",
       "    </tr>\n",
       "    <tr>\n",
       "      <th>EEE</th>\n",
       "      <td>0.254069</td>\n",
       "      <td>0.808358</td>\n",
       "    </tr>\n",
       "    <tr>\n",
       "      <th>AAA</th>\n",
       "      <td>0.146302</td>\n",
       "      <td>0.465483</td>\n",
       "    </tr>\n",
       "  </tbody>\n",
       "</table>\n",
       "</div>"
      ],
      "text/plain": [
       "                 mean      rate\n",
       "code_module                    \n",
       "DDD          0.351069  1.116979\n",
       "GGG          0.324710  1.033114\n",
       "BBB          0.320051  1.018290\n",
       "FFF          0.319276  1.015825\n",
       "CCC          0.317609  1.010520\n",
       "EEE          0.254069  0.808358\n",
       "AAA          0.146302  0.465483"
      ]
     },
     "metadata": {},
     "output_type": "display_data"
    },
    {
     "data": {
      "text/html": [
       "<div>\n",
       "<style scoped>\n",
       "    .dataframe tbody tr th:only-of-type {\n",
       "        vertical-align: middle;\n",
       "    }\n",
       "\n",
       "    .dataframe tbody tr th {\n",
       "        vertical-align: top;\n",
       "    }\n",
       "\n",
       "    .dataframe thead th {\n",
       "        text-align: right;\n",
       "    }\n",
       "</style>\n",
       "<table border=\"1\" class=\"dataframe\">\n",
       "  <thead>\n",
       "    <tr style=\"text-align: right;\">\n",
       "      <th></th>\n",
       "      <th>mean</th>\n",
       "      <th>rate</th>\n",
       "    </tr>\n",
       "    <tr>\n",
       "      <th>gender</th>\n",
       "      <th></th>\n",
       "      <th></th>\n",
       "    </tr>\n",
       "  </thead>\n",
       "  <tbody>\n",
       "    <tr>\n",
       "      <th>M</th>\n",
       "      <td>0.323556</td>\n",
       "      <td>1.029442</td>\n",
       "    </tr>\n",
       "    <tr>\n",
       "      <th>F</th>\n",
       "      <td>0.303264</td>\n",
       "      <td>0.964881</td>\n",
       "    </tr>\n",
       "  </tbody>\n",
       "</table>\n",
       "</div>"
      ],
      "text/plain": [
       "            mean      rate\n",
       "gender                    \n",
       "M       0.323556  1.029442\n",
       "F       0.303264  0.964881"
      ]
     },
     "metadata": {},
     "output_type": "display_data"
    },
    {
     "data": {
      "text/html": [
       "<div>\n",
       "<style scoped>\n",
       "    .dataframe tbody tr th:only-of-type {\n",
       "        vertical-align: middle;\n",
       "    }\n",
       "\n",
       "    .dataframe tbody tr th {\n",
       "        vertical-align: top;\n",
       "    }\n",
       "\n",
       "    .dataframe thead th {\n",
       "        text-align: right;\n",
       "    }\n",
       "</style>\n",
       "<table border=\"1\" class=\"dataframe\">\n",
       "  <thead>\n",
       "    <tr style=\"text-align: right;\">\n",
       "      <th></th>\n",
       "      <th>mean</th>\n",
       "      <th>rate</th>\n",
       "    </tr>\n",
       "    <tr>\n",
       "      <th>region</th>\n",
       "      <th></th>\n",
       "      <th></th>\n",
       "    </tr>\n",
       "  </thead>\n",
       "  <tbody>\n",
       "    <tr>\n",
       "      <th>Wales</th>\n",
       "      <td>0.396927</td>\n",
       "      <td>1.262883</td>\n",
       "    </tr>\n",
       "    <tr>\n",
       "      <th>North Western Region</th>\n",
       "      <td>0.376068</td>\n",
       "      <td>1.196518</td>\n",
       "    </tr>\n",
       "    <tr>\n",
       "      <th>London Region</th>\n",
       "      <td>0.353276</td>\n",
       "      <td>1.124002</td>\n",
       "    </tr>\n",
       "    <tr>\n",
       "      <th>Scotland</th>\n",
       "      <td>0.335565</td>\n",
       "      <td>1.067651</td>\n",
       "    </tr>\n",
       "    <tr>\n",
       "      <th>Yorkshire Region</th>\n",
       "      <td>0.332839</td>\n",
       "      <td>1.058978</td>\n",
       "    </tr>\n",
       "    <tr>\n",
       "      <th>West Midlands Region</th>\n",
       "      <td>0.330138</td>\n",
       "      <td>1.050383</td>\n",
       "    </tr>\n",
       "    <tr>\n",
       "      <th>East Midlands Region</th>\n",
       "      <td>0.299417</td>\n",
       "      <td>0.952639</td>\n",
       "    </tr>\n",
       "    <tr>\n",
       "      <th>East Anglian Region</th>\n",
       "      <td>0.299057</td>\n",
       "      <td>0.951496</td>\n",
       "    </tr>\n",
       "    <tr>\n",
       "      <th>Ireland</th>\n",
       "      <td>0.286498</td>\n",
       "      <td>0.911538</td>\n",
       "    </tr>\n",
       "    <tr>\n",
       "      <th>South West Region</th>\n",
       "      <td>0.277116</td>\n",
       "      <td>0.881685</td>\n",
       "    </tr>\n",
       "    <tr>\n",
       "      <th>North Region</th>\n",
       "      <td>0.262019</td>\n",
       "      <td>0.833654</td>\n",
       "    </tr>\n",
       "    <tr>\n",
       "      <th>South East Region</th>\n",
       "      <td>0.256498</td>\n",
       "      <td>0.816087</td>\n",
       "    </tr>\n",
       "    <tr>\n",
       "      <th>South Region</th>\n",
       "      <td>0.251386</td>\n",
       "      <td>0.799823</td>\n",
       "    </tr>\n",
       "  </tbody>\n",
       "</table>\n",
       "</div>"
      ],
      "text/plain": [
       "                          mean      rate\n",
       "region                                  \n",
       "Wales                 0.396927  1.262883\n",
       "North Western Region  0.376068  1.196518\n",
       "London Region         0.353276  1.124002\n",
       "Scotland              0.335565  1.067651\n",
       "Yorkshire Region      0.332839  1.058978\n",
       "West Midlands Region  0.330138  1.050383\n",
       "East Midlands Region  0.299417  0.952639\n",
       "East Anglian Region   0.299057  0.951496\n",
       "Ireland               0.286498  0.911538\n",
       "South West Region     0.277116  0.881685\n",
       "North Region          0.262019  0.833654\n",
       "South East Region     0.256498  0.816087\n",
       "South Region          0.251386  0.799823"
      ]
     },
     "metadata": {},
     "output_type": "display_data"
    },
    {
     "data": {
      "text/html": [
       "<div>\n",
       "<style scoped>\n",
       "    .dataframe tbody tr th:only-of-type {\n",
       "        vertical-align: middle;\n",
       "    }\n",
       "\n",
       "    .dataframe tbody tr th {\n",
       "        vertical-align: top;\n",
       "    }\n",
       "\n",
       "    .dataframe thead th {\n",
       "        text-align: right;\n",
       "    }\n",
       "</style>\n",
       "<table border=\"1\" class=\"dataframe\">\n",
       "  <thead>\n",
       "    <tr style=\"text-align: right;\">\n",
       "      <th></th>\n",
       "      <th>mean</th>\n",
       "      <th>rate</th>\n",
       "    </tr>\n",
       "    <tr>\n",
       "      <th>highest_education</th>\n",
       "      <th></th>\n",
       "      <th></th>\n",
       "    </tr>\n",
       "  </thead>\n",
       "  <tbody>\n",
       "    <tr>\n",
       "      <th>No Formal quals</th>\n",
       "      <td>0.479798</td>\n",
       "      <td>1.526550</td>\n",
       "    </tr>\n",
       "    <tr>\n",
       "      <th>Lower Than A Level</th>\n",
       "      <td>0.401265</td>\n",
       "      <td>1.276685</td>\n",
       "    </tr>\n",
       "    <tr>\n",
       "      <th>A Level or Equivalent</th>\n",
       "      <td>0.270295</td>\n",
       "      <td>0.859983</td>\n",
       "    </tr>\n",
       "    <tr>\n",
       "      <th>HE Qualification</th>\n",
       "      <td>0.229185</td>\n",
       "      <td>0.729186</td>\n",
       "    </tr>\n",
       "    <tr>\n",
       "      <th>Post Graduate Qualification</th>\n",
       "      <td>0.142259</td>\n",
       "      <td>0.452620</td>\n",
       "    </tr>\n",
       "  </tbody>\n",
       "</table>\n",
       "</div>"
      ],
      "text/plain": [
       "                                 mean      rate\n",
       "highest_education                              \n",
       "No Formal quals              0.479798  1.526550\n",
       "Lower Than A Level           0.401265  1.276685\n",
       "A Level or Equivalent        0.270295  0.859983\n",
       "HE Qualification             0.229185  0.729186\n",
       "Post Graduate Qualification  0.142259  0.452620"
      ]
     },
     "metadata": {},
     "output_type": "display_data"
    },
    {
     "data": {
      "text/html": [
       "<div>\n",
       "<style scoped>\n",
       "    .dataframe tbody tr th:only-of-type {\n",
       "        vertical-align: middle;\n",
       "    }\n",
       "\n",
       "    .dataframe tbody tr th {\n",
       "        vertical-align: top;\n",
       "    }\n",
       "\n",
       "    .dataframe thead th {\n",
       "        text-align: right;\n",
       "    }\n",
       "</style>\n",
       "<table border=\"1\" class=\"dataframe\">\n",
       "  <thead>\n",
       "    <tr style=\"text-align: right;\">\n",
       "      <th></th>\n",
       "      <th>mean</th>\n",
       "      <th>rate</th>\n",
       "    </tr>\n",
       "    <tr>\n",
       "      <th>imd_band</th>\n",
       "      <th></th>\n",
       "      <th></th>\n",
       "    </tr>\n",
       "  </thead>\n",
       "  <tbody>\n",
       "    <tr>\n",
       "      <th>0-10%</th>\n",
       "      <td>0.440385</td>\n",
       "      <td>1.401150</td>\n",
       "    </tr>\n",
       "    <tr>\n",
       "      <th>10-20</th>\n",
       "      <td>0.401762</td>\n",
       "      <td>1.278267</td>\n",
       "    </tr>\n",
       "    <tr>\n",
       "      <th>20-30%</th>\n",
       "      <td>0.361766</td>\n",
       "      <td>1.151013</td>\n",
       "    </tr>\n",
       "    <tr>\n",
       "      <th>30-40%</th>\n",
       "      <td>0.320786</td>\n",
       "      <td>1.020628</td>\n",
       "    </tr>\n",
       "    <tr>\n",
       "      <th>50-60%</th>\n",
       "      <td>0.315056</td>\n",
       "      <td>1.002399</td>\n",
       "    </tr>\n",
       "    <tr>\n",
       "      <th>40-50%</th>\n",
       "      <td>0.314815</td>\n",
       "      <td>1.001631</td>\n",
       "    </tr>\n",
       "    <tr>\n",
       "      <th>70-80%</th>\n",
       "      <td>0.287704</td>\n",
       "      <td>0.915374</td>\n",
       "    </tr>\n",
       "    <tr>\n",
       "      <th>60-70%</th>\n",
       "      <td>0.262952</td>\n",
       "      <td>0.836622</td>\n",
       "    </tr>\n",
       "    <tr>\n",
       "      <th>80-90%</th>\n",
       "      <td>0.248994</td>\n",
       "      <td>0.792212</td>\n",
       "    </tr>\n",
       "    <tr>\n",
       "      <th>90-100%</th>\n",
       "      <td>0.223936</td>\n",
       "      <td>0.712487</td>\n",
       "    </tr>\n",
       "  </tbody>\n",
       "</table>\n",
       "</div>"
      ],
      "text/plain": [
       "              mean      rate\n",
       "imd_band                    \n",
       "0-10%     0.440385  1.401150\n",
       "10-20     0.401762  1.278267\n",
       "20-30%    0.361766  1.151013\n",
       "30-40%    0.320786  1.020628\n",
       "50-60%    0.315056  1.002399\n",
       "40-50%    0.314815  1.001631\n",
       "70-80%    0.287704  0.915374\n",
       "60-70%    0.262952  0.836622\n",
       "80-90%    0.248994  0.792212\n",
       "90-100%   0.223936  0.712487"
      ]
     },
     "metadata": {},
     "output_type": "display_data"
    },
    {
     "data": {
      "text/html": [
       "<div>\n",
       "<style scoped>\n",
       "    .dataframe tbody tr th:only-of-type {\n",
       "        vertical-align: middle;\n",
       "    }\n",
       "\n",
       "    .dataframe tbody tr th {\n",
       "        vertical-align: top;\n",
       "    }\n",
       "\n",
       "    .dataframe thead th {\n",
       "        text-align: right;\n",
       "    }\n",
       "</style>\n",
       "<table border=\"1\" class=\"dataframe\">\n",
       "  <thead>\n",
       "    <tr style=\"text-align: right;\">\n",
       "      <th></th>\n",
       "      <th>mean</th>\n",
       "      <th>rate</th>\n",
       "    </tr>\n",
       "    <tr>\n",
       "      <th>age_band</th>\n",
       "      <th></th>\n",
       "      <th></th>\n",
       "    </tr>\n",
       "  </thead>\n",
       "  <tbody>\n",
       "    <tr>\n",
       "      <th>0-35</th>\n",
       "      <td>0.336118</td>\n",
       "      <td>1.069409</td>\n",
       "    </tr>\n",
       "    <tr>\n",
       "      <th>35-55</th>\n",
       "      <td>0.266985</td>\n",
       "      <td>0.849451</td>\n",
       "    </tr>\n",
       "    <tr>\n",
       "      <th>55&lt;=</th>\n",
       "      <td>0.179012</td>\n",
       "      <td>0.569555</td>\n",
       "    </tr>\n",
       "  </tbody>\n",
       "</table>\n",
       "</div>"
      ],
      "text/plain": [
       "              mean      rate\n",
       "age_band                    \n",
       "0-35      0.336118  1.069409\n",
       "35-55     0.266985  0.849451\n",
       "55<=      0.179012  0.569555"
      ]
     },
     "metadata": {},
     "output_type": "display_data"
    },
    {
     "data": {
      "text/html": [
       "<div>\n",
       "<style scoped>\n",
       "    .dataframe tbody tr th:only-of-type {\n",
       "        vertical-align: middle;\n",
       "    }\n",
       "\n",
       "    .dataframe tbody tr th {\n",
       "        vertical-align: top;\n",
       "    }\n",
       "\n",
       "    .dataframe thead th {\n",
       "        text-align: right;\n",
       "    }\n",
       "</style>\n",
       "<table border=\"1\" class=\"dataframe\">\n",
       "  <thead>\n",
       "    <tr style=\"text-align: right;\">\n",
       "      <th></th>\n",
       "      <th>mean</th>\n",
       "      <th>rate</th>\n",
       "    </tr>\n",
       "    <tr>\n",
       "      <th>disability</th>\n",
       "      <th></th>\n",
       "      <th></th>\n",
       "    </tr>\n",
       "  </thead>\n",
       "  <tbody>\n",
       "    <tr>\n",
       "      <th>Y</th>\n",
       "      <td>0.371027</td>\n",
       "      <td>1.180477</td>\n",
       "    </tr>\n",
       "    <tr>\n",
       "      <th>N</th>\n",
       "      <td>0.308997</td>\n",
       "      <td>0.983120</td>\n",
       "    </tr>\n",
       "  </tbody>\n",
       "</table>\n",
       "</div>"
      ],
      "text/plain": [
       "                mean      rate\n",
       "disability                    \n",
       "Y           0.371027  1.180477\n",
       "N           0.308997  0.983120"
      ]
     },
     "metadata": {},
     "output_type": "display_data"
    },
    {
     "data": {
      "text/html": [
       "<div>\n",
       "<style scoped>\n",
       "    .dataframe tbody tr th:only-of-type {\n",
       "        vertical-align: middle;\n",
       "    }\n",
       "\n",
       "    .dataframe tbody tr th {\n",
       "        vertical-align: top;\n",
       "    }\n",
       "\n",
       "    .dataframe thead th {\n",
       "        text-align: right;\n",
       "    }\n",
       "</style>\n",
       "<table border=\"1\" class=\"dataframe\">\n",
       "  <thead>\n",
       "    <tr style=\"text-align: right;\">\n",
       "      <th></th>\n",
       "      <th>mean</th>\n",
       "      <th>rate</th>\n",
       "    </tr>\n",
       "    <tr>\n",
       "      <th>module_code</th>\n",
       "      <th></th>\n",
       "      <th></th>\n",
       "    </tr>\n",
       "  </thead>\n",
       "  <tbody>\n",
       "    <tr>\n",
       "      <th>B</th>\n",
       "      <td>0.360502</td>\n",
       "      <td>1.146991</td>\n",
       "    </tr>\n",
       "    <tr>\n",
       "      <th>J</th>\n",
       "      <td>0.285981</td>\n",
       "      <td>0.909893</td>\n",
       "    </tr>\n",
       "  </tbody>\n",
       "</table>\n",
       "</div>"
      ],
      "text/plain": [
       "                 mean      rate\n",
       "module_code                    \n",
       "B            0.360502  1.146991\n",
       "J            0.285981  0.909893"
      ]
     },
     "metadata": {},
     "output_type": "display_data"
    }
   ],
   "source": [
    "categorical_mean(data_first_experiment,categorical_cols,'final_result')"
   ]
  },
  {
   "cell_type": "markdown",
   "metadata": {},
   "source": [
    "Podemos verificar que para as diferentes categóricas tomadas isoladamente, ha um claro poder preditivo, pois os diferentes niveis mostram uma dispersão significativa de médias de reprovação. Ao analisarmos a variavel highest_education podemos ver claramente que estudantes sem educação formal (No Formal quals) possuem uma taxa de falha no exame final (~ 48%) muito maior do que os alunos com pos-graduação (~14%). Os módulos iniciados em outubro possuem taxa de reprovação de 28.6% enquanto os iniciados em fevereiro reprovam 36%. Muitos insights podem ser derivados dessas tabelas."
   ]
  },
  {
   "cell_type": "markdown",
   "metadata": {},
   "source": [
    "## 1.4 Partição dos Dados em Treino e Teste"
   ]
  },
  {
   "cell_type": "markdown",
   "metadata": {},
   "source": [
    "Faremos uma partição nos dados em um grupo de treino e outro de teste. O grupo de treino sera utilizado para aprendermos os parâmetros do modelo bem como realizaremos um esquema de *cross-validation* para seleção dos melhores hiperparametros para avaliar eventuais melhorias de desempenho no modelo quando acrescentarmos mais atributos. O grupo de teste sera utilizado apenas uma única vez ao final de todos os experimentos para termos uma estimativa sem vies do desempenho do modelo a ser utilizado na solução do problema de negócio."
   ]
  },
  {
   "cell_type": "markdown",
   "metadata": {},
   "source": [
    "O esquema de *cross-validation* escolhido preserva a prevalência de estudantes que falham no exame final (~ 30%). Separaremos 10% das observações para o grupo de teste."
   ]
  },
  {
   "cell_type": "code",
   "execution_count": 24,
   "metadata": {},
   "outputs": [],
   "source": [
    "X = data_first_experiment.drop('final_result',axis = 'columns')\n",
    "y = data_first_experiment['final_result']\n",
    "\n",
    "assert X.shape[0] == y.shape[0]"
   ]
  },
  {
   "cell_type": "code",
   "execution_count": 25,
   "metadata": {},
   "outputs": [],
   "source": [
    "X_train, _, y_train, _ = train_test_split(\n",
    "                                         X,\n",
    "                                         y,\n",
    "                                         test_size = TEST_SIZE,\n",
    "                                         random_state= RANDOM_SEED,\n",
    "                                         stratify = y\n",
    "                                        )\n",
    "\n",
    "assert X_train.shape[0] == y_train.shape[0]"
   ]
  },
  {
   "cell_type": "markdown",
   "metadata": {},
   "source": [
    "## 1.5 Pipeline de Transformações"
   ]
  },
  {
   "cell_type": "markdown",
   "metadata": {},
   "source": [
    "Precisamos preparar nossos dados para usarmos a biblioteca Scikit-learn, pois esta trabalha apenas com *Numpy Arrays*."
   ]
  },
  {
   "cell_type": "code",
   "execution_count": 26,
   "metadata": {},
   "outputs": [],
   "source": [
    "# Transformacoes \n",
    "ohe = OneHotEncoder(handle_unknown = 'ignore') \n",
    "imputer_cat = SimpleImputer(strategy = 'constant',fill_value='Missing',add_indicator=True)\n",
    "imputer_num = SimpleImputer(strategy = 'median',add_indicator=True)"
   ]
  },
  {
   "cell_type": "code",
   "execution_count": 27,
   "metadata": {},
   "outputs": [],
   "source": [
    "# Pipeline\n",
    "cat_pipeline = make_pipeline(imputer_cat,ohe)"
   ]
  },
  {
   "cell_type": "code",
   "execution_count": 28,
   "metadata": {},
   "outputs": [
    {
     "data": {
      "text/html": [
       "<style>div.sk-top-container {color: black;background-color: white;}div.sk-toggleable {background-color: white;}label.sk-toggleable__label {cursor: pointer;display: block;width: 100%;margin-bottom: 0;padding: 0.2em 0.3em;box-sizing: border-box;text-align: center;}div.sk-toggleable__content {max-height: 0;max-width: 0;overflow: hidden;text-align: left;background-color: #f0f8ff;}div.sk-toggleable__content pre {margin: 0.2em;color: black;border-radius: 0.25em;background-color: #f0f8ff;}input.sk-toggleable__control:checked~div.sk-toggleable__content {max-height: 200px;max-width: 100%;overflow: auto;}div.sk-estimator input.sk-toggleable__control:checked~label.sk-toggleable__label {background-color: #d4ebff;}div.sk-label input.sk-toggleable__control:checked~label.sk-toggleable__label {background-color: #d4ebff;}input.sk-hidden--visually {border: 0;clip: rect(1px 1px 1px 1px);clip: rect(1px, 1px, 1px, 1px);height: 1px;margin: -1px;overflow: hidden;padding: 0;position: absolute;width: 1px;}div.sk-estimator {font-family: monospace;background-color: #f0f8ff;margin: 0.25em 0.25em;border: 1px dotted black;border-radius: 0.25em;box-sizing: border-box;}div.sk-estimator:hover {background-color: #d4ebff;}div.sk-parallel-item::after {content: \"\";width: 100%;border-bottom: 1px solid gray;flex-grow: 1;}div.sk-label:hover label.sk-toggleable__label {background-color: #d4ebff;}div.sk-serial::before {content: \"\";position: absolute;border-left: 1px solid gray;box-sizing: border-box;top: 2em;bottom: 0;left: 50%;}div.sk-serial {display: flex;flex-direction: column;align-items: center;background-color: white;}div.sk-item {z-index: 1;}div.sk-parallel {display: flex;align-items: stretch;justify-content: center;background-color: white;}div.sk-parallel-item {display: flex;flex-direction: column;position: relative;background-color: white;}div.sk-parallel-item:first-child::after {align-self: flex-end;width: 50%;}div.sk-parallel-item:last-child::after {align-self: flex-start;width: 50%;}div.sk-parallel-item:only-child::after {width: 0;}div.sk-dashed-wrapped {border: 1px dashed gray;margin: 0.2em;box-sizing: border-box;padding-bottom: 0.1em;background-color: white;position: relative;}div.sk-label label {font-family: monospace;font-weight: bold;background-color: white;display: inline-block;line-height: 1.2em;}div.sk-label-container {position: relative;z-index: 2;text-align: center;}div.sk-container {display: inline-block;position: relative;}</style><div class=\"sk-top-container\"><div class=\"sk-container\"><div class=\"sk-item sk-dashed-wrapped\"><div class=\"sk-label-container\"><div class=\"sk-label sk-toggleable\"><input class=\"sk-toggleable__control sk-hidden--visually\" id=\"7895dd7b-fc35-4aee-977a-4720da0df09a\" type=\"checkbox\" ><label class=\"sk-toggleable__label\" for=\"7895dd7b-fc35-4aee-977a-4720da0df09a\">ColumnTransformer</label><div class=\"sk-toggleable__content\"><pre>ColumnTransformer(transformers=[('pipeline',\n",
       "                                 Pipeline(steps=[('simpleimputer',\n",
       "                                                  SimpleImputer(add_indicator=True,\n",
       "                                                                fill_value='Missing',\n",
       "                                                                strategy='constant')),\n",
       "                                                 ('onehotencoder',\n",
       "                                                  OneHotEncoder(handle_unknown='ignore'))]),\n",
       "                                 ['code_module', 'gender', 'region',\n",
       "                                  'highest_education', 'imd_band', 'age_band',\n",
       "                                  'disability', 'module_code']),\n",
       "                                ('simpleimputer',\n",
       "                                 SimpleImputer(add_indicator=True,\n",
       "                                               strategy='median'),\n",
       "                                 ['num_of_prev_attempts', 'studied_credits'])])</pre></div></div></div><div class=\"sk-parallel\"><div class=\"sk-parallel-item\"><div class=\"sk-item\"><div class=\"sk-label-container\"><div class=\"sk-label sk-toggleable\"><input class=\"sk-toggleable__control sk-hidden--visually\" id=\"736f34bf-9b37-49a5-a05e-ce805b12b1ad\" type=\"checkbox\" ><label class=\"sk-toggleable__label\" for=\"736f34bf-9b37-49a5-a05e-ce805b12b1ad\">pipeline</label><div class=\"sk-toggleable__content\"><pre>['code_module', 'gender', 'region', 'highest_education', 'imd_band', 'age_band', 'disability', 'module_code']</pre></div></div></div><div class=\"sk-serial\"><div class=\"sk-item\"><div class=\"sk-serial\"><div class=\"sk-item\"><div class=\"sk-estimator sk-toggleable\"><input class=\"sk-toggleable__control sk-hidden--visually\" id=\"476798c3-27b5-4506-b174-ab1845c02fa6\" type=\"checkbox\" ><label class=\"sk-toggleable__label\" for=\"476798c3-27b5-4506-b174-ab1845c02fa6\">SimpleImputer</label><div class=\"sk-toggleable__content\"><pre>SimpleImputer(add_indicator=True, fill_value='Missing', strategy='constant')</pre></div></div></div><div class=\"sk-item\"><div class=\"sk-estimator sk-toggleable\"><input class=\"sk-toggleable__control sk-hidden--visually\" id=\"07d17343-9a6f-4c14-ba18-4f41f1d117e4\" type=\"checkbox\" ><label class=\"sk-toggleable__label\" for=\"07d17343-9a6f-4c14-ba18-4f41f1d117e4\">OneHotEncoder</label><div class=\"sk-toggleable__content\"><pre>OneHotEncoder(handle_unknown='ignore')</pre></div></div></div></div></div></div></div></div><div class=\"sk-parallel-item\"><div class=\"sk-item\"><div class=\"sk-label-container\"><div class=\"sk-label sk-toggleable\"><input class=\"sk-toggleable__control sk-hidden--visually\" id=\"14515762-435f-4c51-aae3-0ab3719b3c93\" type=\"checkbox\" ><label class=\"sk-toggleable__label\" for=\"14515762-435f-4c51-aae3-0ab3719b3c93\">simpleimputer</label><div class=\"sk-toggleable__content\"><pre>['num_of_prev_attempts', 'studied_credits']</pre></div></div></div><div class=\"sk-serial\"><div class=\"sk-item\"><div class=\"sk-estimator sk-toggleable\"><input class=\"sk-toggleable__control sk-hidden--visually\" id=\"8e323a97-eb11-4db7-abcf-efaefb4d0ae4\" type=\"checkbox\" ><label class=\"sk-toggleable__label\" for=\"8e323a97-eb11-4db7-abcf-efaefb4d0ae4\">SimpleImputer</label><div class=\"sk-toggleable__content\"><pre>SimpleImputer(add_indicator=True, strategy='median')</pre></div></div></div></div></div></div></div></div></div></div>"
      ],
      "text/plain": [
       "ColumnTransformer(transformers=[('pipeline',\n",
       "                                 Pipeline(steps=[('simpleimputer',\n",
       "                                                  SimpleImputer(add_indicator=True,\n",
       "                                                                fill_value='Missing',\n",
       "                                                                strategy='constant')),\n",
       "                                                 ('onehotencoder',\n",
       "                                                  OneHotEncoder(handle_unknown='ignore'))]),\n",
       "                                 ['code_module', 'gender', 'region',\n",
       "                                  'highest_education', 'imd_band', 'age_band',\n",
       "                                  'disability', 'module_code']),\n",
       "                                ('simpleimputer',\n",
       "                                 SimpleImputer(add_indicator=True,\n",
       "                                               strategy='median'),\n",
       "                                 ['num_of_prev_attempts', 'studied_credits'])])"
      ]
     },
     "execution_count": 28,
     "metadata": {},
     "output_type": "execute_result"
    }
   ],
   "source": [
    "first_experiment_pipeline = make_column_transformer(\n",
    "                                                    (cat_pipeline,categorical_cols),\n",
    "                                                    (imputer_num,numerical_cols)\n",
    "                                                    )\n",
    "\n",
    "first_experiment_pipeline"
   ]
  },
  {
   "cell_type": "markdown",
   "metadata": {},
   "source": [
    "### 1.1.4 Classificador *Random Forest*"
   ]
  },
  {
   "cell_type": "markdown",
   "metadata": {},
   "source": [
    "Selecionamos Random Forests como nosso classificador para os experimentos por algumas razoes:\n",
    "\n",
    "- Modelo captura interações entre variáveis/nao-linearidades automaticamente.\n",
    "- Nenhuma hipótese a respeito da distribuição dos dados precisa ser satisfeita.\n",
    "- Treinamento do modelo escala bem com o número de observações.\n",
    "- Pouca necessidade de tunning exaustivo de hiperparametros.\n",
    "- Em geral tem desempenho bastante forte para produzir provas de conceito de soluções."
   ]
  },
  {
   "cell_type": "code",
   "execution_count": 29,
   "metadata": {},
   "outputs": [
    {
     "data": {
      "text/html": [
       "<style>div.sk-top-container {color: black;background-color: white;}div.sk-toggleable {background-color: white;}label.sk-toggleable__label {cursor: pointer;display: block;width: 100%;margin-bottom: 0;padding: 0.2em 0.3em;box-sizing: border-box;text-align: center;}div.sk-toggleable__content {max-height: 0;max-width: 0;overflow: hidden;text-align: left;background-color: #f0f8ff;}div.sk-toggleable__content pre {margin: 0.2em;color: black;border-radius: 0.25em;background-color: #f0f8ff;}input.sk-toggleable__control:checked~div.sk-toggleable__content {max-height: 200px;max-width: 100%;overflow: auto;}div.sk-estimator input.sk-toggleable__control:checked~label.sk-toggleable__label {background-color: #d4ebff;}div.sk-label input.sk-toggleable__control:checked~label.sk-toggleable__label {background-color: #d4ebff;}input.sk-hidden--visually {border: 0;clip: rect(1px 1px 1px 1px);clip: rect(1px, 1px, 1px, 1px);height: 1px;margin: -1px;overflow: hidden;padding: 0;position: absolute;width: 1px;}div.sk-estimator {font-family: monospace;background-color: #f0f8ff;margin: 0.25em 0.25em;border: 1px dotted black;border-radius: 0.25em;box-sizing: border-box;}div.sk-estimator:hover {background-color: #d4ebff;}div.sk-parallel-item::after {content: \"\";width: 100%;border-bottom: 1px solid gray;flex-grow: 1;}div.sk-label:hover label.sk-toggleable__label {background-color: #d4ebff;}div.sk-serial::before {content: \"\";position: absolute;border-left: 1px solid gray;box-sizing: border-box;top: 2em;bottom: 0;left: 50%;}div.sk-serial {display: flex;flex-direction: column;align-items: center;background-color: white;}div.sk-item {z-index: 1;}div.sk-parallel {display: flex;align-items: stretch;justify-content: center;background-color: white;}div.sk-parallel-item {display: flex;flex-direction: column;position: relative;background-color: white;}div.sk-parallel-item:first-child::after {align-self: flex-end;width: 50%;}div.sk-parallel-item:last-child::after {align-self: flex-start;width: 50%;}div.sk-parallel-item:only-child::after {width: 0;}div.sk-dashed-wrapped {border: 1px dashed gray;margin: 0.2em;box-sizing: border-box;padding-bottom: 0.1em;background-color: white;position: relative;}div.sk-label label {font-family: monospace;font-weight: bold;background-color: white;display: inline-block;line-height: 1.2em;}div.sk-label-container {position: relative;z-index: 2;text-align: center;}div.sk-container {display: inline-block;position: relative;}</style><div class=\"sk-top-container\"><div class=\"sk-container\"><div class=\"sk-item sk-dashed-wrapped\"><div class=\"sk-label-container\"><div class=\"sk-label sk-toggleable\"><input class=\"sk-toggleable__control sk-hidden--visually\" id=\"5a2cdc79-f401-41e1-9625-f9028ef0d4d5\" type=\"checkbox\" ><label class=\"sk-toggleable__label\" for=\"5a2cdc79-f401-41e1-9625-f9028ef0d4d5\">Pipeline</label><div class=\"sk-toggleable__content\"><pre>Pipeline(steps=[('columntransformer',\n",
       "                 ColumnTransformer(transformers=[('pipeline',\n",
       "                                                  Pipeline(steps=[('simpleimputer',\n",
       "                                                                   SimpleImputer(add_indicator=True,\n",
       "                                                                                 fill_value='Missing',\n",
       "                                                                                 strategy='constant')),\n",
       "                                                                  ('onehotencoder',\n",
       "                                                                   OneHotEncoder(handle_unknown='ignore'))]),\n",
       "                                                  ['code_module', 'gender',\n",
       "                                                   'region',\n",
       "                                                   'highest_education',\n",
       "                                                   'imd_band', 'age_band',\n",
       "                                                   'disability',\n",
       "                                                   'module_code']),\n",
       "                                                 ('simpleimputer',\n",
       "                                                  SimpleImputer(add_indicator=True,\n",
       "                                                                strategy='median'),\n",
       "                                                  ['num_of_prev_attempts',\n",
       "                                                   'studied_credits'])])),\n",
       "                ('randomforestclassifier',\n",
       "                 RandomForestClassifier(class_weight='balanced',\n",
       "                                        max_features='sqrt', n_estimators=500,\n",
       "                                        random_state=42))])</pre></div></div></div><div class=\"sk-serial\"><div class=\"sk-item sk-dashed-wrapped\"><div class=\"sk-label-container\"><div class=\"sk-label sk-toggleable\"><input class=\"sk-toggleable__control sk-hidden--visually\" id=\"87e60d93-88a4-4e16-99f0-ecb4aa522203\" type=\"checkbox\" ><label class=\"sk-toggleable__label\" for=\"87e60d93-88a4-4e16-99f0-ecb4aa522203\">columntransformer: ColumnTransformer</label><div class=\"sk-toggleable__content\"><pre>ColumnTransformer(transformers=[('pipeline',\n",
       "                                 Pipeline(steps=[('simpleimputer',\n",
       "                                                  SimpleImputer(add_indicator=True,\n",
       "                                                                fill_value='Missing',\n",
       "                                                                strategy='constant')),\n",
       "                                                 ('onehotencoder',\n",
       "                                                  OneHotEncoder(handle_unknown='ignore'))]),\n",
       "                                 ['code_module', 'gender', 'region',\n",
       "                                  'highest_education', 'imd_band', 'age_band',\n",
       "                                  'disability', 'module_code']),\n",
       "                                ('simpleimputer',\n",
       "                                 SimpleImputer(add_indicator=True,\n",
       "                                               strategy='median'),\n",
       "                                 ['num_of_prev_attempts', 'studied_credits'])])</pre></div></div></div><div class=\"sk-parallel\"><div class=\"sk-parallel-item\"><div class=\"sk-item\"><div class=\"sk-label-container\"><div class=\"sk-label sk-toggleable\"><input class=\"sk-toggleable__control sk-hidden--visually\" id=\"7a784f5d-78a3-4293-9f92-ed1b7f4aa910\" type=\"checkbox\" ><label class=\"sk-toggleable__label\" for=\"7a784f5d-78a3-4293-9f92-ed1b7f4aa910\">pipeline</label><div class=\"sk-toggleable__content\"><pre>['code_module', 'gender', 'region', 'highest_education', 'imd_band', 'age_band', 'disability', 'module_code']</pre></div></div></div><div class=\"sk-serial\"><div class=\"sk-item\"><div class=\"sk-serial\"><div class=\"sk-item\"><div class=\"sk-estimator sk-toggleable\"><input class=\"sk-toggleable__control sk-hidden--visually\" id=\"03baea84-1cfc-47a5-9e07-e707746dd8d2\" type=\"checkbox\" ><label class=\"sk-toggleable__label\" for=\"03baea84-1cfc-47a5-9e07-e707746dd8d2\">SimpleImputer</label><div class=\"sk-toggleable__content\"><pre>SimpleImputer(add_indicator=True, fill_value='Missing', strategy='constant')</pre></div></div></div><div class=\"sk-item\"><div class=\"sk-estimator sk-toggleable\"><input class=\"sk-toggleable__control sk-hidden--visually\" id=\"1b5a8ceb-556e-4447-9458-078ae963d7a4\" type=\"checkbox\" ><label class=\"sk-toggleable__label\" for=\"1b5a8ceb-556e-4447-9458-078ae963d7a4\">OneHotEncoder</label><div class=\"sk-toggleable__content\"><pre>OneHotEncoder(handle_unknown='ignore')</pre></div></div></div></div></div></div></div></div><div class=\"sk-parallel-item\"><div class=\"sk-item\"><div class=\"sk-label-container\"><div class=\"sk-label sk-toggleable\"><input class=\"sk-toggleable__control sk-hidden--visually\" id=\"53d529b4-1c53-4894-8691-b924543705f2\" type=\"checkbox\" ><label class=\"sk-toggleable__label\" for=\"53d529b4-1c53-4894-8691-b924543705f2\">simpleimputer</label><div class=\"sk-toggleable__content\"><pre>['num_of_prev_attempts', 'studied_credits']</pre></div></div></div><div class=\"sk-serial\"><div class=\"sk-item\"><div class=\"sk-estimator sk-toggleable\"><input class=\"sk-toggleable__control sk-hidden--visually\" id=\"186bb887-6b11-4623-82d0-ff6bc1bca458\" type=\"checkbox\" ><label class=\"sk-toggleable__label\" for=\"186bb887-6b11-4623-82d0-ff6bc1bca458\">SimpleImputer</label><div class=\"sk-toggleable__content\"><pre>SimpleImputer(add_indicator=True, strategy='median')</pre></div></div></div></div></div></div></div></div><div class=\"sk-item\"><div class=\"sk-estimator sk-toggleable\"><input class=\"sk-toggleable__control sk-hidden--visually\" id=\"2b3b394e-45b1-44e5-a9da-5ebe570e2df9\" type=\"checkbox\" ><label class=\"sk-toggleable__label\" for=\"2b3b394e-45b1-44e5-a9da-5ebe570e2df9\">RandomForestClassifier</label><div class=\"sk-toggleable__content\"><pre>RandomForestClassifier(class_weight='balanced', max_features='sqrt',\n",
       "                       n_estimators=500, random_state=42)</pre></div></div></div></div></div></div></div>"
      ],
      "text/plain": [
       "Pipeline(steps=[('columntransformer',\n",
       "                 ColumnTransformer(transformers=[('pipeline',\n",
       "                                                  Pipeline(steps=[('simpleimputer',\n",
       "                                                                   SimpleImputer(add_indicator=True,\n",
       "                                                                                 fill_value='Missing',\n",
       "                                                                                 strategy='constant')),\n",
       "                                                                  ('onehotencoder',\n",
       "                                                                   OneHotEncoder(handle_unknown='ignore'))]),\n",
       "                                                  ['code_module', 'gender',\n",
       "                                                   'region',\n",
       "                                                   'highest_education',\n",
       "                                                   'imd_band', 'age_band',\n",
       "                                                   'disability',\n",
       "                                                   'module_code']),\n",
       "                                                 ('simpleimputer',\n",
       "                                                  SimpleImputer(add_indicator=True,\n",
       "                                                                strategy='median'),\n",
       "                                                  ['num_of_prev_attempts',\n",
       "                                                   'studied_credits'])])),\n",
       "                ('randomforestclassifier',\n",
       "                 RandomForestClassifier(class_weight='balanced',\n",
       "                                        max_features='sqrt', n_estimators=500,\n",
       "                                        random_state=42))])"
      ]
     },
     "execution_count": 29,
     "metadata": {},
     "output_type": "execute_result"
    }
   ],
   "source": [
    "first_model = make_pipeline(\n",
    "                            first_experiment_pipeline,\n",
    "                            RandomForestClassifier(n_estimators=500,\n",
    "                                                   max_features=\"sqrt\",\n",
    "                                                   class_weight='balanced',   #tentar remediar o desbalanceamento \n",
    "                                                   random_state=RANDOM_SEED)\n",
    "                           )\n",
    "\n",
    "first_model"
   ]
  },
  {
   "cell_type": "markdown",
   "metadata": {},
   "source": [
    "## 1.6 Métrica de Desempenho Selecionada"
   ]
  },
  {
   "cell_type": "markdown",
   "metadata": {},
   "source": [
    "Nossa escolha para medir o desempenho do modelo sera *Average Precision Score*, que em termos mais leigos representa a area sob a curva *Precision-Recall*. Gostamos dessa métrica por sua bem-vinda propriedade de selecionar modelos com bom *rank* das predições. Essa propriedade nos abre a porta do ponto de vista da aplicação de fazer coisas como selecionar os estudantes com mais necessidade de intervenção antecipada em uma fila de pioridade. Esta métrica tem valores possíveis entre 0 e 1 (maior valor ---> melhor modelo)."
   ]
  },
  {
   "cell_type": "markdown",
   "metadata": {},
   "source": [
    "## 1.7 Avaliando o Primeiro Modelo"
   ]
  },
  {
   "cell_type": "code",
   "execution_count": 30,
   "metadata": {},
   "outputs": [],
   "source": [
    "skf = StratifiedKFold(n_splits=5,shuffle = True,random_state= RANDOM_SEED) # esquema de cross-validation\n",
    "average_precision_first = cross_val_score(\n",
    "                                            estimator = first_model,\n",
    "                                            X = X_train,\n",
    "                                            y = y_train,\n",
    "                                            scoring = make_scorer(average_precision_score,needs_proba=True),\n",
    "                                            cv = skf\n",
    "                                             )\n",
    "# Cross-Validation Predictions\n",
    "cv_preds = cross_val_predict(\n",
    "                              estimator = first_model,\n",
    "                              X = X_train,\n",
    "                              y = y_train,\n",
    "                              cv = 5, # n_splits --> O padrao ja eh stratified kfold\n",
    "                              method = 'predict_proba'\n",
    "                             )"
   ]
  },
  {
   "cell_type": "code",
   "execution_count": 31,
   "metadata": {},
   "outputs": [
    {
     "data": {
      "text/plain": [
       "'CV Average Precision: 0.39 / Desvio-Padrao: 0.01'"
      ]
     },
     "execution_count": 31,
     "metadata": {},
     "output_type": "execute_result"
    }
   ],
   "source": [
    "ap,std = np.mean(average_precision_first).round(2),np.std(average_precision_first).round(2)\n",
    "f'CV Average Precision: {ap} / Desvio-Padrao: {std}'"
   ]
  },
  {
   "cell_type": "markdown",
   "metadata": {},
   "source": [
    "Para termos uma real noção do desempenho desse primeiro modelo, faremos uma comparação com um modelo usando a simples heurística de classificar todas as observações como *Fail*."
   ]
  },
  {
   "cell_type": "code",
   "execution_count": 32,
   "metadata": {},
   "outputs": [],
   "source": [
    "naive_model = DummyClassifier(strategy = 'most_frequent')\n",
    "average_precision_naive = cross_val_score(\n",
    "                                            estimator = naive_model,\n",
    "                                            X = X_train,\n",
    "                                            y = y_train,\n",
    "                                            scoring = make_scorer(average_precision_score,needs_proba=True),\n",
    "                                            cv = skf\n",
    "                                             )"
   ]
  },
  {
   "cell_type": "code",
   "execution_count": 33,
   "metadata": {},
   "outputs": [
    {
     "data": {
      "text/plain": [
       "'CV Average Precision: 0.31 / Desvio-Padrao: 0.0'"
      ]
     },
     "execution_count": 33,
     "metadata": {},
     "output_type": "execute_result"
    }
   ],
   "source": [
    "ap,std = np.mean(average_precision_naive).round(2),np.std(average_precision_naive).round(2)\n",
    "f'CV Average Precision: {ap} / Desvio-Padrao: {std}'"
   ]
  },
  {
   "cell_type": "markdown",
   "metadata": {},
   "source": [
    "Nosso primeiro modelo tem desempenho 26% superior a uma heurística simples. Bom começo, dado que este primeiro experimento apenas leva em conta o histórico dos alunos antes de interagirem com os cursos. Um possível uso desse modelo seria identificar alunos que o modelo classificar como de alta probabilidade de falharem no exame final logo apos a matrícula e articular acoes (acompanhamento mais próximo com tutor, reuniões, etc.). Algumas variáveis me preocupam um pouco do ponto de vista de discriminação algorítmica, como sexo, região de moradia e proxies de renda como imd. Mas neste momento seguiremos experimentando para obtermos uma prova de conceito no menor tempo possível. Fica a nota de atenção."
   ]
  },
  {
   "cell_type": "markdown",
   "metadata": {},
   "source": [
    "## 1.8 Salvando o Primeiro Experimento em Disco"
   ]
  },
  {
   "cell_type": "code",
   "execution_count": 34,
   "metadata": {},
   "outputs": [],
   "source": [
    "first_model.fit(X_train,y_train)\n",
    "dump(first_model, 'primeiro_experimento.joblib')\n",
    "assert (load('primeiro_experimento.joblib').predict(X_train) == first_model.predict(X_train)).all()"
   ]
  },
  {
   "cell_type": "markdown",
   "metadata": {},
   "source": [
    "# 2. Segundo Experimento"
   ]
  },
  {
   "cell_type": "markdown",
   "metadata": {},
   "source": [
    "## 2.1 Exploração/Agregação de  StudentAssessment e Assessments"
   ]
  },
  {
   "cell_type": "markdown",
   "metadata": {},
   "source": [
    "No segundo experimento iremos testar se agregar as notas de avaliações contidas nos datasets studentAssessment e assessments ira melhorar o desempenho do modelo. Intuitivamente esperamos um grande aumento de desempenho, dado que inuitivamente notas em avaliações preliminares sao fortemente correlacionadas com a nota final. Os passos seguidos no primeiro experimento serão replicados."
   ]
  },
  {
   "cell_type": "code",
   "execution_count": 35,
   "metadata": {},
   "outputs": [],
   "source": [
    "student_assessment = pd.read_csv(Path(input_folder,studentAssessment_data),low_memory=False)"
   ]
  },
  {
   "cell_type": "code",
   "execution_count": 36,
   "metadata": {},
   "outputs": [
    {
     "data": {
      "text/plain": [
       "'Student Assessment Dataset Contem 173912 linhas e 5 colunas'"
      ]
     },
     "execution_count": 36,
     "metadata": {},
     "output_type": "execute_result"
    }
   ],
   "source": [
    "f'Student Assessment Dataset Contem {student_assessment.shape[0]} linhas e {student_assessment.shape[1]} colunas'"
   ]
  },
  {
   "cell_type": "code",
   "execution_count": 37,
   "metadata": {},
   "outputs": [
    {
     "data": {
      "text/html": [
       "<div>\n",
       "<style scoped>\n",
       "    .dataframe tbody tr th:only-of-type {\n",
       "        vertical-align: middle;\n",
       "    }\n",
       "\n",
       "    .dataframe tbody tr th {\n",
       "        vertical-align: top;\n",
       "    }\n",
       "\n",
       "    .dataframe thead th {\n",
       "        text-align: right;\n",
       "    }\n",
       "</style>\n",
       "<table border=\"1\" class=\"dataframe\">\n",
       "  <thead>\n",
       "    <tr style=\"text-align: right;\">\n",
       "      <th></th>\n",
       "      <th>id_assessment</th>\n",
       "      <th>id_student</th>\n",
       "      <th>date_submitted</th>\n",
       "      <th>is_banked</th>\n",
       "      <th>score</th>\n",
       "    </tr>\n",
       "  </thead>\n",
       "  <tbody>\n",
       "    <tr>\n",
       "      <th>0</th>\n",
       "      <td>1752</td>\n",
       "      <td>11391</td>\n",
       "      <td>18</td>\n",
       "      <td>0</td>\n",
       "      <td>78.0</td>\n",
       "    </tr>\n",
       "    <tr>\n",
       "      <th>1</th>\n",
       "      <td>1752</td>\n",
       "      <td>28400</td>\n",
       "      <td>22</td>\n",
       "      <td>0</td>\n",
       "      <td>70.0</td>\n",
       "    </tr>\n",
       "    <tr>\n",
       "      <th>2</th>\n",
       "      <td>1752</td>\n",
       "      <td>31604</td>\n",
       "      <td>17</td>\n",
       "      <td>0</td>\n",
       "      <td>72.0</td>\n",
       "    </tr>\n",
       "    <tr>\n",
       "      <th>3</th>\n",
       "      <td>1752</td>\n",
       "      <td>32885</td>\n",
       "      <td>26</td>\n",
       "      <td>0</td>\n",
       "      <td>69.0</td>\n",
       "    </tr>\n",
       "    <tr>\n",
       "      <th>4</th>\n",
       "      <td>1752</td>\n",
       "      <td>38053</td>\n",
       "      <td>19</td>\n",
       "      <td>0</td>\n",
       "      <td>79.0</td>\n",
       "    </tr>\n",
       "  </tbody>\n",
       "</table>\n",
       "</div>"
      ],
      "text/plain": [
       "   id_assessment  id_student  date_submitted  is_banked  score\n",
       "0           1752       11391              18          0   78.0\n",
       "1           1752       28400              22          0   70.0\n",
       "2           1752       31604              17          0   72.0\n",
       "3           1752       32885              26          0   69.0\n",
       "4           1752       38053              19          0   79.0"
      ]
     },
     "execution_count": 37,
     "metadata": {},
     "output_type": "execute_result"
    }
   ],
   "source": [
    "student_assessment.head(5)"
   ]
  },
  {
   "cell_type": "code",
   "execution_count": 38,
   "metadata": {},
   "outputs": [
    {
     "data": {
      "text/html": [
       "<div>\n",
       "<style scoped>\n",
       "    .dataframe tbody tr th:only-of-type {\n",
       "        vertical-align: middle;\n",
       "    }\n",
       "\n",
       "    .dataframe tbody tr th {\n",
       "        vertical-align: top;\n",
       "    }\n",
       "\n",
       "    .dataframe thead th {\n",
       "        text-align: right;\n",
       "    }\n",
       "</style>\n",
       "<table border=\"1\" class=\"dataframe\">\n",
       "  <thead>\n",
       "    <tr style=\"text-align: right;\">\n",
       "      <th></th>\n",
       "      <th>id_assessment</th>\n",
       "      <th>id_student</th>\n",
       "      <th>date_submitted</th>\n",
       "      <th>is_banked</th>\n",
       "      <th>score</th>\n",
       "    </tr>\n",
       "  </thead>\n",
       "  <tbody>\n",
       "    <tr>\n",
       "      <th>count</th>\n",
       "      <td>173912.000000</td>\n",
       "      <td>1.739120e+05</td>\n",
       "      <td>173912.000000</td>\n",
       "      <td>173912.000000</td>\n",
       "      <td>173739.000000</td>\n",
       "    </tr>\n",
       "    <tr>\n",
       "      <th>mean</th>\n",
       "      <td>26553.803556</td>\n",
       "      <td>7.051507e+05</td>\n",
       "      <td>116.032942</td>\n",
       "      <td>0.010977</td>\n",
       "      <td>75.799573</td>\n",
       "    </tr>\n",
       "    <tr>\n",
       "      <th>std</th>\n",
       "      <td>8829.784254</td>\n",
       "      <td>5.523952e+05</td>\n",
       "      <td>71.484148</td>\n",
       "      <td>0.104194</td>\n",
       "      <td>18.798107</td>\n",
       "    </tr>\n",
       "    <tr>\n",
       "      <th>min</th>\n",
       "      <td>1752.000000</td>\n",
       "      <td>6.516000e+03</td>\n",
       "      <td>-11.000000</td>\n",
       "      <td>0.000000</td>\n",
       "      <td>0.000000</td>\n",
       "    </tr>\n",
       "    <tr>\n",
       "      <th>25%</th>\n",
       "      <td>15022.000000</td>\n",
       "      <td>5.044290e+05</td>\n",
       "      <td>51.000000</td>\n",
       "      <td>0.000000</td>\n",
       "      <td>65.000000</td>\n",
       "    </tr>\n",
       "    <tr>\n",
       "      <th>50%</th>\n",
       "      <td>25359.000000</td>\n",
       "      <td>5.852080e+05</td>\n",
       "      <td>116.000000</td>\n",
       "      <td>0.000000</td>\n",
       "      <td>80.000000</td>\n",
       "    </tr>\n",
       "    <tr>\n",
       "      <th>75%</th>\n",
       "      <td>34883.000000</td>\n",
       "      <td>6.344980e+05</td>\n",
       "      <td>173.000000</td>\n",
       "      <td>0.000000</td>\n",
       "      <td>90.000000</td>\n",
       "    </tr>\n",
       "    <tr>\n",
       "      <th>max</th>\n",
       "      <td>37443.000000</td>\n",
       "      <td>2.698588e+06</td>\n",
       "      <td>608.000000</td>\n",
       "      <td>1.000000</td>\n",
       "      <td>100.000000</td>\n",
       "    </tr>\n",
       "  </tbody>\n",
       "</table>\n",
       "</div>"
      ],
      "text/plain": [
       "       id_assessment    id_student  date_submitted      is_banked  \\\n",
       "count  173912.000000  1.739120e+05   173912.000000  173912.000000   \n",
       "mean    26553.803556  7.051507e+05      116.032942       0.010977   \n",
       "std      8829.784254  5.523952e+05       71.484148       0.104194   \n",
       "min      1752.000000  6.516000e+03      -11.000000       0.000000   \n",
       "25%     15022.000000  5.044290e+05       51.000000       0.000000   \n",
       "50%     25359.000000  5.852080e+05      116.000000       0.000000   \n",
       "75%     34883.000000  6.344980e+05      173.000000       0.000000   \n",
       "max     37443.000000  2.698588e+06      608.000000       1.000000   \n",
       "\n",
       "               score  \n",
       "count  173739.000000  \n",
       "mean       75.799573  \n",
       "std        18.798107  \n",
       "min         0.000000  \n",
       "25%        65.000000  \n",
       "50%        80.000000  \n",
       "75%        90.000000  \n",
       "max       100.000000  "
      ]
     },
     "execution_count": 38,
     "metadata": {},
     "output_type": "execute_result"
    }
   ],
   "source": [
    "student_assessment.describe()"
   ]
  },
  {
   "cell_type": "code",
   "execution_count": 39,
   "metadata": {},
   "outputs": [
    {
     "data": {
      "image/png": "[encoded data removed]",
      "text/plain": [
       "<Figure size 576x360 with 1 Axes>"
      ]
     },
     "metadata": {},
     "output_type": "display_data"
    }
   ],
   "source": [
    "ax = (\n",
    "    student_assessment\n",
    "    .isna()\n",
    "    .mean()\n",
    "    .mul(100)\n",
    "    .plot(kind = 'barh'))\n",
    "\n",
    "_= ax.set_title(\"% de Valores Faltantes \\n\")"
   ]
  },
  {
   "cell_type": "code",
   "execution_count": 40,
   "metadata": {},
   "outputs": [
    {
     "data": {
      "image/png": "[encoded data removed]",
      "text/plain": [
       "<Figure size 576x360 with 1 Axes>"
      ]
     },
     "metadata": {},
     "output_type": "display_data"
    }
   ],
   "source": [
    "ax = student_assessment['date_submitted'].plot(kind = 'hist',bins = 50)\n",
    "_= ax.set_title(\"Distribuicao do Prazo de Submissao de Avaliacoes \\n\")\n",
    "_= ax.set_xlabel(\"Numero de Dias\")"
   ]
  },
  {
   "cell_type": "code",
   "execution_count": 41,
   "metadata": {},
   "outputs": [
    {
     "data": {
      "image/png": "[encoded data removed]",
      "text/plain": [
       "<Figure size 576x360 with 1 Axes>"
      ]
     },
     "metadata": {},
     "output_type": "display_data"
    }
   ],
   "source": [
    "ax = student_assessment['score'].plot(kind = 'hist',bins = 50)\n",
    "_= ax.set_title(\"Distribuicao das Notas das Avaliacoes \\n\")\n",
    "_= ax.set_xlabel(\"\")"
   ]
  },
  {
   "cell_type": "markdown",
   "metadata": {},
   "source": [
    "Alguns *clusters* apareceram na distribuição das notas (40,60,80,100). Provavelmente alguns tipos de avaliações aplicam notas discretas/conceitos."
   ]
  },
  {
   "cell_type": "code",
   "execution_count": 42,
   "metadata": {},
   "outputs": [
    {
     "data": {
      "text/html": [
       "<div>\n",
       "<style scoped>\n",
       "    .dataframe tbody tr th:only-of-type {\n",
       "        vertical-align: middle;\n",
       "    }\n",
       "\n",
       "    .dataframe tbody tr th {\n",
       "        vertical-align: top;\n",
       "    }\n",
       "\n",
       "    .dataframe thead th {\n",
       "        text-align: right;\n",
       "    }\n",
       "</style>\n",
       "<table border=\"1\" class=\"dataframe\">\n",
       "  <thead>\n",
       "    <tr style=\"text-align: right;\">\n",
       "      <th></th>\n",
       "      <th>date_submitted</th>\n",
       "      <th>score</th>\n",
       "    </tr>\n",
       "  </thead>\n",
       "  <tbody>\n",
       "    <tr>\n",
       "      <th>date_submitted</th>\n",
       "      <td>1.000000</td>\n",
       "      <td>-0.040422</td>\n",
       "    </tr>\n",
       "    <tr>\n",
       "      <th>score</th>\n",
       "      <td>-0.040422</td>\n",
       "      <td>1.000000</td>\n",
       "    </tr>\n",
       "  </tbody>\n",
       "</table>\n",
       "</div>"
      ],
      "text/plain": [
       "                date_submitted     score\n",
       "date_submitted        1.000000 -0.040422\n",
       "score                -0.040422  1.000000"
      ]
     },
     "execution_count": 42,
     "metadata": {},
     "output_type": "execute_result"
    }
   ],
   "source": [
    "student_assessment[['date_submitted','score']].corr('spearman')"
   ]
  },
  {
   "cell_type": "markdown",
   "metadata": {},
   "source": [
    "Esperava uma *rank correlation* bastante maior entre o desempenho nas avaliações e o prazo de submissão."
   ]
  },
  {
   "cell_type": "code",
   "execution_count": 43,
   "metadata": {},
   "outputs": [],
   "source": [
    "assessments = pd.read_csv(Path(input_folder,assessments_data),low_memory=False)"
   ]
  },
  {
   "cell_type": "code",
   "execution_count": 44,
   "metadata": {},
   "outputs": [
    {
     "data": {
      "text/plain": [
       "'assessments Dataset Contem 206 linhas e 6 colunas'"
      ]
     },
     "execution_count": 44,
     "metadata": {},
     "output_type": "execute_result"
    }
   ],
   "source": [
    "f'assessments Dataset Contem {assessments.shape[0]} linhas e {assessments.shape[1]} colunas'"
   ]
  },
  {
   "cell_type": "code",
   "execution_count": 45,
   "metadata": {},
   "outputs": [
    {
     "data": {
      "text/html": [
       "<div>\n",
       "<style scoped>\n",
       "    .dataframe tbody tr th:only-of-type {\n",
       "        vertical-align: middle;\n",
       "    }\n",
       "\n",
       "    .dataframe tbody tr th {\n",
       "        vertical-align: top;\n",
       "    }\n",
       "\n",
       "    .dataframe thead th {\n",
       "        text-align: right;\n",
       "    }\n",
       "</style>\n",
       "<table border=\"1\" class=\"dataframe\">\n",
       "  <thead>\n",
       "    <tr style=\"text-align: right;\">\n",
       "      <th></th>\n",
       "      <th>code_module</th>\n",
       "      <th>code_presentation</th>\n",
       "      <th>id_assessment</th>\n",
       "      <th>assessment_type</th>\n",
       "      <th>date</th>\n",
       "      <th>weight</th>\n",
       "    </tr>\n",
       "  </thead>\n",
       "  <tbody>\n",
       "    <tr>\n",
       "      <th>0</th>\n",
       "      <td>AAA</td>\n",
       "      <td>2013J</td>\n",
       "      <td>1752</td>\n",
       "      <td>TMA</td>\n",
       "      <td>19.0</td>\n",
       "      <td>10.0</td>\n",
       "    </tr>\n",
       "    <tr>\n",
       "      <th>1</th>\n",
       "      <td>AAA</td>\n",
       "      <td>2013J</td>\n",
       "      <td>1753</td>\n",
       "      <td>TMA</td>\n",
       "      <td>54.0</td>\n",
       "      <td>20.0</td>\n",
       "    </tr>\n",
       "    <tr>\n",
       "      <th>2</th>\n",
       "      <td>AAA</td>\n",
       "      <td>2013J</td>\n",
       "      <td>1754</td>\n",
       "      <td>TMA</td>\n",
       "      <td>117.0</td>\n",
       "      <td>20.0</td>\n",
       "    </tr>\n",
       "    <tr>\n",
       "      <th>3</th>\n",
       "      <td>AAA</td>\n",
       "      <td>2013J</td>\n",
       "      <td>1755</td>\n",
       "      <td>TMA</td>\n",
       "      <td>166.0</td>\n",
       "      <td>20.0</td>\n",
       "    </tr>\n",
       "    <tr>\n",
       "      <th>4</th>\n",
       "      <td>AAA</td>\n",
       "      <td>2013J</td>\n",
       "      <td>1756</td>\n",
       "      <td>TMA</td>\n",
       "      <td>215.0</td>\n",
       "      <td>30.0</td>\n",
       "    </tr>\n",
       "  </tbody>\n",
       "</table>\n",
       "</div>"
      ],
      "text/plain": [
       "  code_module code_presentation  id_assessment assessment_type   date  weight\n",
       "0         AAA             2013J           1752             TMA   19.0    10.0\n",
       "1         AAA             2013J           1753             TMA   54.0    20.0\n",
       "2         AAA             2013J           1754             TMA  117.0    20.0\n",
       "3         AAA             2013J           1755             TMA  166.0    20.0\n",
       "4         AAA             2013J           1756             TMA  215.0    30.0"
      ]
     },
     "execution_count": 45,
     "metadata": {},
     "output_type": "execute_result"
    }
   ],
   "source": [
    "assessments.head()"
   ]
  },
  {
   "cell_type": "code",
   "execution_count": 46,
   "metadata": {},
   "outputs": [
    {
     "data": {
      "image/png": "[encoded data removed]",
      "text/plain": [
       "<Figure size 576x360 with 1 Axes>"
      ]
     },
     "metadata": {},
     "output_type": "display_data"
    }
   ],
   "source": [
    "ax = (\n",
    "      assessments['assessment_type']\n",
    "      .value_counts()\n",
    "      .plot(kind = 'barh')\n",
    "     )\n",
    "\n",
    "_= ax.set_title(\"Numero de Avaliacoes por Tipo \\n\")"
   ]
  },
  {
   "cell_type": "code",
   "execution_count": 47,
   "metadata": {},
   "outputs": [
    {
     "data": {
      "text/plain": [
       "count     24.0\n",
       "mean     100.0\n",
       "std        0.0\n",
       "min      100.0\n",
       "25%      100.0\n",
       "50%      100.0\n",
       "75%      100.0\n",
       "max      100.0\n",
       "Name: weight, dtype: float64"
      ]
     },
     "execution_count": 47,
     "metadata": {},
     "output_type": "execute_result"
    }
   ],
   "source": [
    "assessments.query(\"assessment_type == 'Exam'\")['weight'].describe()"
   ]
  },
  {
   "cell_type": "markdown",
   "metadata": {},
   "source": [
    "Avaliacao final com peso 100.0, como esperado. "
   ]
  },
  {
   "cell_type": "markdown",
   "metadata": {},
   "source": [
    "Vamos agregar os datasets *studentAssessment* e *assessments* via a chave *id_student* antes de eventualmente gerarmos novos atributos e limpar os dados."
   ]
  },
  {
   "cell_type": "code",
   "execution_count": 48,
   "metadata": {},
   "outputs": [
    {
     "data": {
      "text/html": [
       "<div>\n",
       "<style scoped>\n",
       "    .dataframe tbody tr th:only-of-type {\n",
       "        vertical-align: middle;\n",
       "    }\n",
       "\n",
       "    .dataframe tbody tr th {\n",
       "        vertical-align: top;\n",
       "    }\n",
       "\n",
       "    .dataframe thead th {\n",
       "        text-align: right;\n",
       "    }\n",
       "</style>\n",
       "<table border=\"1\" class=\"dataframe\">\n",
       "  <thead>\n",
       "    <tr style=\"text-align: right;\">\n",
       "      <th></th>\n",
       "      <th>id_assessment</th>\n",
       "      <th>id_student</th>\n",
       "      <th>date_submitted</th>\n",
       "      <th>is_banked</th>\n",
       "      <th>score</th>\n",
       "      <th>code_module</th>\n",
       "      <th>code_presentation</th>\n",
       "      <th>assessment_type</th>\n",
       "      <th>date</th>\n",
       "      <th>weight</th>\n",
       "    </tr>\n",
       "  </thead>\n",
       "  <tbody>\n",
       "    <tr>\n",
       "      <th>43599</th>\n",
       "      <td>15022</td>\n",
       "      <td>2698588</td>\n",
       "      <td>109</td>\n",
       "      <td>0</td>\n",
       "      <td>87.0</td>\n",
       "      <td>BBB</td>\n",
       "      <td>2014J</td>\n",
       "      <td>TMA</td>\n",
       "      <td>110.0</td>\n",
       "      <td>20.0</td>\n",
       "    </tr>\n",
       "    <tr>\n",
       "      <th>44183</th>\n",
       "      <td>15023</td>\n",
       "      <td>2698588</td>\n",
       "      <td>152</td>\n",
       "      <td>0</td>\n",
       "      <td>95.0</td>\n",
       "      <td>BBB</td>\n",
       "      <td>2014J</td>\n",
       "      <td>TMA</td>\n",
       "      <td>152.0</td>\n",
       "      <td>35.0</td>\n",
       "    </tr>\n",
       "    <tr>\n",
       "      <th>41825</th>\n",
       "      <td>15021</td>\n",
       "      <td>2698588</td>\n",
       "      <td>53</td>\n",
       "      <td>0</td>\n",
       "      <td>85.0</td>\n",
       "      <td>BBB</td>\n",
       "      <td>2014J</td>\n",
       "      <td>TMA</td>\n",
       "      <td>54.0</td>\n",
       "      <td>10.0</td>\n",
       "    </tr>\n",
       "    <tr>\n",
       "      <th>39567</th>\n",
       "      <td>15020</td>\n",
       "      <td>2698588</td>\n",
       "      <td>18</td>\n",
       "      <td>0</td>\n",
       "      <td>100.0</td>\n",
       "      <td>BBB</td>\n",
       "      <td>2014J</td>\n",
       "      <td>TMA</td>\n",
       "      <td>19.0</td>\n",
       "      <td>0.0</td>\n",
       "    </tr>\n",
       "    <tr>\n",
       "      <th>45940</th>\n",
       "      <td>15024</td>\n",
       "      <td>2698588</td>\n",
       "      <td>202</td>\n",
       "      <td>0</td>\n",
       "      <td>95.0</td>\n",
       "      <td>BBB</td>\n",
       "      <td>2014J</td>\n",
       "      <td>TMA</td>\n",
       "      <td>201.0</td>\n",
       "      <td>35.0</td>\n",
       "    </tr>\n",
       "  </tbody>\n",
       "</table>\n",
       "</div>"
      ],
      "text/plain": [
       "       id_assessment  id_student  date_submitted  is_banked  score  \\\n",
       "43599          15022     2698588             109          0   87.0   \n",
       "44183          15023     2698588             152          0   95.0   \n",
       "41825          15021     2698588              53          0   85.0   \n",
       "39567          15020     2698588              18          0  100.0   \n",
       "45940          15024     2698588             202          0   95.0   \n",
       "\n",
       "      code_module code_presentation assessment_type   date  weight  \n",
       "43599         BBB             2014J             TMA  110.0    20.0  \n",
       "44183         BBB             2014J             TMA  152.0    35.0  \n",
       "41825         BBB             2014J             TMA   54.0    10.0  \n",
       "39567         BBB             2014J             TMA   19.0     0.0  \n",
       "45940         BBB             2014J             TMA  201.0    35.0  "
      ]
     },
     "execution_count": 48,
     "metadata": {},
     "output_type": "execute_result"
    }
   ],
   "source": [
    "assessment_agg = pd.merge(student_assessment,assessments,on='id_assessment')\n",
    "assessment_agg.sort_values(by=['id_student']).tail()"
   ]
  },
  {
   "cell_type": "markdown",
   "metadata": {},
   "source": [
    "Queremos calcular um score medio ponderado pelos pesos de cada tipo avaliação e adiciona-los como variáveis do modelo. Com isso capturamos o desempenho de acordo com a importância de cada avaliação."
   ]
  },
  {
   "cell_type": "code",
   "execution_count": 49,
   "metadata": {},
   "outputs": [
    {
     "data": {
      "image/png": "[encoded data removed]",
      "text/plain": [
       "<Figure size 576x360 with 1 Axes>"
      ]
     },
     "metadata": {},
     "output_type": "display_data"
    }
   ],
   "source": [
    "ax = (\n",
    "       assessments\n",
    "       .groupby('assessment_type')['weight']\n",
    "       .mean()\n",
    "       .plot(kind = 'barh')\n",
    "      )\n",
    "\n",
    "\n",
    "_= ax.set_title(\"Avaliacoes no Computador (CMA) tem Menos Peso\")\n",
    "_= ax.set_ylabel(\"\")\n",
    "_= ax.set_label(\"Peso %\")"
   ]
  },
  {
   "cell_type": "code",
   "execution_count": 50,
   "metadata": {},
   "outputs": [],
   "source": [
    "assessment_agg['score_weighted'] = assessment_agg['score']*assessment_agg['weight']\n",
    "\n",
    "assessment_agg = (\n",
    "                  assessment_agg\n",
    "                 .groupby(['id_student', 'code_module', 'code_presentation', 'assessment_type'])['score_weighted']\n",
    "                 .sum()\n",
    "                 .divide(100)\n",
    "                 .reset_index()\n",
    "                 )\n",
    "\n",
    "\n",
    "assert assessment_agg.query('id_student == 6516')['score_weighted'][0] == 63.5 # Valor Calculado Manualmente :)"
   ]
  },
  {
   "cell_type": "code",
   "execution_count": 51,
   "metadata": {},
   "outputs": [
    {
     "data": {
      "text/html": [
       "<div>\n",
       "<style scoped>\n",
       "    .dataframe tbody tr th:only-of-type {\n",
       "        vertical-align: middle;\n",
       "    }\n",
       "\n",
       "    .dataframe tbody tr th {\n",
       "        vertical-align: top;\n",
       "    }\n",
       "\n",
       "    .dataframe thead th {\n",
       "        text-align: right;\n",
       "    }\n",
       "</style>\n",
       "<table border=\"1\" class=\"dataframe\">\n",
       "  <thead>\n",
       "    <tr style=\"text-align: right;\">\n",
       "      <th></th>\n",
       "      <th>id_student</th>\n",
       "      <th>code_module</th>\n",
       "      <th>code_presentation</th>\n",
       "      <th>assessment_type</th>\n",
       "      <th>score_weighted</th>\n",
       "    </tr>\n",
       "  </thead>\n",
       "  <tbody>\n",
       "    <tr>\n",
       "      <th>44875</th>\n",
       "      <td>2698535</td>\n",
       "      <td>CCC</td>\n",
       "      <td>2014B</td>\n",
       "      <td>TMA</td>\n",
       "      <td>5.06</td>\n",
       "    </tr>\n",
       "    <tr>\n",
       "      <th>44874</th>\n",
       "      <td>2698535</td>\n",
       "      <td>CCC</td>\n",
       "      <td>2014B</td>\n",
       "      <td>CMA</td>\n",
       "      <td>4.31</td>\n",
       "    </tr>\n",
       "    <tr>\n",
       "      <th>44876</th>\n",
       "      <td>2698535</td>\n",
       "      <td>EEE</td>\n",
       "      <td>2013J</td>\n",
       "      <td>TMA</td>\n",
       "      <td>53.44</td>\n",
       "    </tr>\n",
       "    <tr>\n",
       "      <th>44877</th>\n",
       "      <td>2698577</td>\n",
       "      <td>BBB</td>\n",
       "      <td>2014J</td>\n",
       "      <td>TMA</td>\n",
       "      <td>55.80</td>\n",
       "    </tr>\n",
       "    <tr>\n",
       "      <th>44878</th>\n",
       "      <td>2698588</td>\n",
       "      <td>BBB</td>\n",
       "      <td>2014J</td>\n",
       "      <td>TMA</td>\n",
       "      <td>92.40</td>\n",
       "    </tr>\n",
       "  </tbody>\n",
       "</table>\n",
       "</div>"
      ],
      "text/plain": [
       "       id_student code_module code_presentation assessment_type  \\\n",
       "44875     2698535         CCC             2014B             TMA   \n",
       "44874     2698535         CCC             2014B             CMA   \n",
       "44876     2698535         EEE             2013J             TMA   \n",
       "44877     2698577         BBB             2014J             TMA   \n",
       "44878     2698588         BBB             2014J             TMA   \n",
       "\n",
       "       score_weighted  \n",
       "44875            5.06  \n",
       "44874            4.31  \n",
       "44876           53.44  \n",
       "44877           55.80  \n",
       "44878           92.40  "
      ]
     },
     "execution_count": 51,
     "metadata": {},
     "output_type": "execute_result"
    }
   ],
   "source": [
    "assessment_agg.sort_values('id_student').tail()"
   ]
  },
  {
   "cell_type": "markdown",
   "metadata": {},
   "source": [
    "A tabela *assessment_agg* ainda nao esta pronta para ser agregada a *feature_store*, pois cada observacao precisa ser unica para a tupla ('id_student', 'code_module', 'code_presentation')."
   ]
  },
  {
   "cell_type": "code",
   "execution_count": 52,
   "metadata": {},
   "outputs": [],
   "source": [
    "assessment_agg = (\n",
    "                  assessment_agg\n",
    "                 .set_index(['id_student', 'code_module', 'code_presentation'])\n",
    "                 .pivot(columns=\"assessment_type\")['score_weighted']\n",
    "                 .reset_index()\n",
    "                 .rename_axis(None, axis = 'columns')\n",
    "                 .drop('Exam',axis = 'columns')  # No momento da predicao nao temos informacao sobre o Exame. \n",
    "                 )"
   ]
  },
  {
   "cell_type": "code",
   "execution_count": 53,
   "metadata": {},
   "outputs": [
    {
     "data": {
      "text/html": [
       "<div>\n",
       "<style scoped>\n",
       "    .dataframe tbody tr th:only-of-type {\n",
       "        vertical-align: middle;\n",
       "    }\n",
       "\n",
       "    .dataframe tbody tr th {\n",
       "        vertical-align: top;\n",
       "    }\n",
       "\n",
       "    .dataframe thead th {\n",
       "        text-align: right;\n",
       "    }\n",
       "</style>\n",
       "<table border=\"1\" class=\"dataframe\">\n",
       "  <thead>\n",
       "    <tr style=\"text-align: right;\">\n",
       "      <th></th>\n",
       "      <th>id_student</th>\n",
       "      <th>code_module</th>\n",
       "      <th>code_presentation</th>\n",
       "      <th>CMA</th>\n",
       "      <th>TMA</th>\n",
       "    </tr>\n",
       "  </thead>\n",
       "  <tbody>\n",
       "    <tr>\n",
       "      <th>0</th>\n",
       "      <td>6516</td>\n",
       "      <td>AAA</td>\n",
       "      <td>2014J</td>\n",
       "      <td>NaN</td>\n",
       "      <td>63.50</td>\n",
       "    </tr>\n",
       "    <tr>\n",
       "      <th>1</th>\n",
       "      <td>8462</td>\n",
       "      <td>DDD</td>\n",
       "      <td>2013J</td>\n",
       "      <td>NaN</td>\n",
       "      <td>34.90</td>\n",
       "    </tr>\n",
       "    <tr>\n",
       "      <th>2</th>\n",
       "      <td>8462</td>\n",
       "      <td>DDD</td>\n",
       "      <td>2014J</td>\n",
       "      <td>NaN</td>\n",
       "      <td>43.00</td>\n",
       "    </tr>\n",
       "    <tr>\n",
       "      <th>3</th>\n",
       "      <td>11391</td>\n",
       "      <td>AAA</td>\n",
       "      <td>2013J</td>\n",
       "      <td>NaN</td>\n",
       "      <td>82.40</td>\n",
       "    </tr>\n",
       "    <tr>\n",
       "      <th>4</th>\n",
       "      <td>23629</td>\n",
       "      <td>BBB</td>\n",
       "      <td>2013B</td>\n",
       "      <td>2.0</td>\n",
       "      <td>14.69</td>\n",
       "    </tr>\n",
       "  </tbody>\n",
       "</table>\n",
       "</div>"
      ],
      "text/plain": [
       "   id_student code_module code_presentation  CMA    TMA\n",
       "0        6516         AAA             2014J  NaN  63.50\n",
       "1        8462         DDD             2013J  NaN  34.90\n",
       "2        8462         DDD             2014J  NaN  43.00\n",
       "3       11391         AAA             2013J  NaN  82.40\n",
       "4       23629         BBB             2013B  2.0  14.69"
      ]
     },
     "execution_count": 53,
     "metadata": {},
     "output_type": "execute_result"
    }
   ],
   "source": [
    "assessment_agg.sort_values('id_student').head()"
   ]
  },
  {
   "cell_type": "markdown",
   "metadata": {},
   "source": [
    "Adicionando as novas colunas na nossa *feature store*."
   ]
  },
  {
   "cell_type": "code",
   "execution_count": 54,
   "metadata": {},
   "outputs": [],
   "source": [
    "feature_store = pd.merge(feature_store, assessment_agg, on=['id_student', 'code_module', 'code_presentation'])"
   ]
  },
  {
   "cell_type": "code",
   "execution_count": 55,
   "metadata": {},
   "outputs": [
    {
     "data": {
      "text/html": [
       "<div>\n",
       "<style scoped>\n",
       "    .dataframe tbody tr th:only-of-type {\n",
       "        vertical-align: middle;\n",
       "    }\n",
       "\n",
       "    .dataframe tbody tr th {\n",
       "        vertical-align: top;\n",
       "    }\n",
       "\n",
       "    .dataframe thead th {\n",
       "        text-align: right;\n",
       "    }\n",
       "</style>\n",
       "<table border=\"1\" class=\"dataframe\">\n",
       "  <thead>\n",
       "    <tr style=\"text-align: right;\">\n",
       "      <th></th>\n",
       "      <th>code_module</th>\n",
       "      <th>code_presentation</th>\n",
       "      <th>id_student</th>\n",
       "      <th>gender</th>\n",
       "      <th>region</th>\n",
       "      <th>highest_education</th>\n",
       "      <th>imd_band</th>\n",
       "      <th>age_band</th>\n",
       "      <th>num_of_prev_attempts</th>\n",
       "      <th>studied_credits</th>\n",
       "      <th>disability</th>\n",
       "      <th>final_result</th>\n",
       "      <th>module_code</th>\n",
       "      <th>CMA</th>\n",
       "      <th>TMA</th>\n",
       "    </tr>\n",
       "  </thead>\n",
       "  <tbody>\n",
       "    <tr>\n",
       "      <th>0</th>\n",
       "      <td>AAA</td>\n",
       "      <td>2013J</td>\n",
       "      <td>11391</td>\n",
       "      <td>M</td>\n",
       "      <td>East Anglian Region</td>\n",
       "      <td>HE Qualification</td>\n",
       "      <td>90-100%</td>\n",
       "      <td>55&lt;=</td>\n",
       "      <td>0</td>\n",
       "      <td>240</td>\n",
       "      <td>N</td>\n",
       "      <td>Pass</td>\n",
       "      <td>J</td>\n",
       "      <td>NaN</td>\n",
       "      <td>82.4</td>\n",
       "    </tr>\n",
       "    <tr>\n",
       "      <th>1</th>\n",
       "      <td>AAA</td>\n",
       "      <td>2013J</td>\n",
       "      <td>28400</td>\n",
       "      <td>F</td>\n",
       "      <td>Scotland</td>\n",
       "      <td>HE Qualification</td>\n",
       "      <td>20-30%</td>\n",
       "      <td>35-55</td>\n",
       "      <td>0</td>\n",
       "      <td>60</td>\n",
       "      <td>N</td>\n",
       "      <td>Pass</td>\n",
       "      <td>J</td>\n",
       "      <td>NaN</td>\n",
       "      <td>65.4</td>\n",
       "    </tr>\n",
       "    <tr>\n",
       "      <th>2</th>\n",
       "      <td>AAA</td>\n",
       "      <td>2013J</td>\n",
       "      <td>31604</td>\n",
       "      <td>F</td>\n",
       "      <td>South East Region</td>\n",
       "      <td>A Level or Equivalent</td>\n",
       "      <td>50-60%</td>\n",
       "      <td>35-55</td>\n",
       "      <td>0</td>\n",
       "      <td>60</td>\n",
       "      <td>N</td>\n",
       "      <td>Pass</td>\n",
       "      <td>J</td>\n",
       "      <td>NaN</td>\n",
       "      <td>76.3</td>\n",
       "    </tr>\n",
       "    <tr>\n",
       "      <th>3</th>\n",
       "      <td>AAA</td>\n",
       "      <td>2013J</td>\n",
       "      <td>32885</td>\n",
       "      <td>F</td>\n",
       "      <td>West Midlands Region</td>\n",
       "      <td>Lower Than A Level</td>\n",
       "      <td>50-60%</td>\n",
       "      <td>0-35</td>\n",
       "      <td>0</td>\n",
       "      <td>60</td>\n",
       "      <td>N</td>\n",
       "      <td>Pass</td>\n",
       "      <td>J</td>\n",
       "      <td>NaN</td>\n",
       "      <td>55.0</td>\n",
       "    </tr>\n",
       "    <tr>\n",
       "      <th>4</th>\n",
       "      <td>AAA</td>\n",
       "      <td>2013J</td>\n",
       "      <td>38053</td>\n",
       "      <td>M</td>\n",
       "      <td>Wales</td>\n",
       "      <td>A Level or Equivalent</td>\n",
       "      <td>80-90%</td>\n",
       "      <td>35-55</td>\n",
       "      <td>0</td>\n",
       "      <td>60</td>\n",
       "      <td>N</td>\n",
       "      <td>Pass</td>\n",
       "      <td>J</td>\n",
       "      <td>NaN</td>\n",
       "      <td>66.9</td>\n",
       "    </tr>\n",
       "  </tbody>\n",
       "</table>\n",
       "</div>"
      ],
      "text/plain": [
       "  code_module code_presentation  id_student gender                region  \\\n",
       "0         AAA             2013J       11391      M   East Anglian Region   \n",
       "1         AAA             2013J       28400      F              Scotland   \n",
       "2         AAA             2013J       31604      F     South East Region   \n",
       "3         AAA             2013J       32885      F  West Midlands Region   \n",
       "4         AAA             2013J       38053      M                 Wales   \n",
       "\n",
       "       highest_education imd_band age_band  num_of_prev_attempts  \\\n",
       "0       HE Qualification  90-100%     55<=                     0   \n",
       "1       HE Qualification   20-30%    35-55                     0   \n",
       "2  A Level or Equivalent   50-60%    35-55                     0   \n",
       "3     Lower Than A Level   50-60%     0-35                     0   \n",
       "4  A Level or Equivalent   80-90%    35-55                     0   \n",
       "\n",
       "   studied_credits disability final_result module_code  CMA   TMA  \n",
       "0              240          N         Pass           J  NaN  82.4  \n",
       "1               60          N         Pass           J  NaN  65.4  \n",
       "2               60          N         Pass           J  NaN  76.3  \n",
       "3               60          N         Pass           J  NaN  55.0  \n",
       "4               60          N         Pass           J  NaN  66.9  "
      ]
     },
     "execution_count": 55,
     "metadata": {},
     "output_type": "execute_result"
    }
   ],
   "source": [
    "feature_store.head()"
   ]
  },
  {
   "cell_type": "markdown",
   "metadata": {},
   "source": [
    "## 2.2 Limpeza dos Dados"
   ]
  },
  {
   "cell_type": "code",
   "execution_count": 56,
   "metadata": {},
   "outputs": [],
   "source": [
    "# Eliminadas as Observacoes em que o estudante desistiu e Alvo mapeado para (Pass/Fail)\n",
    "data_second_experiment = (\n",
    "                      feature_store\n",
    "                      .query(\"final_result != 'Withdrawn'\")\n",
    "                      .pipe(get_target,target_name = 'final_result')\n",
    "                      .drop(['id_student','code_presentation'],axis = 'columns')\n",
    "                     )\n",
    "\n",
    "assert list(data_second_experiment['final_result'].unique()) == ['Pass', 'Fail'] "
   ]
  },
  {
   "cell_type": "code",
   "execution_count": 57,
   "metadata": {},
   "outputs": [
    {
     "data": {
      "text/html": [
       "<div>\n",
       "<style scoped>\n",
       "    .dataframe tbody tr th:only-of-type {\n",
       "        vertical-align: middle;\n",
       "    }\n",
       "\n",
       "    .dataframe tbody tr th {\n",
       "        vertical-align: top;\n",
       "    }\n",
       "\n",
       "    .dataframe thead th {\n",
       "        text-align: right;\n",
       "    }\n",
       "</style>\n",
       "<table border=\"1\" class=\"dataframe\">\n",
       "  <thead>\n",
       "    <tr style=\"text-align: right;\">\n",
       "      <th></th>\n",
       "      <th>code_module</th>\n",
       "      <th>gender</th>\n",
       "      <th>region</th>\n",
       "      <th>highest_education</th>\n",
       "      <th>imd_band</th>\n",
       "      <th>age_band</th>\n",
       "      <th>num_of_prev_attempts</th>\n",
       "      <th>studied_credits</th>\n",
       "      <th>disability</th>\n",
       "      <th>final_result</th>\n",
       "      <th>module_code</th>\n",
       "      <th>CMA</th>\n",
       "      <th>TMA</th>\n",
       "    </tr>\n",
       "  </thead>\n",
       "  <tbody>\n",
       "    <tr>\n",
       "      <th>0</th>\n",
       "      <td>AAA</td>\n",
       "      <td>M</td>\n",
       "      <td>East Anglian Region</td>\n",
       "      <td>HE Qualification</td>\n",
       "      <td>90-100%</td>\n",
       "      <td>55&lt;=</td>\n",
       "      <td>0</td>\n",
       "      <td>240</td>\n",
       "      <td>N</td>\n",
       "      <td>Pass</td>\n",
       "      <td>J</td>\n",
       "      <td>NaN</td>\n",
       "      <td>82.4</td>\n",
       "    </tr>\n",
       "    <tr>\n",
       "      <th>1</th>\n",
       "      <td>AAA</td>\n",
       "      <td>F</td>\n",
       "      <td>Scotland</td>\n",
       "      <td>HE Qualification</td>\n",
       "      <td>20-30%</td>\n",
       "      <td>35-55</td>\n",
       "      <td>0</td>\n",
       "      <td>60</td>\n",
       "      <td>N</td>\n",
       "      <td>Pass</td>\n",
       "      <td>J</td>\n",
       "      <td>NaN</td>\n",
       "      <td>65.4</td>\n",
       "    </tr>\n",
       "    <tr>\n",
       "      <th>2</th>\n",
       "      <td>AAA</td>\n",
       "      <td>F</td>\n",
       "      <td>South East Region</td>\n",
       "      <td>A Level or Equivalent</td>\n",
       "      <td>50-60%</td>\n",
       "      <td>35-55</td>\n",
       "      <td>0</td>\n",
       "      <td>60</td>\n",
       "      <td>N</td>\n",
       "      <td>Pass</td>\n",
       "      <td>J</td>\n",
       "      <td>NaN</td>\n",
       "      <td>76.3</td>\n",
       "    </tr>\n",
       "    <tr>\n",
       "      <th>3</th>\n",
       "      <td>AAA</td>\n",
       "      <td>F</td>\n",
       "      <td>West Midlands Region</td>\n",
       "      <td>Lower Than A Level</td>\n",
       "      <td>50-60%</td>\n",
       "      <td>0-35</td>\n",
       "      <td>0</td>\n",
       "      <td>60</td>\n",
       "      <td>N</td>\n",
       "      <td>Pass</td>\n",
       "      <td>J</td>\n",
       "      <td>NaN</td>\n",
       "      <td>55.0</td>\n",
       "    </tr>\n",
       "    <tr>\n",
       "      <th>4</th>\n",
       "      <td>AAA</td>\n",
       "      <td>M</td>\n",
       "      <td>Wales</td>\n",
       "      <td>A Level or Equivalent</td>\n",
       "      <td>80-90%</td>\n",
       "      <td>35-55</td>\n",
       "      <td>0</td>\n",
       "      <td>60</td>\n",
       "      <td>N</td>\n",
       "      <td>Pass</td>\n",
       "      <td>J</td>\n",
       "      <td>NaN</td>\n",
       "      <td>66.9</td>\n",
       "    </tr>\n",
       "  </tbody>\n",
       "</table>\n",
       "</div>"
      ],
      "text/plain": [
       "  code_module gender                region      highest_education imd_band  \\\n",
       "0         AAA      M   East Anglian Region       HE Qualification  90-100%   \n",
       "1         AAA      F              Scotland       HE Qualification   20-30%   \n",
       "2         AAA      F     South East Region  A Level or Equivalent   50-60%   \n",
       "3         AAA      F  West Midlands Region     Lower Than A Level   50-60%   \n",
       "4         AAA      M                 Wales  A Level or Equivalent   80-90%   \n",
       "\n",
       "  age_band  num_of_prev_attempts  studied_credits disability final_result  \\\n",
       "0     55<=                     0              240          N         Pass   \n",
       "1    35-55                     0               60          N         Pass   \n",
       "2    35-55                     0               60          N         Pass   \n",
       "3     0-35                     0               60          N         Pass   \n",
       "4    35-55                     0               60          N         Pass   \n",
       "\n",
       "  module_code  CMA   TMA  \n",
       "0           J  NaN  82.4  \n",
       "1           J  NaN  65.4  \n",
       "2           J  NaN  76.3  \n",
       "3           J  NaN  55.0  \n",
       "4           J  NaN  66.9  "
      ]
     },
     "execution_count": 57,
     "metadata": {},
     "output_type": "execute_result"
    }
   ],
   "source": [
    "data_second_experiment.head()"
   ]
  },
  {
   "cell_type": "code",
   "execution_count": 58,
   "metadata": {},
   "outputs": [
    {
     "data": {
      "text/plain": [
       "['code_module',\n",
       " 'gender',\n",
       " 'region',\n",
       " 'highest_education',\n",
       " 'imd_band',\n",
       " 'age_band',\n",
       " 'disability',\n",
       " 'module_code']"
      ]
     },
     "execution_count": 58,
     "metadata": {},
     "output_type": "execute_result"
    }
   ],
   "source": [
    "categorical_cols = [col for col in data_second_experiment \n",
    "                    if data_second_experiment[col].dtype == 'object' and col != 'final_result']\n",
    "categorical_cols"
   ]
  },
  {
   "cell_type": "code",
   "execution_count": 59,
   "metadata": {},
   "outputs": [
    {
     "data": {
      "text/plain": [
       "['num_of_prev_attempts', 'studied_credits']"
      ]
     },
     "execution_count": 59,
     "metadata": {},
     "output_type": "execute_result"
    }
   ],
   "source": [
    "numerical_cols = [col for col in data_second_experiment if data_second_experiment[col].dtype != 'object' \n",
    "                  and col not in ['CMA','TMA'] ]\n",
    "numerical_cols"
   ]
  },
  {
   "cell_type": "code",
   "execution_count": 60,
   "metadata": {},
   "outputs": [],
   "source": [
    "grade_cols = ['CMA','TMA']"
   ]
  },
  {
   "cell_type": "code",
   "execution_count": 61,
   "metadata": {},
   "outputs": [],
   "source": [
    "assert ((len(categorical_cols) + len(numerical_cols) + len(grade_cols))) == (data_second_experiment.shape[1] - 1) "
   ]
  },
  {
   "cell_type": "code",
   "execution_count": 62,
   "metadata": {},
   "outputs": [],
   "source": [
    "data_second_experiment['final_result'] = (\n",
    "                                            data_second_experiment['final_result']\n",
    "                                            .map({'Pass':0,'Fail':1})\n",
    "                                        )"
   ]
  },
  {
   "cell_type": "code",
   "execution_count": 63,
   "metadata": {},
   "outputs": [
    {
     "data": {
      "text/html": [
       "<div>\n",
       "<style scoped>\n",
       "    .dataframe tbody tr th:only-of-type {\n",
       "        vertical-align: middle;\n",
       "    }\n",
       "\n",
       "    .dataframe tbody tr th {\n",
       "        vertical-align: top;\n",
       "    }\n",
       "\n",
       "    .dataframe thead th {\n",
       "        text-align: right;\n",
       "    }\n",
       "</style>\n",
       "<table border=\"1\" class=\"dataframe\">\n",
       "  <thead>\n",
       "    <tr style=\"text-align: right;\">\n",
       "      <th></th>\n",
       "      <th>code_module</th>\n",
       "      <th>gender</th>\n",
       "      <th>region</th>\n",
       "      <th>highest_education</th>\n",
       "      <th>imd_band</th>\n",
       "      <th>age_band</th>\n",
       "      <th>num_of_prev_attempts</th>\n",
       "      <th>studied_credits</th>\n",
       "      <th>disability</th>\n",
       "      <th>final_result</th>\n",
       "      <th>module_code</th>\n",
       "      <th>CMA</th>\n",
       "      <th>TMA</th>\n",
       "    </tr>\n",
       "  </thead>\n",
       "  <tbody>\n",
       "    <tr>\n",
       "      <th>0</th>\n",
       "      <td>AAA</td>\n",
       "      <td>M</td>\n",
       "      <td>East Anglian Region</td>\n",
       "      <td>HE Qualification</td>\n",
       "      <td>90-100%</td>\n",
       "      <td>55&lt;=</td>\n",
       "      <td>0</td>\n",
       "      <td>240</td>\n",
       "      <td>N</td>\n",
       "      <td>0</td>\n",
       "      <td>J</td>\n",
       "      <td>NaN</td>\n",
       "      <td>82.4</td>\n",
       "    </tr>\n",
       "    <tr>\n",
       "      <th>1</th>\n",
       "      <td>AAA</td>\n",
       "      <td>F</td>\n",
       "      <td>Scotland</td>\n",
       "      <td>HE Qualification</td>\n",
       "      <td>20-30%</td>\n",
       "      <td>35-55</td>\n",
       "      <td>0</td>\n",
       "      <td>60</td>\n",
       "      <td>N</td>\n",
       "      <td>0</td>\n",
       "      <td>J</td>\n",
       "      <td>NaN</td>\n",
       "      <td>65.4</td>\n",
       "    </tr>\n",
       "    <tr>\n",
       "      <th>2</th>\n",
       "      <td>AAA</td>\n",
       "      <td>F</td>\n",
       "      <td>South East Region</td>\n",
       "      <td>A Level or Equivalent</td>\n",
       "      <td>50-60%</td>\n",
       "      <td>35-55</td>\n",
       "      <td>0</td>\n",
       "      <td>60</td>\n",
       "      <td>N</td>\n",
       "      <td>0</td>\n",
       "      <td>J</td>\n",
       "      <td>NaN</td>\n",
       "      <td>76.3</td>\n",
       "    </tr>\n",
       "    <tr>\n",
       "      <th>3</th>\n",
       "      <td>AAA</td>\n",
       "      <td>F</td>\n",
       "      <td>West Midlands Region</td>\n",
       "      <td>Lower Than A Level</td>\n",
       "      <td>50-60%</td>\n",
       "      <td>0-35</td>\n",
       "      <td>0</td>\n",
       "      <td>60</td>\n",
       "      <td>N</td>\n",
       "      <td>0</td>\n",
       "      <td>J</td>\n",
       "      <td>NaN</td>\n",
       "      <td>55.0</td>\n",
       "    </tr>\n",
       "    <tr>\n",
       "      <th>4</th>\n",
       "      <td>AAA</td>\n",
       "      <td>M</td>\n",
       "      <td>Wales</td>\n",
       "      <td>A Level or Equivalent</td>\n",
       "      <td>80-90%</td>\n",
       "      <td>35-55</td>\n",
       "      <td>0</td>\n",
       "      <td>60</td>\n",
       "      <td>N</td>\n",
       "      <td>0</td>\n",
       "      <td>J</td>\n",
       "      <td>NaN</td>\n",
       "      <td>66.9</td>\n",
       "    </tr>\n",
       "  </tbody>\n",
       "</table>\n",
       "</div>"
      ],
      "text/plain": [
       "  code_module gender                region      highest_education imd_band  \\\n",
       "0         AAA      M   East Anglian Region       HE Qualification  90-100%   \n",
       "1         AAA      F              Scotland       HE Qualification   20-30%   \n",
       "2         AAA      F     South East Region  A Level or Equivalent   50-60%   \n",
       "3         AAA      F  West Midlands Region     Lower Than A Level   50-60%   \n",
       "4         AAA      M                 Wales  A Level or Equivalent   80-90%   \n",
       "\n",
       "  age_band  num_of_prev_attempts  studied_credits disability  final_result  \\\n",
       "0     55<=                     0              240          N             0   \n",
       "1    35-55                     0               60          N             0   \n",
       "2    35-55                     0               60          N             0   \n",
       "3     0-35                     0               60          N             0   \n",
       "4    35-55                     0               60          N             0   \n",
       "\n",
       "  module_code  CMA   TMA  \n",
       "0           J  NaN  82.4  \n",
       "1           J  NaN  65.4  \n",
       "2           J  NaN  76.3  \n",
       "3           J  NaN  55.0  \n",
       "4           J  NaN  66.9  "
      ]
     },
     "execution_count": 63,
     "metadata": {},
     "output_type": "execute_result"
    }
   ],
   "source": [
    "data_second_experiment.head()"
   ]
  },
  {
   "cell_type": "markdown",
   "metadata": {},
   "source": [
    "## 2.3 Partição dos Dados em Treino e Teste"
   ]
  },
  {
   "cell_type": "code",
   "execution_count": 64,
   "metadata": {},
   "outputs": [],
   "source": [
    "X = data_second_experiment.drop('final_result',axis = 'columns')\n",
    "y = data_second_experiment['final_result']\n",
    "\n",
    "assert X.shape[0] == y.shape[0]\n",
    "\n",
    "X_train, _, y_train, _ = train_test_split(\n",
    "                                         X,\n",
    "                                         y,\n",
    "                                         test_size = TEST_SIZE,\n",
    "                                         random_state= RANDOM_SEED,\n",
    "                                         stratify = y\n",
    "                                        )\n",
    "\n",
    "assert X_train.shape[0] == y_train.shape[0]"
   ]
  },
  {
   "cell_type": "markdown",
   "metadata": {},
   "source": [
    "## 2.4 Segundo Modelo"
   ]
  },
  {
   "cell_type": "markdown",
   "metadata": {},
   "source": [
    "Valores faltantes nas avaliações (CMA,TMA) serao imputadas com valor zero."
   ]
  },
  {
   "cell_type": "code",
   "execution_count": 65,
   "metadata": {},
   "outputs": [],
   "source": [
    "imputer_grades = SimpleImputer(strategy = 'constant',fill_value = 0,add_indicator=True)"
   ]
  },
  {
   "cell_type": "code",
   "execution_count": 66,
   "metadata": {},
   "outputs": [
    {
     "data": {
      "text/html": [
       "<style>div.sk-top-container {color: black;background-color: white;}div.sk-toggleable {background-color: white;}label.sk-toggleable__label {cursor: pointer;display: block;width: 100%;margin-bottom: 0;padding: 0.2em 0.3em;box-sizing: border-box;text-align: center;}div.sk-toggleable__content {max-height: 0;max-width: 0;overflow: hidden;text-align: left;background-color: #f0f8ff;}div.sk-toggleable__content pre {margin: 0.2em;color: black;border-radius: 0.25em;background-color: #f0f8ff;}input.sk-toggleable__control:checked~div.sk-toggleable__content {max-height: 200px;max-width: 100%;overflow: auto;}div.sk-estimator input.sk-toggleable__control:checked~label.sk-toggleable__label {background-color: #d4ebff;}div.sk-label input.sk-toggleable__control:checked~label.sk-toggleable__label {background-color: #d4ebff;}input.sk-hidden--visually {border: 0;clip: rect(1px 1px 1px 1px);clip: rect(1px, 1px, 1px, 1px);height: 1px;margin: -1px;overflow: hidden;padding: 0;position: absolute;width: 1px;}div.sk-estimator {font-family: monospace;background-color: #f0f8ff;margin: 0.25em 0.25em;border: 1px dotted black;border-radius: 0.25em;box-sizing: border-box;}div.sk-estimator:hover {background-color: #d4ebff;}div.sk-parallel-item::after {content: \"\";width: 100%;border-bottom: 1px solid gray;flex-grow: 1;}div.sk-label:hover label.sk-toggleable__label {background-color: #d4ebff;}div.sk-serial::before {content: \"\";position: absolute;border-left: 1px solid gray;box-sizing: border-box;top: 2em;bottom: 0;left: 50%;}div.sk-serial {display: flex;flex-direction: column;align-items: center;background-color: white;}div.sk-item {z-index: 1;}div.sk-parallel {display: flex;align-items: stretch;justify-content: center;background-color: white;}div.sk-parallel-item {display: flex;flex-direction: column;position: relative;background-color: white;}div.sk-parallel-item:first-child::after {align-self: flex-end;width: 50%;}div.sk-parallel-item:last-child::after {align-self: flex-start;width: 50%;}div.sk-parallel-item:only-child::after {width: 0;}div.sk-dashed-wrapped {border: 1px dashed gray;margin: 0.2em;box-sizing: border-box;padding-bottom: 0.1em;background-color: white;position: relative;}div.sk-label label {font-family: monospace;font-weight: bold;background-color: white;display: inline-block;line-height: 1.2em;}div.sk-label-container {position: relative;z-index: 2;text-align: center;}div.sk-container {display: inline-block;position: relative;}</style><div class=\"sk-top-container\"><div class=\"sk-container\"><div class=\"sk-item sk-dashed-wrapped\"><div class=\"sk-label-container\"><div class=\"sk-label sk-toggleable\"><input class=\"sk-toggleable__control sk-hidden--visually\" id=\"01342619-7d22-456d-92af-3a6332a5fb30\" type=\"checkbox\" ><label class=\"sk-toggleable__label\" for=\"01342619-7d22-456d-92af-3a6332a5fb30\">ColumnTransformer</label><div class=\"sk-toggleable__content\"><pre>ColumnTransformer(transformers=[('pipeline',\n",
       "                                 Pipeline(steps=[('simpleimputer',\n",
       "                                                  SimpleImputer(add_indicator=True,\n",
       "                                                                fill_value='Missing',\n",
       "                                                                strategy='constant')),\n",
       "                                                 ('onehotencoder',\n",
       "                                                  OneHotEncoder(handle_unknown='ignore'))]),\n",
       "                                 ['code_module', 'gender', 'region',\n",
       "                                  'highest_education', 'imd_band', 'age_band',\n",
       "                                  'disability', 'module_code']),\n",
       "                                ('simpleimputer-1',\n",
       "                                 SimpleImputer(add_indicator=True,\n",
       "                                               strategy='median'),\n",
       "                                 ['num_of_prev_attempts', 'studied_credits']),\n",
       "                                ('simpleimputer-2',\n",
       "                                 SimpleImputer(add_indicator=True, fill_value=0,\n",
       "                                               strategy='constant'),\n",
       "                                 ['CMA', 'TMA'])])</pre></div></div></div><div class=\"sk-parallel\"><div class=\"sk-parallel-item\"><div class=\"sk-item\"><div class=\"sk-label-container\"><div class=\"sk-label sk-toggleable\"><input class=\"sk-toggleable__control sk-hidden--visually\" id=\"281d5093-a8dc-4f91-a15b-a69cb33d8d17\" type=\"checkbox\" ><label class=\"sk-toggleable__label\" for=\"281d5093-a8dc-4f91-a15b-a69cb33d8d17\">pipeline</label><div class=\"sk-toggleable__content\"><pre>['code_module', 'gender', 'region', 'highest_education', 'imd_band', 'age_band', 'disability', 'module_code']</pre></div></div></div><div class=\"sk-serial\"><div class=\"sk-item\"><div class=\"sk-serial\"><div class=\"sk-item\"><div class=\"sk-estimator sk-toggleable\"><input class=\"sk-toggleable__control sk-hidden--visually\" id=\"714587db-8474-4b29-b709-ab1f8a3933d8\" type=\"checkbox\" ><label class=\"sk-toggleable__label\" for=\"714587db-8474-4b29-b709-ab1f8a3933d8\">SimpleImputer</label><div class=\"sk-toggleable__content\"><pre>SimpleImputer(add_indicator=True, fill_value='Missing', strategy='constant')</pre></div></div></div><div class=\"sk-item\"><div class=\"sk-estimator sk-toggleable\"><input class=\"sk-toggleable__control sk-hidden--visually\" id=\"298c7932-a0ad-4b1f-8ba9-592c750ea03a\" type=\"checkbox\" ><label class=\"sk-toggleable__label\" for=\"298c7932-a0ad-4b1f-8ba9-592c750ea03a\">OneHotEncoder</label><div class=\"sk-toggleable__content\"><pre>OneHotEncoder(handle_unknown='ignore')</pre></div></div></div></div></div></div></div></div><div class=\"sk-parallel-item\"><div class=\"sk-item\"><div class=\"sk-label-container\"><div class=\"sk-label sk-toggleable\"><input class=\"sk-toggleable__control sk-hidden--visually\" id=\"7c14cffa-cc02-40e5-8b4b-3ea0ad1bfaba\" type=\"checkbox\" ><label class=\"sk-toggleable__label\" for=\"7c14cffa-cc02-40e5-8b4b-3ea0ad1bfaba\">simpleimputer-1</label><div class=\"sk-toggleable__content\"><pre>['num_of_prev_attempts', 'studied_credits']</pre></div></div></div><div class=\"sk-serial\"><div class=\"sk-item\"><div class=\"sk-estimator sk-toggleable\"><input class=\"sk-toggleable__control sk-hidden--visually\" id=\"970aec66-8962-428d-b1c8-1aa9b64e23c8\" type=\"checkbox\" ><label class=\"sk-toggleable__label\" for=\"970aec66-8962-428d-b1c8-1aa9b64e23c8\">SimpleImputer</label><div class=\"sk-toggleable__content\"><pre>SimpleImputer(add_indicator=True, strategy='median')</pre></div></div></div></div></div></div><div class=\"sk-parallel-item\"><div class=\"sk-item\"><div class=\"sk-label-container\"><div class=\"sk-label sk-toggleable\"><input class=\"sk-toggleable__control sk-hidden--visually\" id=\"9474ba62-dd53-4d3d-9905-a483f6eb2fa6\" type=\"checkbox\" ><label class=\"sk-toggleable__label\" for=\"9474ba62-dd53-4d3d-9905-a483f6eb2fa6\">simpleimputer-2</label><div class=\"sk-toggleable__content\"><pre>['CMA', 'TMA']</pre></div></div></div><div class=\"sk-serial\"><div class=\"sk-item\"><div class=\"sk-estimator sk-toggleable\"><input class=\"sk-toggleable__control sk-hidden--visually\" id=\"4eff689a-120d-4139-8a11-fa4f81faa227\" type=\"checkbox\" ><label class=\"sk-toggleable__label\" for=\"4eff689a-120d-4139-8a11-fa4f81faa227\">SimpleImputer</label><div class=\"sk-toggleable__content\"><pre>SimpleImputer(add_indicator=True, fill_value=0, strategy='constant')</pre></div></div></div></div></div></div></div></div></div></div>"
      ],
      "text/plain": [
       "ColumnTransformer(transformers=[('pipeline',\n",
       "                                 Pipeline(steps=[('simpleimputer',\n",
       "                                                  SimpleImputer(add_indicator=True,\n",
       "                                                                fill_value='Missing',\n",
       "                                                                strategy='constant')),\n",
       "                                                 ('onehotencoder',\n",
       "                                                  OneHotEncoder(handle_unknown='ignore'))]),\n",
       "                                 ['code_module', 'gender', 'region',\n",
       "                                  'highest_education', 'imd_band', 'age_band',\n",
       "                                  'disability', 'module_code']),\n",
       "                                ('simpleimputer-1',\n",
       "                                 SimpleImputer(add_indicator=True,\n",
       "                                               strategy='median'),\n",
       "                                 ['num_of_prev_attempts', 'studied_credits']),\n",
       "                                ('simpleimputer-2',\n",
       "                                 SimpleImputer(add_indicator=True, fill_value=0,\n",
       "                                               strategy='constant'),\n",
       "                                 ['CMA', 'TMA'])])"
      ]
     },
     "execution_count": 66,
     "metadata": {},
     "output_type": "execute_result"
    }
   ],
   "source": [
    "second_experiment_pipeline = make_column_transformer(\n",
    "                                                    (cat_pipeline,categorical_cols),\n",
    "                                                    (imputer_num,numerical_cols),\n",
    "                                                    (imputer_grades,grade_cols)\n",
    "                                                    )\n",
    "\n",
    "second_experiment_pipeline"
   ]
  },
  {
   "cell_type": "code",
   "execution_count": 67,
   "metadata": {},
   "outputs": [
    {
     "data": {
      "text/html": [
       "<style>div.sk-top-container {color: black;background-color: white;}div.sk-toggleable {background-color: white;}label.sk-toggleable__label {cursor: pointer;display: block;width: 100%;margin-bottom: 0;padding: 0.2em 0.3em;box-sizing: border-box;text-align: center;}div.sk-toggleable__content {max-height: 0;max-width: 0;overflow: hidden;text-align: left;background-color: #f0f8ff;}div.sk-toggleable__content pre {margin: 0.2em;color: black;border-radius: 0.25em;background-color: #f0f8ff;}input.sk-toggleable__control:checked~div.sk-toggleable__content {max-height: 200px;max-width: 100%;overflow: auto;}div.sk-estimator input.sk-toggleable__control:checked~label.sk-toggleable__label {background-color: #d4ebff;}div.sk-label input.sk-toggleable__control:checked~label.sk-toggleable__label {background-color: #d4ebff;}input.sk-hidden--visually {border: 0;clip: rect(1px 1px 1px 1px);clip: rect(1px, 1px, 1px, 1px);height: 1px;margin: -1px;overflow: hidden;padding: 0;position: absolute;width: 1px;}div.sk-estimator {font-family: monospace;background-color: #f0f8ff;margin: 0.25em 0.25em;border: 1px dotted black;border-radius: 0.25em;box-sizing: border-box;}div.sk-estimator:hover {background-color: #d4ebff;}div.sk-parallel-item::after {content: \"\";width: 100%;border-bottom: 1px solid gray;flex-grow: 1;}div.sk-label:hover label.sk-toggleable__label {background-color: #d4ebff;}div.sk-serial::before {content: \"\";position: absolute;border-left: 1px solid gray;box-sizing: border-box;top: 2em;bottom: 0;left: 50%;}div.sk-serial {display: flex;flex-direction: column;align-items: center;background-color: white;}div.sk-item {z-index: 1;}div.sk-parallel {display: flex;align-items: stretch;justify-content: center;background-color: white;}div.sk-parallel-item {display: flex;flex-direction: column;position: relative;background-color: white;}div.sk-parallel-item:first-child::after {align-self: flex-end;width: 50%;}div.sk-parallel-item:last-child::after {align-self: flex-start;width: 50%;}div.sk-parallel-item:only-child::after {width: 0;}div.sk-dashed-wrapped {border: 1px dashed gray;margin: 0.2em;box-sizing: border-box;padding-bottom: 0.1em;background-color: white;position: relative;}div.sk-label label {font-family: monospace;font-weight: bold;background-color: white;display: inline-block;line-height: 1.2em;}div.sk-label-container {position: relative;z-index: 2;text-align: center;}div.sk-container {display: inline-block;position: relative;}</style><div class=\"sk-top-container\"><div class=\"sk-container\"><div class=\"sk-item sk-dashed-wrapped\"><div class=\"sk-label-container\"><div class=\"sk-label sk-toggleable\"><input class=\"sk-toggleable__control sk-hidden--visually\" id=\"1ee6f4d9-f3cb-4a08-8947-f7e730b2da21\" type=\"checkbox\" ><label class=\"sk-toggleable__label\" for=\"1ee6f4d9-f3cb-4a08-8947-f7e730b2da21\">Pipeline</label><div class=\"sk-toggleable__content\"><pre>Pipeline(steps=[('columntransformer',\n",
       "                 ColumnTransformer(transformers=[('pipeline',\n",
       "                                                  Pipeline(steps=[('simpleimputer',\n",
       "                                                                   SimpleImputer(add_indicator=True,\n",
       "                                                                                 fill_value='Missing',\n",
       "                                                                                 strategy='constant')),\n",
       "                                                                  ('onehotencoder',\n",
       "                                                                   OneHotEncoder(handle_unknown='ignore'))]),\n",
       "                                                  ['code_module', 'gender',\n",
       "                                                   'region',\n",
       "                                                   'highest_education',\n",
       "                                                   'imd_band', 'age_band',\n",
       "                                                   'disability',\n",
       "                                                   'module_code']),\n",
       "                                                 ('simpleimputer-1',\n",
       "                                                  SimpleImputer(add_indicator=True,\n",
       "                                                                strategy='median'),\n",
       "                                                  ['num_of_prev_attempts',\n",
       "                                                   'studied_credits']),\n",
       "                                                 ('simpleimputer-2',\n",
       "                                                  SimpleImputer(add_indicator=True,\n",
       "                                                                fill_value=0,\n",
       "                                                                strategy='constant'),\n",
       "                                                  ['CMA', 'TMA'])])),\n",
       "                ('randomforestclassifier',\n",
       "                 RandomForestClassifier(class_weight='balanced',\n",
       "                                        max_features='sqrt', n_estimators=500,\n",
       "                                        random_state=42))])</pre></div></div></div><div class=\"sk-serial\"><div class=\"sk-item sk-dashed-wrapped\"><div class=\"sk-label-container\"><div class=\"sk-label sk-toggleable\"><input class=\"sk-toggleable__control sk-hidden--visually\" id=\"7e8ac4cb-70eb-44d0-ae89-66cbaa075b18\" type=\"checkbox\" ><label class=\"sk-toggleable__label\" for=\"7e8ac4cb-70eb-44d0-ae89-66cbaa075b18\">columntransformer: ColumnTransformer</label><div class=\"sk-toggleable__content\"><pre>ColumnTransformer(transformers=[('pipeline',\n",
       "                                 Pipeline(steps=[('simpleimputer',\n",
       "                                                  SimpleImputer(add_indicator=True,\n",
       "                                                                fill_value='Missing',\n",
       "                                                                strategy='constant')),\n",
       "                                                 ('onehotencoder',\n",
       "                                                  OneHotEncoder(handle_unknown='ignore'))]),\n",
       "                                 ['code_module', 'gender', 'region',\n",
       "                                  'highest_education', 'imd_band', 'age_band',\n",
       "                                  'disability', 'module_code']),\n",
       "                                ('simpleimputer-1',\n",
       "                                 SimpleImputer(add_indicator=True,\n",
       "                                               strategy='median'),\n",
       "                                 ['num_of_prev_attempts', 'studied_credits']),\n",
       "                                ('simpleimputer-2',\n",
       "                                 SimpleImputer(add_indicator=True, fill_value=0,\n",
       "                                               strategy='constant'),\n",
       "                                 ['CMA', 'TMA'])])</pre></div></div></div><div class=\"sk-parallel\"><div class=\"sk-parallel-item\"><div class=\"sk-item\"><div class=\"sk-label-container\"><div class=\"sk-label sk-toggleable\"><input class=\"sk-toggleable__control sk-hidden--visually\" id=\"7d2a9d1d-e624-4c43-9642-7c357d6fb74b\" type=\"checkbox\" ><label class=\"sk-toggleable__label\" for=\"7d2a9d1d-e624-4c43-9642-7c357d6fb74b\">pipeline</label><div class=\"sk-toggleable__content\"><pre>['code_module', 'gender', 'region', 'highest_education', 'imd_band', 'age_band', 'disability', 'module_code']</pre></div></div></div><div class=\"sk-serial\"><div class=\"sk-item\"><div class=\"sk-serial\"><div class=\"sk-item\"><div class=\"sk-estimator sk-toggleable\"><input class=\"sk-toggleable__control sk-hidden--visually\" id=\"3a476821-1509-4000-9aa6-9713b0373ce8\" type=\"checkbox\" ><label class=\"sk-toggleable__label\" for=\"3a476821-1509-4000-9aa6-9713b0373ce8\">SimpleImputer</label><div class=\"sk-toggleable__content\"><pre>SimpleImputer(add_indicator=True, fill_value='Missing', strategy='constant')</pre></div></div></div><div class=\"sk-item\"><div class=\"sk-estimator sk-toggleable\"><input class=\"sk-toggleable__control sk-hidden--visually\" id=\"4bc2e3e3-c1c6-47bd-b7c8-d3fa0c2a675a\" type=\"checkbox\" ><label class=\"sk-toggleable__label\" for=\"4bc2e3e3-c1c6-47bd-b7c8-d3fa0c2a675a\">OneHotEncoder</label><div class=\"sk-toggleable__content\"><pre>OneHotEncoder(handle_unknown='ignore')</pre></div></div></div></div></div></div></div></div><div class=\"sk-parallel-item\"><div class=\"sk-item\"><div class=\"sk-label-container\"><div class=\"sk-label sk-toggleable\"><input class=\"sk-toggleable__control sk-hidden--visually\" id=\"59e6c47c-6c37-4ab7-951a-62c4c7034b38\" type=\"checkbox\" ><label class=\"sk-toggleable__label\" for=\"59e6c47c-6c37-4ab7-951a-62c4c7034b38\">simpleimputer-1</label><div class=\"sk-toggleable__content\"><pre>['num_of_prev_attempts', 'studied_credits']</pre></div></div></div><div class=\"sk-serial\"><div class=\"sk-item\"><div class=\"sk-estimator sk-toggleable\"><input class=\"sk-toggleable__control sk-hidden--visually\" id=\"024b7785-bd64-469b-a941-4b93cff41667\" type=\"checkbox\" ><label class=\"sk-toggleable__label\" for=\"024b7785-bd64-469b-a941-4b93cff41667\">SimpleImputer</label><div class=\"sk-toggleable__content\"><pre>SimpleImputer(add_indicator=True, strategy='median')</pre></div></div></div></div></div></div><div class=\"sk-parallel-item\"><div class=\"sk-item\"><div class=\"sk-label-container\"><div class=\"sk-label sk-toggleable\"><input class=\"sk-toggleable__control sk-hidden--visually\" id=\"3fae5e76-70cf-43a1-904d-9dcd001abbdf\" type=\"checkbox\" ><label class=\"sk-toggleable__label\" for=\"3fae5e76-70cf-43a1-904d-9dcd001abbdf\">simpleimputer-2</label><div class=\"sk-toggleable__content\"><pre>['CMA', 'TMA']</pre></div></div></div><div class=\"sk-serial\"><div class=\"sk-item\"><div class=\"sk-estimator sk-toggleable\"><input class=\"sk-toggleable__control sk-hidden--visually\" id=\"5a728697-59b0-43c2-a604-425e1a4bf3c5\" type=\"checkbox\" ><label class=\"sk-toggleable__label\" for=\"5a728697-59b0-43c2-a604-425e1a4bf3c5\">SimpleImputer</label><div class=\"sk-toggleable__content\"><pre>SimpleImputer(add_indicator=True, fill_value=0, strategy='constant')</pre></div></div></div></div></div></div></div></div><div class=\"sk-item\"><div class=\"sk-estimator sk-toggleable\"><input class=\"sk-toggleable__control sk-hidden--visually\" id=\"a726a6c6-2be1-4732-9747-b75981e594cf\" type=\"checkbox\" ><label class=\"sk-toggleable__label\" for=\"a726a6c6-2be1-4732-9747-b75981e594cf\">RandomForestClassifier</label><div class=\"sk-toggleable__content\"><pre>RandomForestClassifier(class_weight='balanced', max_features='sqrt',\n",
       "                       n_estimators=500, random_state=42)</pre></div></div></div></div></div></div></div>"
      ],
      "text/plain": [
       "Pipeline(steps=[('columntransformer',\n",
       "                 ColumnTransformer(transformers=[('pipeline',\n",
       "                                                  Pipeline(steps=[('simpleimputer',\n",
       "                                                                   SimpleImputer(add_indicator=True,\n",
       "                                                                                 fill_value='Missing',\n",
       "                                                                                 strategy='constant')),\n",
       "                                                                  ('onehotencoder',\n",
       "                                                                   OneHotEncoder(handle_unknown='ignore'))]),\n",
       "                                                  ['code_module', 'gender',\n",
       "                                                   'region',\n",
       "                                                   'highest_education',\n",
       "                                                   'imd_band', 'age_band',\n",
       "                                                   'disability',\n",
       "                                                   'module_code']),\n",
       "                                                 ('simpleimputer-1',\n",
       "                                                  SimpleImputer(add_indicator=True,\n",
       "                                                                strategy='median'),\n",
       "                                                  ['num_of_prev_attempts',\n",
       "                                                   'studied_credits']),\n",
       "                                                 ('simpleimputer-2',\n",
       "                                                  SimpleImputer(add_indicator=True,\n",
       "                                                                fill_value=0,\n",
       "                                                                strategy='constant'),\n",
       "                                                  ['CMA', 'TMA'])])),\n",
       "                ('randomforestclassifier',\n",
       "                 RandomForestClassifier(class_weight='balanced',\n",
       "                                        max_features='sqrt', n_estimators=500,\n",
       "                                        random_state=42))])"
      ]
     },
     "execution_count": 67,
     "metadata": {},
     "output_type": "execute_result"
    }
   ],
   "source": [
    "second_model = make_pipeline(\n",
    "                            second_experiment_pipeline,\n",
    "                            RandomForestClassifier(n_estimators=500,\n",
    "                                                   max_features=\"sqrt\",\n",
    "                                                   class_weight='balanced',   #remediar o desbalanceamento \n",
    "                                                   random_state=RANDOM_SEED)\n",
    "                           )\n",
    "\n",
    "second_model"
   ]
  },
  {
   "cell_type": "markdown",
   "metadata": {},
   "source": [
    "## 2.5 Avaliando o Segundo Modelo"
   ]
  },
  {
   "cell_type": "code",
   "execution_count": 68,
   "metadata": {},
   "outputs": [],
   "source": [
    "average_precision_second = cross_val_score(\n",
    "                                            estimator = second_model,\n",
    "                                            X = X_train,\n",
    "                                            y = y_train,\n",
    "                                            scoring = make_scorer(average_precision_score,needs_proba=True),\n",
    "                                            cv = skf\n",
    "                                             )\n",
    "# Cross-Validation Predictions\n",
    "cv_preds = cross_val_predict(\n",
    "                              estimator = second_model,\n",
    "                              X = X_train,\n",
    "                              y = y_train,\n",
    "                              cv = 5, # n_splits --> O padrao ja eh stratified kfold\n",
    "                              method = 'predict_proba'\n",
    "                             )"
   ]
  },
  {
   "cell_type": "code",
   "execution_count": 69,
   "metadata": {},
   "outputs": [
    {
     "data": {
      "text/plain": [
       "'CV Average Precision: 0.86 / Desvio-Padrão: 0.005'"
      ]
     },
     "execution_count": 69,
     "metadata": {},
     "output_type": "execute_result"
    }
   ],
   "source": [
    "ap,std = np.mean(average_precision_second).round(2),np.std(average_precision_second).round(3)\n",
    "f'CV Average Precision: {ap} / Desvio-Padrão: {std}'"
   ]
  },
  {
   "cell_type": "markdown",
   "metadata": {},
   "source": [
    "Wow! O segundo experimento produziu um modelo **120%** mais capaz do que o primeiro. *Average Precision* saltou para **0.86** e com estabilidade na *Cross-Validation* (desvio-padrão bastante baixo), o que nos da confiança sobre a qualidade do modelo produzido. Como temos ainda um pouco de orçamento de horas, faremos um terceiro experimento."
   ]
  },
  {
   "cell_type": "markdown",
   "metadata": {},
   "source": [
    "## 2.6 Salvando o Segundo Experimento em Disco"
   ]
  },
  {
   "cell_type": "code",
   "execution_count": 70,
   "metadata": {},
   "outputs": [],
   "source": [
    "second_model.fit(X_train,y_train)\n",
    "dump(second_model, 'segundo_experimento.joblib')\n",
    "assert (load('segundo_experimento.joblib').predict(X_train) == second_model.predict(X_train)).all()"
   ]
  },
  {
   "cell_type": "markdown",
   "metadata": {},
   "source": [
    "# 3. Terceiro Experimento"
   ]
  },
  {
   "cell_type": "markdown",
   "metadata": {},
   "source": [
    "## 3.1 Exploração/Agregação de studentVle e Vle"
   ]
  },
  {
   "cell_type": "markdown",
   "metadata": {},
   "source": [
    "No terceiro experimento iremos agregar os dados sobre a interação dos estudantes na plataforma de aprendizagem, como clicks nas diversas atividades dos módulos (ou a ausência de interação). Nossa intuição diz que este experimento pode levar o desempenho do modelo mais longe ainda."
   ]
  },
  {
   "cell_type": "code",
   "execution_count": 71,
   "metadata": {},
   "outputs": [],
   "source": [
    "student_Vle = pd.read_csv(Path(input_folder,studentVle_data))  #Dataset Grande --> low_memory mudado pra True"
   ]
  },
  {
   "cell_type": "code",
   "execution_count": 72,
   "metadata": {},
   "outputs": [
    {
     "data": {
      "text/plain": [
       "'Student_Vle Assessment Dataset Contem 10655280 linhas e 6 colunas'"
      ]
     },
     "execution_count": 72,
     "metadata": {},
     "output_type": "execute_result"
    }
   ],
   "source": [
    "f'Student_Vle Assessment Dataset Contem {student_Vle.shape[0]} linhas e {student_Vle.shape[1]} colunas'"
   ]
  },
  {
   "cell_type": "code",
   "execution_count": 73,
   "metadata": {},
   "outputs": [
    {
     "data": {
      "text/html": [
       "<div>\n",
       "<style scoped>\n",
       "    .dataframe tbody tr th:only-of-type {\n",
       "        vertical-align: middle;\n",
       "    }\n",
       "\n",
       "    .dataframe tbody tr th {\n",
       "        vertical-align: top;\n",
       "    }\n",
       "\n",
       "    .dataframe thead th {\n",
       "        text-align: right;\n",
       "    }\n",
       "</style>\n",
       "<table border=\"1\" class=\"dataframe\">\n",
       "  <thead>\n",
       "    <tr style=\"text-align: right;\">\n",
       "      <th></th>\n",
       "      <th>code_module</th>\n",
       "      <th>code_presentation</th>\n",
       "      <th>id_student</th>\n",
       "      <th>id_site</th>\n",
       "      <th>date</th>\n",
       "      <th>sum_click</th>\n",
       "    </tr>\n",
       "  </thead>\n",
       "  <tbody>\n",
       "    <tr>\n",
       "      <th>0</th>\n",
       "      <td>AAA</td>\n",
       "      <td>2013J</td>\n",
       "      <td>28400</td>\n",
       "      <td>546652</td>\n",
       "      <td>-10</td>\n",
       "      <td>4</td>\n",
       "    </tr>\n",
       "    <tr>\n",
       "      <th>1</th>\n",
       "      <td>AAA</td>\n",
       "      <td>2013J</td>\n",
       "      <td>28400</td>\n",
       "      <td>546652</td>\n",
       "      <td>-10</td>\n",
       "      <td>1</td>\n",
       "    </tr>\n",
       "    <tr>\n",
       "      <th>2</th>\n",
       "      <td>AAA</td>\n",
       "      <td>2013J</td>\n",
       "      <td>28400</td>\n",
       "      <td>546652</td>\n",
       "      <td>-10</td>\n",
       "      <td>1</td>\n",
       "    </tr>\n",
       "    <tr>\n",
       "      <th>3</th>\n",
       "      <td>AAA</td>\n",
       "      <td>2013J</td>\n",
       "      <td>28400</td>\n",
       "      <td>546614</td>\n",
       "      <td>-10</td>\n",
       "      <td>11</td>\n",
       "    </tr>\n",
       "    <tr>\n",
       "      <th>4</th>\n",
       "      <td>AAA</td>\n",
       "      <td>2013J</td>\n",
       "      <td>28400</td>\n",
       "      <td>546714</td>\n",
       "      <td>-10</td>\n",
       "      <td>1</td>\n",
       "    </tr>\n",
       "  </tbody>\n",
       "</table>\n",
       "</div>"
      ],
      "text/plain": [
       "  code_module code_presentation  id_student  id_site  date  sum_click\n",
       "0         AAA             2013J       28400   546652   -10          4\n",
       "1         AAA             2013J       28400   546652   -10          1\n",
       "2         AAA             2013J       28400   546652   -10          1\n",
       "3         AAA             2013J       28400   546614   -10         11\n",
       "4         AAA             2013J       28400   546714   -10          1"
      ]
     },
     "execution_count": 73,
     "metadata": {},
     "output_type": "execute_result"
    }
   ],
   "source": [
    "student_Vle.head()"
   ]
  },
  {
   "cell_type": "code",
   "execution_count": 74,
   "metadata": {},
   "outputs": [
    {
     "data": {
      "text/html": [
       "<div>\n",
       "<style scoped>\n",
       "    .dataframe tbody tr th:only-of-type {\n",
       "        vertical-align: middle;\n",
       "    }\n",
       "\n",
       "    .dataframe tbody tr th {\n",
       "        vertical-align: top;\n",
       "    }\n",
       "\n",
       "    .dataframe thead th {\n",
       "        text-align: right;\n",
       "    }\n",
       "</style>\n",
       "<table border=\"1\" class=\"dataframe\">\n",
       "  <thead>\n",
       "    <tr style=\"text-align: right;\">\n",
       "      <th></th>\n",
       "      <th>date</th>\n",
       "      <th>sum_click</th>\n",
       "    </tr>\n",
       "  </thead>\n",
       "  <tbody>\n",
       "    <tr>\n",
       "      <th>count</th>\n",
       "      <td>1.065528e+07</td>\n",
       "      <td>1.065528e+07</td>\n",
       "    </tr>\n",
       "    <tr>\n",
       "      <th>mean</th>\n",
       "      <td>9.517400e+01</td>\n",
       "      <td>3.716946e+00</td>\n",
       "    </tr>\n",
       "    <tr>\n",
       "      <th>std</th>\n",
       "      <td>7.607130e+01</td>\n",
       "      <td>8.849047e+00</td>\n",
       "    </tr>\n",
       "    <tr>\n",
       "      <th>min</th>\n",
       "      <td>-2.500000e+01</td>\n",
       "      <td>1.000000e+00</td>\n",
       "    </tr>\n",
       "    <tr>\n",
       "      <th>25%</th>\n",
       "      <td>2.500000e+01</td>\n",
       "      <td>1.000000e+00</td>\n",
       "    </tr>\n",
       "    <tr>\n",
       "      <th>50%</th>\n",
       "      <td>8.600000e+01</td>\n",
       "      <td>2.000000e+00</td>\n",
       "    </tr>\n",
       "    <tr>\n",
       "      <th>75%</th>\n",
       "      <td>1.560000e+02</td>\n",
       "      <td>3.000000e+00</td>\n",
       "    </tr>\n",
       "    <tr>\n",
       "      <th>max</th>\n",
       "      <td>2.690000e+02</td>\n",
       "      <td>6.977000e+03</td>\n",
       "    </tr>\n",
       "  </tbody>\n",
       "</table>\n",
       "</div>"
      ],
      "text/plain": [
       "               date     sum_click\n",
       "count  1.065528e+07  1.065528e+07\n",
       "mean   9.517400e+01  3.716946e+00\n",
       "std    7.607130e+01  8.849047e+00\n",
       "min   -2.500000e+01  1.000000e+00\n",
       "25%    2.500000e+01  1.000000e+00\n",
       "50%    8.600000e+01  2.000000e+00\n",
       "75%    1.560000e+02  3.000000e+00\n",
       "max    2.690000e+02  6.977000e+03"
      ]
     },
     "execution_count": 74,
     "metadata": {},
     "output_type": "execute_result"
    }
   ],
   "source": [
    "student_Vle[['date','sum_click']].describe()"
   ]
  },
  {
   "cell_type": "code",
   "execution_count": 75,
   "metadata": {},
   "outputs": [
    {
     "data": {
      "image/png": "[encoded data removed]",
      "text/plain": [
       "<Figure size 576x360 with 1 Axes>"
      ]
     },
     "metadata": {},
     "output_type": "display_data"
    }
   ],
   "source": [
    "ax = (\n",
    "      student_Vle['date']\n",
    "      .plot(kind = 'hist',bins = 25)\n",
    "     )\n",
    "\n",
    "_= ax.set_title(\"Maioria das Interacoes com os Modulos Ocorre nos Primeiros 100 dias \\n\")\n",
    "_= ax.set_xlabel(\"Numero de Dias desde o Inicio do Modulo\")"
   ]
  },
  {
   "cell_type": "code",
   "execution_count": 76,
   "metadata": {},
   "outputs": [
    {
     "data": {
      "text/plain": [
       "34.0"
      ]
     },
     "execution_count": 76,
     "metadata": {},
     "output_type": "execute_result"
    }
   ],
   "source": [
    "student_Vle['sum_click'].quantile(q = 0.99)"
   ]
  },
  {
   "cell_type": "markdown",
   "metadata": {},
   "source": [
    "O quantile de 99% mostra 34 interacoes com o material por dia, o que nos leva a crer que o valor de 6.977000e+03 clicks que aparece no sumario dos dados acima eh um *outlier* massivo. Neste experimento nao lidaremos com isso ainda. Veremos como o modelo lida com isso."
   ]
  },
  {
   "cell_type": "code",
   "execution_count": 77,
   "metadata": {},
   "outputs": [
    {
     "data": {
      "text/plain": [
       "code_module          0.0\n",
       "code_presentation    0.0\n",
       "id_student           0.0\n",
       "id_site              0.0\n",
       "date                 0.0\n",
       "sum_click            0.0\n",
       "dtype: float64"
      ]
     },
     "execution_count": 77,
     "metadata": {},
     "output_type": "execute_result"
    }
   ],
   "source": [
    "(\n",
    "    student_Vle\n",
    "    .isna()\n",
    "    .mean()\n",
    ")"
   ]
  },
  {
   "cell_type": "markdown",
   "metadata": {},
   "source": [
    "*Dataset* sem valores faltantes."
   ]
  },
  {
   "cell_type": "code",
   "execution_count": 78,
   "metadata": {},
   "outputs": [],
   "source": [
    "vle = pd.read_csv(Path(input_folder,vle_data))"
   ]
  },
  {
   "cell_type": "code",
   "execution_count": 79,
   "metadata": {},
   "outputs": [
    {
     "data": {
      "text/plain": [
       "'vle Dataset Contem 6364 linhas e 6 colunas'"
      ]
     },
     "execution_count": 79,
     "metadata": {},
     "output_type": "execute_result"
    }
   ],
   "source": [
    "f'vle Dataset Contem {vle.shape[0]} linhas e {vle.shape[1]} colunas'"
   ]
  },
  {
   "cell_type": "code",
   "execution_count": 80,
   "metadata": {},
   "outputs": [
    {
     "data": {
      "text/html": [
       "<div>\n",
       "<style scoped>\n",
       "    .dataframe tbody tr th:only-of-type {\n",
       "        vertical-align: middle;\n",
       "    }\n",
       "\n",
       "    .dataframe tbody tr th {\n",
       "        vertical-align: top;\n",
       "    }\n",
       "\n",
       "    .dataframe thead th {\n",
       "        text-align: right;\n",
       "    }\n",
       "</style>\n",
       "<table border=\"1\" class=\"dataframe\">\n",
       "  <thead>\n",
       "    <tr style=\"text-align: right;\">\n",
       "      <th></th>\n",
       "      <th>id_site</th>\n",
       "      <th>code_module</th>\n",
       "      <th>code_presentation</th>\n",
       "      <th>activity_type</th>\n",
       "      <th>week_from</th>\n",
       "      <th>week_to</th>\n",
       "    </tr>\n",
       "  </thead>\n",
       "  <tbody>\n",
       "    <tr>\n",
       "      <th>0</th>\n",
       "      <td>546943</td>\n",
       "      <td>AAA</td>\n",
       "      <td>2013J</td>\n",
       "      <td>resource</td>\n",
       "      <td>NaN</td>\n",
       "      <td>NaN</td>\n",
       "    </tr>\n",
       "    <tr>\n",
       "      <th>1</th>\n",
       "      <td>546712</td>\n",
       "      <td>AAA</td>\n",
       "      <td>2013J</td>\n",
       "      <td>oucontent</td>\n",
       "      <td>NaN</td>\n",
       "      <td>NaN</td>\n",
       "    </tr>\n",
       "    <tr>\n",
       "      <th>2</th>\n",
       "      <td>546998</td>\n",
       "      <td>AAA</td>\n",
       "      <td>2013J</td>\n",
       "      <td>resource</td>\n",
       "      <td>NaN</td>\n",
       "      <td>NaN</td>\n",
       "    </tr>\n",
       "    <tr>\n",
       "      <th>3</th>\n",
       "      <td>546888</td>\n",
       "      <td>AAA</td>\n",
       "      <td>2013J</td>\n",
       "      <td>url</td>\n",
       "      <td>NaN</td>\n",
       "      <td>NaN</td>\n",
       "    </tr>\n",
       "    <tr>\n",
       "      <th>4</th>\n",
       "      <td>547035</td>\n",
       "      <td>AAA</td>\n",
       "      <td>2013J</td>\n",
       "      <td>resource</td>\n",
       "      <td>NaN</td>\n",
       "      <td>NaN</td>\n",
       "    </tr>\n",
       "  </tbody>\n",
       "</table>\n",
       "</div>"
      ],
      "text/plain": [
       "   id_site code_module code_presentation activity_type  week_from  week_to\n",
       "0   546943         AAA             2013J      resource        NaN      NaN\n",
       "1   546712         AAA             2013J     oucontent        NaN      NaN\n",
       "2   546998         AAA             2013J      resource        NaN      NaN\n",
       "3   546888         AAA             2013J           url        NaN      NaN\n",
       "4   547035         AAA             2013J      resource        NaN      NaN"
      ]
     },
     "execution_count": 80,
     "metadata": {},
     "output_type": "execute_result"
    }
   ],
   "source": [
    "vle.head()"
   ]
  },
  {
   "cell_type": "code",
   "execution_count": 81,
   "metadata": {},
   "outputs": [
    {
     "data": {
      "image/png": "[encoded data removed]",
      "text/plain": [
       "<Figure size 576x360 with 1 Axes>"
      ]
     },
     "metadata": {},
     "output_type": "display_data"
    }
   ],
   "source": [
    "ax = (\n",
    "       vle['activity_type']\n",
    "       .value_counts()\n",
    "       .plot(kind = 'bar')\n",
    ")\n",
    "\n",
    "_= ax.set_title(\"Tipos de Atividade Presentes nos Materiais de Estudo \\n\")"
   ]
  },
  {
   "cell_type": "code",
   "execution_count": 82,
   "metadata": {},
   "outputs": [
    {
     "data": {
      "image/png": "[encoded data removed]",
      "text/plain": [
       "<Figure size 576x360 with 1 Axes>"
      ]
     },
     "metadata": {},
     "output_type": "display_data"
    }
   ],
   "source": [
    "ax = (\n",
    "        vle\n",
    "       .isna()\n",
    "       .mean()\n",
    "       .sort_values(ascending = False)\n",
    "       .mul(100)\n",
    "       .plot(kind = 'bar')\n",
    ")\n",
    "\n",
    "_= ax.set_title(\"% de Valores Faltantes por Coluna \\n\")"
   ]
  },
  {
   "cell_type": "markdown",
   "metadata": {},
   "source": [
    "As colunas *week_to* e *week_from* serao ignoradas neste experimento pois contem mais de 80% de valores faltantes. O poder preditivo delas provavelmente sera baixo. Tambem nao precisamos das colunas *code_module* e *code_presentation*, presentes no dataset *studentVle*. "
   ]
  },
  {
   "cell_type": "code",
   "execution_count": 83,
   "metadata": {},
   "outputs": [
    {
     "data": {
      "text/html": [
       "<div>\n",
       "<style scoped>\n",
       "    .dataframe tbody tr th:only-of-type {\n",
       "        vertical-align: middle;\n",
       "    }\n",
       "\n",
       "    .dataframe tbody tr th {\n",
       "        vertical-align: top;\n",
       "    }\n",
       "\n",
       "    .dataframe thead th {\n",
       "        text-align: right;\n",
       "    }\n",
       "</style>\n",
       "<table border=\"1\" class=\"dataframe\">\n",
       "  <thead>\n",
       "    <tr style=\"text-align: right;\">\n",
       "      <th></th>\n",
       "      <th>id_site</th>\n",
       "      <th>activity_type</th>\n",
       "    </tr>\n",
       "  </thead>\n",
       "  <tbody>\n",
       "    <tr>\n",
       "      <th>0</th>\n",
       "      <td>546943</td>\n",
       "      <td>resource</td>\n",
       "    </tr>\n",
       "    <tr>\n",
       "      <th>1</th>\n",
       "      <td>546712</td>\n",
       "      <td>oucontent</td>\n",
       "    </tr>\n",
       "    <tr>\n",
       "      <th>2</th>\n",
       "      <td>546998</td>\n",
       "      <td>resource</td>\n",
       "    </tr>\n",
       "    <tr>\n",
       "      <th>3</th>\n",
       "      <td>546888</td>\n",
       "      <td>url</td>\n",
       "    </tr>\n",
       "    <tr>\n",
       "      <th>4</th>\n",
       "      <td>547035</td>\n",
       "      <td>resource</td>\n",
       "    </tr>\n",
       "  </tbody>\n",
       "</table>\n",
       "</div>"
      ],
      "text/plain": [
       "   id_site activity_type\n",
       "0   546943      resource\n",
       "1   546712     oucontent\n",
       "2   546998      resource\n",
       "3   546888           url\n",
       "4   547035      resource"
      ]
     },
     "execution_count": 83,
     "metadata": {},
     "output_type": "execute_result"
    }
   ],
   "source": [
    "vle.drop(['code_module','code_presentation','week_from','week_to'],axis = 1,inplace = True)\n",
    "vle.head()"
   ]
  },
  {
   "cell_type": "markdown",
   "metadata": {},
   "source": [
    "Atraves da chave *id_site* podemos agregar os datasets *student_Vle* e *vle*."
   ]
  },
  {
   "cell_type": "code",
   "execution_count": 84,
   "metadata": {},
   "outputs": [],
   "source": [
    "vle_agg = student_Vle.merge(vle, on='id_site')"
   ]
  },
  {
   "cell_type": "markdown",
   "metadata": {},
   "source": [
    "Para nao termos mais problemas de memoria :( , vamos deletar o gigante dataframe *student_Vle*."
   ]
  },
  {
   "cell_type": "code",
   "execution_count": 85,
   "metadata": {},
   "outputs": [],
   "source": [
    "del student_Vle # ufa! "
   ]
  },
  {
   "cell_type": "code",
   "execution_count": 86,
   "metadata": {},
   "outputs": [
    {
     "data": {
      "text/html": [
       "<div>\n",
       "<style scoped>\n",
       "    .dataframe tbody tr th:only-of-type {\n",
       "        vertical-align: middle;\n",
       "    }\n",
       "\n",
       "    .dataframe tbody tr th {\n",
       "        vertical-align: top;\n",
       "    }\n",
       "\n",
       "    .dataframe thead th {\n",
       "        text-align: right;\n",
       "    }\n",
       "</style>\n",
       "<table border=\"1\" class=\"dataframe\">\n",
       "  <thead>\n",
       "    <tr style=\"text-align: right;\">\n",
       "      <th></th>\n",
       "      <th>code_module</th>\n",
       "      <th>code_presentation</th>\n",
       "      <th>id_student</th>\n",
       "      <th>id_site</th>\n",
       "      <th>date</th>\n",
       "      <th>sum_click</th>\n",
       "      <th>activity_type</th>\n",
       "    </tr>\n",
       "  </thead>\n",
       "  <tbody>\n",
       "    <tr>\n",
       "      <th>0</th>\n",
       "      <td>AAA</td>\n",
       "      <td>2013J</td>\n",
       "      <td>28400</td>\n",
       "      <td>546652</td>\n",
       "      <td>-10</td>\n",
       "      <td>4</td>\n",
       "      <td>forumng</td>\n",
       "    </tr>\n",
       "    <tr>\n",
       "      <th>1</th>\n",
       "      <td>AAA</td>\n",
       "      <td>2013J</td>\n",
       "      <td>28400</td>\n",
       "      <td>546652</td>\n",
       "      <td>-10</td>\n",
       "      <td>1</td>\n",
       "      <td>forumng</td>\n",
       "    </tr>\n",
       "    <tr>\n",
       "      <th>2</th>\n",
       "      <td>AAA</td>\n",
       "      <td>2013J</td>\n",
       "      <td>28400</td>\n",
       "      <td>546652</td>\n",
       "      <td>-10</td>\n",
       "      <td>1</td>\n",
       "      <td>forumng</td>\n",
       "    </tr>\n",
       "    <tr>\n",
       "      <th>3</th>\n",
       "      <td>AAA</td>\n",
       "      <td>2013J</td>\n",
       "      <td>28400</td>\n",
       "      <td>546652</td>\n",
       "      <td>-10</td>\n",
       "      <td>8</td>\n",
       "      <td>forumng</td>\n",
       "    </tr>\n",
       "    <tr>\n",
       "      <th>4</th>\n",
       "      <td>AAA</td>\n",
       "      <td>2013J</td>\n",
       "      <td>30268</td>\n",
       "      <td>546652</td>\n",
       "      <td>-10</td>\n",
       "      <td>3</td>\n",
       "      <td>forumng</td>\n",
       "    </tr>\n",
       "  </tbody>\n",
       "</table>\n",
       "</div>"
      ],
      "text/plain": [
       "  code_module code_presentation  id_student  id_site  date  sum_click  \\\n",
       "0         AAA             2013J       28400   546652   -10          4   \n",
       "1         AAA             2013J       28400   546652   -10          1   \n",
       "2         AAA             2013J       28400   546652   -10          1   \n",
       "3         AAA             2013J       28400   546652   -10          8   \n",
       "4         AAA             2013J       30268   546652   -10          3   \n",
       "\n",
       "  activity_type  \n",
       "0       forumng  \n",
       "1       forumng  \n",
       "2       forumng  \n",
       "3       forumng  \n",
       "4       forumng  "
      ]
     },
     "execution_count": 86,
     "metadata": {},
     "output_type": "execute_result"
    }
   ],
   "source": [
    "vle_agg.head()"
   ]
  },
  {
   "cell_type": "markdown",
   "metadata": {},
   "source": [
    "Derivaremos uma coluna agregando os clicks de cada aluno para cada modulo,apresentacao e tipo de atividade estudada."
   ]
  },
  {
   "cell_type": "code",
   "execution_count": 87,
   "metadata": {},
   "outputs": [],
   "source": [
    "total_clicks = (\n",
    "                vle_agg.groupby(['id_student', \n",
    "                                           'code_module', \n",
    "                                           'code_presentation', \n",
    "                                           'activity_type'])['sum_click']\n",
    "                                           .sum()\n",
    "                                           .reset_index()\n",
    "                )"
   ]
  },
  {
   "cell_type": "code",
   "execution_count": 88,
   "metadata": {},
   "outputs": [
    {
     "data": {
      "text/html": [
       "<div>\n",
       "<style scoped>\n",
       "    .dataframe tbody tr th:only-of-type {\n",
       "        vertical-align: middle;\n",
       "    }\n",
       "\n",
       "    .dataframe tbody tr th {\n",
       "        vertical-align: top;\n",
       "    }\n",
       "\n",
       "    .dataframe thead th {\n",
       "        text-align: right;\n",
       "    }\n",
       "</style>\n",
       "<table border=\"1\" class=\"dataframe\">\n",
       "  <thead>\n",
       "    <tr style=\"text-align: right;\">\n",
       "      <th></th>\n",
       "      <th>id_student</th>\n",
       "      <th>code_module</th>\n",
       "      <th>code_presentation</th>\n",
       "      <th>activity_type</th>\n",
       "      <th>sum_click</th>\n",
       "    </tr>\n",
       "  </thead>\n",
       "  <tbody>\n",
       "    <tr>\n",
       "      <th>0</th>\n",
       "      <td>6516</td>\n",
       "      <td>AAA</td>\n",
       "      <td>2014J</td>\n",
       "      <td>dataplus</td>\n",
       "      <td>21</td>\n",
       "    </tr>\n",
       "    <tr>\n",
       "      <th>1</th>\n",
       "      <td>6516</td>\n",
       "      <td>AAA</td>\n",
       "      <td>2014J</td>\n",
       "      <td>forumng</td>\n",
       "      <td>451</td>\n",
       "    </tr>\n",
       "    <tr>\n",
       "      <th>2</th>\n",
       "      <td>6516</td>\n",
       "      <td>AAA</td>\n",
       "      <td>2014J</td>\n",
       "      <td>homepage</td>\n",
       "      <td>497</td>\n",
       "    </tr>\n",
       "    <tr>\n",
       "      <th>3</th>\n",
       "      <td>6516</td>\n",
       "      <td>AAA</td>\n",
       "      <td>2014J</td>\n",
       "      <td>oucontent</td>\n",
       "      <td>1505</td>\n",
       "    </tr>\n",
       "    <tr>\n",
       "      <th>4</th>\n",
       "      <td>6516</td>\n",
       "      <td>AAA</td>\n",
       "      <td>2014J</td>\n",
       "      <td>resource</td>\n",
       "      <td>31</td>\n",
       "    </tr>\n",
       "  </tbody>\n",
       "</table>\n",
       "</div>"
      ],
      "text/plain": [
       "   id_student code_module code_presentation activity_type  sum_click\n",
       "0        6516         AAA             2014J      dataplus         21\n",
       "1        6516         AAA             2014J       forumng        451\n",
       "2        6516         AAA             2014J      homepage        497\n",
       "3        6516         AAA             2014J     oucontent       1505\n",
       "4        6516         AAA             2014J      resource         31"
      ]
     },
     "execution_count": 88,
     "metadata": {},
     "output_type": "execute_result"
    }
   ],
   "source": [
    "total_clicks.head()"
   ]
  },
  {
   "cell_type": "markdown",
   "metadata": {},
   "source": [
    "A tabela *total_clicks* ainda nao esta pronta para ser agregada a *feature_store*, pois cada observacao precisa ser unica para a tupla ('id_student', 'code_module', 'code_presentation')."
   ]
  },
  {
   "cell_type": "code",
   "execution_count": 89,
   "metadata": {},
   "outputs": [],
   "source": [
    "total_clicks = (\n",
    "                 total_clicks\n",
    "                 .set_index(['id_student', 'code_module', 'code_presentation'])\n",
    "                 .pivot(columns=\"activity_type\")['sum_click']\n",
    "                 .reset_index()\n",
    "                 .rename_axis(None, axis=1)\n",
    "                )"
   ]
  },
  {
   "cell_type": "code",
   "execution_count": 90,
   "metadata": {},
   "outputs": [
    {
     "data": {
      "text/html": [
       "<div>\n",
       "<style scoped>\n",
       "    .dataframe tbody tr th:only-of-type {\n",
       "        vertical-align: middle;\n",
       "    }\n",
       "\n",
       "    .dataframe tbody tr th {\n",
       "        vertical-align: top;\n",
       "    }\n",
       "\n",
       "    .dataframe thead th {\n",
       "        text-align: right;\n",
       "    }\n",
       "</style>\n",
       "<table border=\"1\" class=\"dataframe\">\n",
       "  <thead>\n",
       "    <tr style=\"text-align: right;\">\n",
       "      <th></th>\n",
       "      <th>id_student</th>\n",
       "      <th>code_module</th>\n",
       "      <th>code_presentation</th>\n",
       "      <th>dataplus</th>\n",
       "      <th>dualpane</th>\n",
       "      <th>externalquiz</th>\n",
       "      <th>folder</th>\n",
       "      <th>forumng</th>\n",
       "      <th>glossary</th>\n",
       "      <th>homepage</th>\n",
       "      <th>...</th>\n",
       "      <th>ouelluminate</th>\n",
       "      <th>ouwiki</th>\n",
       "      <th>page</th>\n",
       "      <th>questionnaire</th>\n",
       "      <th>quiz</th>\n",
       "      <th>repeatactivity</th>\n",
       "      <th>resource</th>\n",
       "      <th>sharedsubpage</th>\n",
       "      <th>subpage</th>\n",
       "      <th>url</th>\n",
       "    </tr>\n",
       "  </thead>\n",
       "  <tbody>\n",
       "    <tr>\n",
       "      <th>0</th>\n",
       "      <td>6516</td>\n",
       "      <td>AAA</td>\n",
       "      <td>2014J</td>\n",
       "      <td>21.0</td>\n",
       "      <td>NaN</td>\n",
       "      <td>NaN</td>\n",
       "      <td>NaN</td>\n",
       "      <td>451.0</td>\n",
       "      <td>NaN</td>\n",
       "      <td>497.0</td>\n",
       "      <td>...</td>\n",
       "      <td>NaN</td>\n",
       "      <td>NaN</td>\n",
       "      <td>NaN</td>\n",
       "      <td>NaN</td>\n",
       "      <td>NaN</td>\n",
       "      <td>NaN</td>\n",
       "      <td>31.0</td>\n",
       "      <td>NaN</td>\n",
       "      <td>143.0</td>\n",
       "      <td>143.0</td>\n",
       "    </tr>\n",
       "    <tr>\n",
       "      <th>1</th>\n",
       "      <td>8462</td>\n",
       "      <td>DDD</td>\n",
       "      <td>2013J</td>\n",
       "      <td>NaN</td>\n",
       "      <td>NaN</td>\n",
       "      <td>12.0</td>\n",
       "      <td>NaN</td>\n",
       "      <td>36.0</td>\n",
       "      <td>NaN</td>\n",
       "      <td>184.0</td>\n",
       "      <td>...</td>\n",
       "      <td>NaN</td>\n",
       "      <td>18.0</td>\n",
       "      <td>NaN</td>\n",
       "      <td>NaN</td>\n",
       "      <td>NaN</td>\n",
       "      <td>NaN</td>\n",
       "      <td>70.0</td>\n",
       "      <td>NaN</td>\n",
       "      <td>227.0</td>\n",
       "      <td>23.0</td>\n",
       "    </tr>\n",
       "    <tr>\n",
       "      <th>2</th>\n",
       "      <td>8462</td>\n",
       "      <td>DDD</td>\n",
       "      <td>2014J</td>\n",
       "      <td>NaN</td>\n",
       "      <td>NaN</td>\n",
       "      <td>NaN</td>\n",
       "      <td>NaN</td>\n",
       "      <td>2.0</td>\n",
       "      <td>NaN</td>\n",
       "      <td>7.0</td>\n",
       "      <td>...</td>\n",
       "      <td>NaN</td>\n",
       "      <td>NaN</td>\n",
       "      <td>NaN</td>\n",
       "      <td>NaN</td>\n",
       "      <td>NaN</td>\n",
       "      <td>NaN</td>\n",
       "      <td>NaN</td>\n",
       "      <td>NaN</td>\n",
       "      <td>NaN</td>\n",
       "      <td>NaN</td>\n",
       "    </tr>\n",
       "    <tr>\n",
       "      <th>3</th>\n",
       "      <td>11391</td>\n",
       "      <td>AAA</td>\n",
       "      <td>2013J</td>\n",
       "      <td>NaN</td>\n",
       "      <td>NaN</td>\n",
       "      <td>NaN</td>\n",
       "      <td>NaN</td>\n",
       "      <td>193.0</td>\n",
       "      <td>NaN</td>\n",
       "      <td>138.0</td>\n",
       "      <td>...</td>\n",
       "      <td>NaN</td>\n",
       "      <td>NaN</td>\n",
       "      <td>NaN</td>\n",
       "      <td>NaN</td>\n",
       "      <td>NaN</td>\n",
       "      <td>NaN</td>\n",
       "      <td>13.0</td>\n",
       "      <td>NaN</td>\n",
       "      <td>32.0</td>\n",
       "      <td>5.0</td>\n",
       "    </tr>\n",
       "    <tr>\n",
       "      <th>4</th>\n",
       "      <td>23629</td>\n",
       "      <td>BBB</td>\n",
       "      <td>2013B</td>\n",
       "      <td>NaN</td>\n",
       "      <td>NaN</td>\n",
       "      <td>NaN</td>\n",
       "      <td>NaN</td>\n",
       "      <td>87.0</td>\n",
       "      <td>NaN</td>\n",
       "      <td>36.0</td>\n",
       "      <td>...</td>\n",
       "      <td>NaN</td>\n",
       "      <td>NaN</td>\n",
       "      <td>NaN</td>\n",
       "      <td>NaN</td>\n",
       "      <td>31.0</td>\n",
       "      <td>NaN</td>\n",
       "      <td>2.0</td>\n",
       "      <td>NaN</td>\n",
       "      <td>5.0</td>\n",
       "      <td>NaN</td>\n",
       "    </tr>\n",
       "  </tbody>\n",
       "</table>\n",
       "<p>5 rows × 23 columns</p>\n",
       "</div>"
      ],
      "text/plain": [
       "   id_student code_module code_presentation  dataplus  dualpane  externalquiz  \\\n",
       "0        6516         AAA             2014J      21.0       NaN           NaN   \n",
       "1        8462         DDD             2013J       NaN       NaN          12.0   \n",
       "2        8462         DDD             2014J       NaN       NaN           NaN   \n",
       "3       11391         AAA             2013J       NaN       NaN           NaN   \n",
       "4       23629         BBB             2013B       NaN       NaN           NaN   \n",
       "\n",
       "   folder  forumng  glossary  homepage  ...  ouelluminate  ouwiki  page  \\\n",
       "0     NaN    451.0       NaN     497.0  ...           NaN     NaN   NaN   \n",
       "1     NaN     36.0       NaN     184.0  ...           NaN    18.0   NaN   \n",
       "2     NaN      2.0       NaN       7.0  ...           NaN     NaN   NaN   \n",
       "3     NaN    193.0       NaN     138.0  ...           NaN     NaN   NaN   \n",
       "4     NaN     87.0       NaN      36.0  ...           NaN     NaN   NaN   \n",
       "\n",
       "   questionnaire  quiz  repeatactivity  resource  sharedsubpage  subpage  \\\n",
       "0            NaN   NaN             NaN      31.0            NaN    143.0   \n",
       "1            NaN   NaN             NaN      70.0            NaN    227.0   \n",
       "2            NaN   NaN             NaN       NaN            NaN      NaN   \n",
       "3            NaN   NaN             NaN      13.0            NaN     32.0   \n",
       "4            NaN  31.0             NaN       2.0            NaN      5.0   \n",
       "\n",
       "     url  \n",
       "0  143.0  \n",
       "1   23.0  \n",
       "2    NaN  \n",
       "3    5.0  \n",
       "4    NaN  \n",
       "\n",
       "[5 rows x 23 columns]"
      ]
     },
     "execution_count": 90,
     "metadata": {},
     "output_type": "execute_result"
    }
   ],
   "source": [
    "total_clicks.head()"
   ]
  },
  {
   "cell_type": "markdown",
   "metadata": {},
   "source": [
    "Adicionando as novas colunas na nossa *feature store*."
   ]
  },
  {
   "cell_type": "code",
   "execution_count": 91,
   "metadata": {},
   "outputs": [],
   "source": [
    "feature_store = pd.merge(feature_store, total_clicks, on=['id_student', 'code_module', 'code_presentation'])"
   ]
  },
  {
   "cell_type": "code",
   "execution_count": 92,
   "metadata": {},
   "outputs": [
    {
     "data": {
      "text/html": [
       "<div>\n",
       "<style scoped>\n",
       "    .dataframe tbody tr th:only-of-type {\n",
       "        vertical-align: middle;\n",
       "    }\n",
       "\n",
       "    .dataframe tbody tr th {\n",
       "        vertical-align: top;\n",
       "    }\n",
       "\n",
       "    .dataframe thead th {\n",
       "        text-align: right;\n",
       "    }\n",
       "</style>\n",
       "<table border=\"1\" class=\"dataframe\">\n",
       "  <thead>\n",
       "    <tr style=\"text-align: right;\">\n",
       "      <th></th>\n",
       "      <th>code_module</th>\n",
       "      <th>code_presentation</th>\n",
       "      <th>id_student</th>\n",
       "      <th>gender</th>\n",
       "      <th>region</th>\n",
       "      <th>highest_education</th>\n",
       "      <th>imd_band</th>\n",
       "      <th>age_band</th>\n",
       "      <th>num_of_prev_attempts</th>\n",
       "      <th>studied_credits</th>\n",
       "      <th>...</th>\n",
       "      <th>ouelluminate</th>\n",
       "      <th>ouwiki</th>\n",
       "      <th>page</th>\n",
       "      <th>questionnaire</th>\n",
       "      <th>quiz</th>\n",
       "      <th>repeatactivity</th>\n",
       "      <th>resource</th>\n",
       "      <th>sharedsubpage</th>\n",
       "      <th>subpage</th>\n",
       "      <th>url</th>\n",
       "    </tr>\n",
       "  </thead>\n",
       "  <tbody>\n",
       "    <tr>\n",
       "      <th>0</th>\n",
       "      <td>AAA</td>\n",
       "      <td>2013J</td>\n",
       "      <td>11391</td>\n",
       "      <td>M</td>\n",
       "      <td>East Anglian Region</td>\n",
       "      <td>HE Qualification</td>\n",
       "      <td>90-100%</td>\n",
       "      <td>55&lt;=</td>\n",
       "      <td>0</td>\n",
       "      <td>240</td>\n",
       "      <td>...</td>\n",
       "      <td>NaN</td>\n",
       "      <td>NaN</td>\n",
       "      <td>NaN</td>\n",
       "      <td>NaN</td>\n",
       "      <td>NaN</td>\n",
       "      <td>NaN</td>\n",
       "      <td>13.0</td>\n",
       "      <td>NaN</td>\n",
       "      <td>32.0</td>\n",
       "      <td>5.0</td>\n",
       "    </tr>\n",
       "    <tr>\n",
       "      <th>1</th>\n",
       "      <td>AAA</td>\n",
       "      <td>2013J</td>\n",
       "      <td>28400</td>\n",
       "      <td>F</td>\n",
       "      <td>Scotland</td>\n",
       "      <td>HE Qualification</td>\n",
       "      <td>20-30%</td>\n",
       "      <td>35-55</td>\n",
       "      <td>0</td>\n",
       "      <td>60</td>\n",
       "      <td>...</td>\n",
       "      <td>NaN</td>\n",
       "      <td>NaN</td>\n",
       "      <td>NaN</td>\n",
       "      <td>NaN</td>\n",
       "      <td>NaN</td>\n",
       "      <td>NaN</td>\n",
       "      <td>12.0</td>\n",
       "      <td>NaN</td>\n",
       "      <td>87.0</td>\n",
       "      <td>48.0</td>\n",
       "    </tr>\n",
       "    <tr>\n",
       "      <th>2</th>\n",
       "      <td>AAA</td>\n",
       "      <td>2013J</td>\n",
       "      <td>31604</td>\n",
       "      <td>F</td>\n",
       "      <td>South East Region</td>\n",
       "      <td>A Level or Equivalent</td>\n",
       "      <td>50-60%</td>\n",
       "      <td>35-55</td>\n",
       "      <td>0</td>\n",
       "      <td>60</td>\n",
       "      <td>...</td>\n",
       "      <td>NaN</td>\n",
       "      <td>NaN</td>\n",
       "      <td>NaN</td>\n",
       "      <td>NaN</td>\n",
       "      <td>NaN</td>\n",
       "      <td>NaN</td>\n",
       "      <td>19.0</td>\n",
       "      <td>NaN</td>\n",
       "      <td>144.0</td>\n",
       "      <td>90.0</td>\n",
       "    </tr>\n",
       "    <tr>\n",
       "      <th>3</th>\n",
       "      <td>AAA</td>\n",
       "      <td>2013J</td>\n",
       "      <td>32885</td>\n",
       "      <td>F</td>\n",
       "      <td>West Midlands Region</td>\n",
       "      <td>Lower Than A Level</td>\n",
       "      <td>50-60%</td>\n",
       "      <td>0-35</td>\n",
       "      <td>0</td>\n",
       "      <td>60</td>\n",
       "      <td>...</td>\n",
       "      <td>NaN</td>\n",
       "      <td>NaN</td>\n",
       "      <td>NaN</td>\n",
       "      <td>NaN</td>\n",
       "      <td>NaN</td>\n",
       "      <td>NaN</td>\n",
       "      <td>45.0</td>\n",
       "      <td>NaN</td>\n",
       "      <td>79.0</td>\n",
       "      <td>14.0</td>\n",
       "    </tr>\n",
       "    <tr>\n",
       "      <th>4</th>\n",
       "      <td>AAA</td>\n",
       "      <td>2013J</td>\n",
       "      <td>38053</td>\n",
       "      <td>M</td>\n",
       "      <td>Wales</td>\n",
       "      <td>A Level or Equivalent</td>\n",
       "      <td>80-90%</td>\n",
       "      <td>35-55</td>\n",
       "      <td>0</td>\n",
       "      <td>60</td>\n",
       "      <td>...</td>\n",
       "      <td>NaN</td>\n",
       "      <td>NaN</td>\n",
       "      <td>NaN</td>\n",
       "      <td>NaN</td>\n",
       "      <td>NaN</td>\n",
       "      <td>NaN</td>\n",
       "      <td>11.0</td>\n",
       "      <td>NaN</td>\n",
       "      <td>91.0</td>\n",
       "      <td>45.0</td>\n",
       "    </tr>\n",
       "  </tbody>\n",
       "</table>\n",
       "<p>5 rows × 35 columns</p>\n",
       "</div>"
      ],
      "text/plain": [
       "  code_module code_presentation  id_student gender                region  \\\n",
       "0         AAA             2013J       11391      M   East Anglian Region   \n",
       "1         AAA             2013J       28400      F              Scotland   \n",
       "2         AAA             2013J       31604      F     South East Region   \n",
       "3         AAA             2013J       32885      F  West Midlands Region   \n",
       "4         AAA             2013J       38053      M                 Wales   \n",
       "\n",
       "       highest_education imd_band age_band  num_of_prev_attempts  \\\n",
       "0       HE Qualification  90-100%     55<=                     0   \n",
       "1       HE Qualification   20-30%    35-55                     0   \n",
       "2  A Level or Equivalent   50-60%    35-55                     0   \n",
       "3     Lower Than A Level   50-60%     0-35                     0   \n",
       "4  A Level or Equivalent   80-90%    35-55                     0   \n",
       "\n",
       "   studied_credits  ... ouelluminate ouwiki page  questionnaire  quiz  \\\n",
       "0              240  ...          NaN    NaN  NaN            NaN   NaN   \n",
       "1               60  ...          NaN    NaN  NaN            NaN   NaN   \n",
       "2               60  ...          NaN    NaN  NaN            NaN   NaN   \n",
       "3               60  ...          NaN    NaN  NaN            NaN   NaN   \n",
       "4               60  ...          NaN    NaN  NaN            NaN   NaN   \n",
       "\n",
       "   repeatactivity  resource  sharedsubpage  subpage   url  \n",
       "0             NaN      13.0            NaN     32.0   5.0  \n",
       "1             NaN      12.0            NaN     87.0  48.0  \n",
       "2             NaN      19.0            NaN    144.0  90.0  \n",
       "3             NaN      45.0            NaN     79.0  14.0  \n",
       "4             NaN      11.0            NaN     91.0  45.0  \n",
       "\n",
       "[5 rows x 35 columns]"
      ]
     },
     "execution_count": 92,
     "metadata": {},
     "output_type": "execute_result"
    }
   ],
   "source": [
    "feature_store.head()"
   ]
  },
  {
   "cell_type": "markdown",
   "metadata": {},
   "source": [
    "## 3.2 Limpeza dos Dados"
   ]
  },
  {
   "cell_type": "code",
   "execution_count": 93,
   "metadata": {},
   "outputs": [],
   "source": [
    "# Eliminadas as Observacoes em que o estudante desistiu e Alvo mapeado para (Pass/Fail)\n",
    "data_third_experiment = (\n",
    "                       feature_store\n",
    "                      .query(\"final_result != 'Withdrawn'\")\n",
    "                      .pipe(get_target,target_name = 'final_result')\n",
    "                      .drop(['id_student','code_presentation'],axis = 'columns')\n",
    "                     )\n",
    "\n",
    "assert list(data_third_experiment['final_result'].unique()) == ['Pass', 'Fail'] "
   ]
  },
  {
   "cell_type": "code",
   "execution_count": 94,
   "metadata": {},
   "outputs": [
    {
     "data": {
      "text/html": [
       "<div>\n",
       "<style scoped>\n",
       "    .dataframe tbody tr th:only-of-type {\n",
       "        vertical-align: middle;\n",
       "    }\n",
       "\n",
       "    .dataframe tbody tr th {\n",
       "        vertical-align: top;\n",
       "    }\n",
       "\n",
       "    .dataframe thead th {\n",
       "        text-align: right;\n",
       "    }\n",
       "</style>\n",
       "<table border=\"1\" class=\"dataframe\">\n",
       "  <thead>\n",
       "    <tr style=\"text-align: right;\">\n",
       "      <th></th>\n",
       "      <th>code_module</th>\n",
       "      <th>gender</th>\n",
       "      <th>region</th>\n",
       "      <th>highest_education</th>\n",
       "      <th>imd_band</th>\n",
       "      <th>age_band</th>\n",
       "      <th>num_of_prev_attempts</th>\n",
       "      <th>studied_credits</th>\n",
       "      <th>disability</th>\n",
       "      <th>final_result</th>\n",
       "      <th>...</th>\n",
       "      <th>ouelluminate</th>\n",
       "      <th>ouwiki</th>\n",
       "      <th>page</th>\n",
       "      <th>questionnaire</th>\n",
       "      <th>quiz</th>\n",
       "      <th>repeatactivity</th>\n",
       "      <th>resource</th>\n",
       "      <th>sharedsubpage</th>\n",
       "      <th>subpage</th>\n",
       "      <th>url</th>\n",
       "    </tr>\n",
       "  </thead>\n",
       "  <tbody>\n",
       "    <tr>\n",
       "      <th>0</th>\n",
       "      <td>AAA</td>\n",
       "      <td>M</td>\n",
       "      <td>East Anglian Region</td>\n",
       "      <td>HE Qualification</td>\n",
       "      <td>90-100%</td>\n",
       "      <td>55&lt;=</td>\n",
       "      <td>0</td>\n",
       "      <td>240</td>\n",
       "      <td>N</td>\n",
       "      <td>Pass</td>\n",
       "      <td>...</td>\n",
       "      <td>NaN</td>\n",
       "      <td>NaN</td>\n",
       "      <td>NaN</td>\n",
       "      <td>NaN</td>\n",
       "      <td>NaN</td>\n",
       "      <td>NaN</td>\n",
       "      <td>13.0</td>\n",
       "      <td>NaN</td>\n",
       "      <td>32.0</td>\n",
       "      <td>5.0</td>\n",
       "    </tr>\n",
       "    <tr>\n",
       "      <th>1</th>\n",
       "      <td>AAA</td>\n",
       "      <td>F</td>\n",
       "      <td>Scotland</td>\n",
       "      <td>HE Qualification</td>\n",
       "      <td>20-30%</td>\n",
       "      <td>35-55</td>\n",
       "      <td>0</td>\n",
       "      <td>60</td>\n",
       "      <td>N</td>\n",
       "      <td>Pass</td>\n",
       "      <td>...</td>\n",
       "      <td>NaN</td>\n",
       "      <td>NaN</td>\n",
       "      <td>NaN</td>\n",
       "      <td>NaN</td>\n",
       "      <td>NaN</td>\n",
       "      <td>NaN</td>\n",
       "      <td>12.0</td>\n",
       "      <td>NaN</td>\n",
       "      <td>87.0</td>\n",
       "      <td>48.0</td>\n",
       "    </tr>\n",
       "    <tr>\n",
       "      <th>2</th>\n",
       "      <td>AAA</td>\n",
       "      <td>F</td>\n",
       "      <td>South East Region</td>\n",
       "      <td>A Level or Equivalent</td>\n",
       "      <td>50-60%</td>\n",
       "      <td>35-55</td>\n",
       "      <td>0</td>\n",
       "      <td>60</td>\n",
       "      <td>N</td>\n",
       "      <td>Pass</td>\n",
       "      <td>...</td>\n",
       "      <td>NaN</td>\n",
       "      <td>NaN</td>\n",
       "      <td>NaN</td>\n",
       "      <td>NaN</td>\n",
       "      <td>NaN</td>\n",
       "      <td>NaN</td>\n",
       "      <td>19.0</td>\n",
       "      <td>NaN</td>\n",
       "      <td>144.0</td>\n",
       "      <td>90.0</td>\n",
       "    </tr>\n",
       "    <tr>\n",
       "      <th>3</th>\n",
       "      <td>AAA</td>\n",
       "      <td>F</td>\n",
       "      <td>West Midlands Region</td>\n",
       "      <td>Lower Than A Level</td>\n",
       "      <td>50-60%</td>\n",
       "      <td>0-35</td>\n",
       "      <td>0</td>\n",
       "      <td>60</td>\n",
       "      <td>N</td>\n",
       "      <td>Pass</td>\n",
       "      <td>...</td>\n",
       "      <td>NaN</td>\n",
       "      <td>NaN</td>\n",
       "      <td>NaN</td>\n",
       "      <td>NaN</td>\n",
       "      <td>NaN</td>\n",
       "      <td>NaN</td>\n",
       "      <td>45.0</td>\n",
       "      <td>NaN</td>\n",
       "      <td>79.0</td>\n",
       "      <td>14.0</td>\n",
       "    </tr>\n",
       "    <tr>\n",
       "      <th>4</th>\n",
       "      <td>AAA</td>\n",
       "      <td>M</td>\n",
       "      <td>Wales</td>\n",
       "      <td>A Level or Equivalent</td>\n",
       "      <td>80-90%</td>\n",
       "      <td>35-55</td>\n",
       "      <td>0</td>\n",
       "      <td>60</td>\n",
       "      <td>N</td>\n",
       "      <td>Pass</td>\n",
       "      <td>...</td>\n",
       "      <td>NaN</td>\n",
       "      <td>NaN</td>\n",
       "      <td>NaN</td>\n",
       "      <td>NaN</td>\n",
       "      <td>NaN</td>\n",
       "      <td>NaN</td>\n",
       "      <td>11.0</td>\n",
       "      <td>NaN</td>\n",
       "      <td>91.0</td>\n",
       "      <td>45.0</td>\n",
       "    </tr>\n",
       "  </tbody>\n",
       "</table>\n",
       "<p>5 rows × 33 columns</p>\n",
       "</div>"
      ],
      "text/plain": [
       "  code_module gender                region      highest_education imd_band  \\\n",
       "0         AAA      M   East Anglian Region       HE Qualification  90-100%   \n",
       "1         AAA      F              Scotland       HE Qualification   20-30%   \n",
       "2         AAA      F     South East Region  A Level or Equivalent   50-60%   \n",
       "3         AAA      F  West Midlands Region     Lower Than A Level   50-60%   \n",
       "4         AAA      M                 Wales  A Level or Equivalent   80-90%   \n",
       "\n",
       "  age_band  num_of_prev_attempts  studied_credits disability final_result  \\\n",
       "0     55<=                     0              240          N         Pass   \n",
       "1    35-55                     0               60          N         Pass   \n",
       "2    35-55                     0               60          N         Pass   \n",
       "3     0-35                     0               60          N         Pass   \n",
       "4    35-55                     0               60          N         Pass   \n",
       "\n",
       "   ... ouelluminate  ouwiki  page  questionnaire  quiz  repeatactivity  \\\n",
       "0  ...          NaN     NaN   NaN            NaN   NaN             NaN   \n",
       "1  ...          NaN     NaN   NaN            NaN   NaN             NaN   \n",
       "2  ...          NaN     NaN   NaN            NaN   NaN             NaN   \n",
       "3  ...          NaN     NaN   NaN            NaN   NaN             NaN   \n",
       "4  ...          NaN     NaN   NaN            NaN   NaN             NaN   \n",
       "\n",
       "   resource  sharedsubpage  subpage   url  \n",
       "0      13.0            NaN     32.0   5.0  \n",
       "1      12.0            NaN     87.0  48.0  \n",
       "2      19.0            NaN    144.0  90.0  \n",
       "3      45.0            NaN     79.0  14.0  \n",
       "4      11.0            NaN     91.0  45.0  \n",
       "\n",
       "[5 rows x 33 columns]"
      ]
     },
     "execution_count": 94,
     "metadata": {},
     "output_type": "execute_result"
    }
   ],
   "source": [
    "data_third_experiment.head()"
   ]
  },
  {
   "cell_type": "code",
   "execution_count": 95,
   "metadata": {},
   "outputs": [
    {
     "data": {
      "text/plain": [
       "['num_of_prev_attempts',\n",
       " 'studied_credits',\n",
       " 'dataplus',\n",
       " 'dualpane',\n",
       " 'externalquiz',\n",
       " 'folder',\n",
       " 'forumng',\n",
       " 'glossary',\n",
       " 'homepage',\n",
       " 'htmlactivity',\n",
       " 'oucollaborate',\n",
       " 'oucontent',\n",
       " 'ouelluminate',\n",
       " 'ouwiki',\n",
       " 'page',\n",
       " 'questionnaire',\n",
       " 'quiz',\n",
       " 'repeatactivity',\n",
       " 'resource',\n",
       " 'sharedsubpage',\n",
       " 'subpage',\n",
       " 'url']"
      ]
     },
     "execution_count": 95,
     "metadata": {},
     "output_type": "execute_result"
    }
   ],
   "source": [
    "numerical_cols = [col for col in data_third_experiment if data_third_experiment[col].dtype != 'object' \n",
    "                  and col not in ['CMA','TMA'] ]\n",
    "numerical_cols"
   ]
  },
  {
   "cell_type": "code",
   "execution_count": 96,
   "metadata": {},
   "outputs": [],
   "source": [
    "assert ((len(categorical_cols) + len(numerical_cols) + len(grade_cols))) == (data_third_experiment.shape[1] - 1) "
   ]
  },
  {
   "cell_type": "code",
   "execution_count": 97,
   "metadata": {},
   "outputs": [],
   "source": [
    "data_third_experiment['final_result'] = (\n",
    "                                            data_third_experiment['final_result']\n",
    "                                            .map({'Pass':0,'Fail':1})\n",
    "                                        )"
   ]
  },
  {
   "cell_type": "markdown",
   "metadata": {},
   "source": [
    "## 3.3 Partição dos Dados em Treino e Teste"
   ]
  },
  {
   "cell_type": "code",
   "execution_count": 98,
   "metadata": {},
   "outputs": [],
   "source": [
    "X = data_third_experiment.drop('final_result',axis = 'columns')\n",
    "y = data_third_experiment['final_result']\n",
    "\n",
    "assert X.shape[0] == y.shape[0]\n",
    "\n",
    "X_train, X_test, y_train, y_test = train_test_split(\n",
    "                                         X,\n",
    "                                         y,\n",
    "                                         test_size = TEST_SIZE,\n",
    "                                         random_state= RANDOM_SEED,\n",
    "                                         stratify = y\n",
    "                                        )\n",
    "\n",
    "assert X_train.shape[0] == y_train.shape[0]"
   ]
  },
  {
   "cell_type": "markdown",
   "metadata": {},
   "source": [
    "## 3.4 Terceiro Modelo"
   ]
  },
  {
   "cell_type": "markdown",
   "metadata": {},
   "source": [
    "Valores faltantes nos clicks das atividades serao imputados com valor zero."
   ]
  },
  {
   "cell_type": "code",
   "execution_count": 99,
   "metadata": {},
   "outputs": [
    {
     "data": {
      "text/html": [
       "<style>div.sk-top-container {color: black;background-color: white;}div.sk-toggleable {background-color: white;}label.sk-toggleable__label {cursor: pointer;display: block;width: 100%;margin-bottom: 0;padding: 0.2em 0.3em;box-sizing: border-box;text-align: center;}div.sk-toggleable__content {max-height: 0;max-width: 0;overflow: hidden;text-align: left;background-color: #f0f8ff;}div.sk-toggleable__content pre {margin: 0.2em;color: black;border-radius: 0.25em;background-color: #f0f8ff;}input.sk-toggleable__control:checked~div.sk-toggleable__content {max-height: 200px;max-width: 100%;overflow: auto;}div.sk-estimator input.sk-toggleable__control:checked~label.sk-toggleable__label {background-color: #d4ebff;}div.sk-label input.sk-toggleable__control:checked~label.sk-toggleable__label {background-color: #d4ebff;}input.sk-hidden--visually {border: 0;clip: rect(1px 1px 1px 1px);clip: rect(1px, 1px, 1px, 1px);height: 1px;margin: -1px;overflow: hidden;padding: 0;position: absolute;width: 1px;}div.sk-estimator {font-family: monospace;background-color: #f0f8ff;margin: 0.25em 0.25em;border: 1px dotted black;border-radius: 0.25em;box-sizing: border-box;}div.sk-estimator:hover {background-color: #d4ebff;}div.sk-parallel-item::after {content: \"\";width: 100%;border-bottom: 1px solid gray;flex-grow: 1;}div.sk-label:hover label.sk-toggleable__label {background-color: #d4ebff;}div.sk-serial::before {content: \"\";position: absolute;border-left: 1px solid gray;box-sizing: border-box;top: 2em;bottom: 0;left: 50%;}div.sk-serial {display: flex;flex-direction: column;align-items: center;background-color: white;}div.sk-item {z-index: 1;}div.sk-parallel {display: flex;align-items: stretch;justify-content: center;background-color: white;}div.sk-parallel-item {display: flex;flex-direction: column;position: relative;background-color: white;}div.sk-parallel-item:first-child::after {align-self: flex-end;width: 50%;}div.sk-parallel-item:last-child::after {align-self: flex-start;width: 50%;}div.sk-parallel-item:only-child::after {width: 0;}div.sk-dashed-wrapped {border: 1px dashed gray;margin: 0.2em;box-sizing: border-box;padding-bottom: 0.1em;background-color: white;position: relative;}div.sk-label label {font-family: monospace;font-weight: bold;background-color: white;display: inline-block;line-height: 1.2em;}div.sk-label-container {position: relative;z-index: 2;text-align: center;}div.sk-container {display: inline-block;position: relative;}</style><div class=\"sk-top-container\"><div class=\"sk-container\"><div class=\"sk-item sk-dashed-wrapped\"><div class=\"sk-label-container\"><div class=\"sk-label sk-toggleable\"><input class=\"sk-toggleable__control sk-hidden--visually\" id=\"29dd7140-3777-4f1c-aada-e68508d4d46c\" type=\"checkbox\" ><label class=\"sk-toggleable__label\" for=\"29dd7140-3777-4f1c-aada-e68508d4d46c\">ColumnTransformer</label><div class=\"sk-toggleable__content\"><pre>ColumnTransformer(transformers=[('pipeline',\n",
       "                                 Pipeline(steps=[('simpleimputer',\n",
       "                                                  SimpleImputer(add_indicator=True,\n",
       "                                                                fill_value='Missing',\n",
       "                                                                strategy='constant')),\n",
       "                                                 ('onehotencoder',\n",
       "                                                  OneHotEncoder(handle_unknown='ignore'))]),\n",
       "                                 ['code_module', 'gender', 'region',\n",
       "                                  'highest_education', 'imd_band', 'age_band',\n",
       "                                  'disability', 'module_code']),\n",
       "                                ('simpleimputer-1',\n",
       "                                 SimpleImputer(a...\n",
       "                                 ['num_of_prev_attempts', 'studied_credits',\n",
       "                                  'dataplus', 'dualpane', 'externalquiz',\n",
       "                                  'folder', 'forumng', 'glossary', 'homepage',\n",
       "                                  'htmlactivity', 'oucollaborate', 'oucontent',\n",
       "                                  'ouelluminate', 'ouwiki', 'page',\n",
       "                                  'questionnaire', 'quiz', 'repeatactivity',\n",
       "                                  'resource', 'sharedsubpage', 'subpage',\n",
       "                                  'url']),\n",
       "                                ('simpleimputer-2',\n",
       "                                 SimpleImputer(add_indicator=True, fill_value=0,\n",
       "                                               strategy='constant'),\n",
       "                                 ['CMA', 'TMA'])])</pre></div></div></div><div class=\"sk-parallel\"><div class=\"sk-parallel-item\"><div class=\"sk-item\"><div class=\"sk-label-container\"><div class=\"sk-label sk-toggleable\"><input class=\"sk-toggleable__control sk-hidden--visually\" id=\"97d1874f-d7ce-44ad-805c-b1b25cedc858\" type=\"checkbox\" ><label class=\"sk-toggleable__label\" for=\"97d1874f-d7ce-44ad-805c-b1b25cedc858\">pipeline</label><div class=\"sk-toggleable__content\"><pre>['code_module', 'gender', 'region', 'highest_education', 'imd_band', 'age_band', 'disability', 'module_code']</pre></div></div></div><div class=\"sk-serial\"><div class=\"sk-item\"><div class=\"sk-serial\"><div class=\"sk-item\"><div class=\"sk-estimator sk-toggleable\"><input class=\"sk-toggleable__control sk-hidden--visually\" id=\"8100abe9-96fb-4d71-813d-4f8b38a6c0fd\" type=\"checkbox\" ><label class=\"sk-toggleable__label\" for=\"8100abe9-96fb-4d71-813d-4f8b38a6c0fd\">SimpleImputer</label><div class=\"sk-toggleable__content\"><pre>SimpleImputer(add_indicator=True, fill_value='Missing', strategy='constant')</pre></div></div></div><div class=\"sk-item\"><div class=\"sk-estimator sk-toggleable\"><input class=\"sk-toggleable__control sk-hidden--visually\" id=\"e3c21a5a-22d8-4536-bd0c-bd8bc4460b35\" type=\"checkbox\" ><label class=\"sk-toggleable__label\" for=\"e3c21a5a-22d8-4536-bd0c-bd8bc4460b35\">OneHotEncoder</label><div class=\"sk-toggleable__content\"><pre>OneHotEncoder(handle_unknown='ignore')</pre></div></div></div></div></div></div></div></div><div class=\"sk-parallel-item\"><div class=\"sk-item\"><div class=\"sk-label-container\"><div class=\"sk-label sk-toggleable\"><input class=\"sk-toggleable__control sk-hidden--visually\" id=\"a8b95d64-074d-495d-9afa-8b8ad3e35edc\" type=\"checkbox\" ><label class=\"sk-toggleable__label\" for=\"a8b95d64-074d-495d-9afa-8b8ad3e35edc\">simpleimputer-1</label><div class=\"sk-toggleable__content\"><pre>['num_of_prev_attempts', 'studied_credits', 'dataplus', 'dualpane', 'externalquiz', 'folder', 'forumng', 'glossary', 'homepage', 'htmlactivity', 'oucollaborate', 'oucontent', 'ouelluminate', 'ouwiki', 'page', 'questionnaire', 'quiz', 'repeatactivity', 'resource', 'sharedsubpage', 'subpage', 'url']</pre></div></div></div><div class=\"sk-serial\"><div class=\"sk-item\"><div class=\"sk-estimator sk-toggleable\"><input class=\"sk-toggleable__control sk-hidden--visually\" id=\"2ab93b0c-554d-415d-b3fe-48f7572460b9\" type=\"checkbox\" ><label class=\"sk-toggleable__label\" for=\"2ab93b0c-554d-415d-b3fe-48f7572460b9\">SimpleImputer</label><div class=\"sk-toggleable__content\"><pre>SimpleImputer(add_indicator=True, strategy='median')</pre></div></div></div></div></div></div><div class=\"sk-parallel-item\"><div class=\"sk-item\"><div class=\"sk-label-container\"><div class=\"sk-label sk-toggleable\"><input class=\"sk-toggleable__control sk-hidden--visually\" id=\"eec04f04-eaea-4d82-b192-33870c5c5b5b\" type=\"checkbox\" ><label class=\"sk-toggleable__label\" for=\"eec04f04-eaea-4d82-b192-33870c5c5b5b\">simpleimputer-2</label><div class=\"sk-toggleable__content\"><pre>['CMA', 'TMA']</pre></div></div></div><div class=\"sk-serial\"><div class=\"sk-item\"><div class=\"sk-estimator sk-toggleable\"><input class=\"sk-toggleable__control sk-hidden--visually\" id=\"90c26a16-89d2-4be4-bb01-f80c20bd4908\" type=\"checkbox\" ><label class=\"sk-toggleable__label\" for=\"90c26a16-89d2-4be4-bb01-f80c20bd4908\">SimpleImputer</label><div class=\"sk-toggleable__content\"><pre>SimpleImputer(add_indicator=True, fill_value=0, strategy='constant')</pre></div></div></div></div></div></div></div></div></div></div>"
      ],
      "text/plain": [
       "ColumnTransformer(transformers=[('pipeline',\n",
       "                                 Pipeline(steps=[('simpleimputer',\n",
       "                                                  SimpleImputer(add_indicator=True,\n",
       "                                                                fill_value='Missing',\n",
       "                                                                strategy='constant')),\n",
       "                                                 ('onehotencoder',\n",
       "                                                  OneHotEncoder(handle_unknown='ignore'))]),\n",
       "                                 ['code_module', 'gender', 'region',\n",
       "                                  'highest_education', 'imd_band', 'age_band',\n",
       "                                  'disability', 'module_code']),\n",
       "                                ('simpleimputer-1',\n",
       "                                 SimpleImputer(a...\n",
       "                                 ['num_of_prev_attempts', 'studied_credits',\n",
       "                                  'dataplus', 'dualpane', 'externalquiz',\n",
       "                                  'folder', 'forumng', 'glossary', 'homepage',\n",
       "                                  'htmlactivity', 'oucollaborate', 'oucontent',\n",
       "                                  'ouelluminate', 'ouwiki', 'page',\n",
       "                                  'questionnaire', 'quiz', 'repeatactivity',\n",
       "                                  'resource', 'sharedsubpage', 'subpage',\n",
       "                                  'url']),\n",
       "                                ('simpleimputer-2',\n",
       "                                 SimpleImputer(add_indicator=True, fill_value=0,\n",
       "                                               strategy='constant'),\n",
       "                                 ['CMA', 'TMA'])])"
      ]
     },
     "execution_count": 99,
     "metadata": {},
     "output_type": "execute_result"
    }
   ],
   "source": [
    "third_experiment_pipeline = make_column_transformer(\n",
    "                                                    (cat_pipeline,categorical_cols),\n",
    "                                                    (imputer_num,numerical_cols),\n",
    "                                                    (imputer_grades,grade_cols),\n",
    "                                                    )\n",
    "\n",
    "third_experiment_pipeline"
   ]
  },
  {
   "cell_type": "code",
   "execution_count": 100,
   "metadata": {},
   "outputs": [
    {
     "data": {
      "text/html": [
       "<style>div.sk-top-container {color: black;background-color: white;}div.sk-toggleable {background-color: white;}label.sk-toggleable__label {cursor: pointer;display: block;width: 100%;margin-bottom: 0;padding: 0.2em 0.3em;box-sizing: border-box;text-align: center;}div.sk-toggleable__content {max-height: 0;max-width: 0;overflow: hidden;text-align: left;background-color: #f0f8ff;}div.sk-toggleable__content pre {margin: 0.2em;color: black;border-radius: 0.25em;background-color: #f0f8ff;}input.sk-toggleable__control:checked~div.sk-toggleable__content {max-height: 200px;max-width: 100%;overflow: auto;}div.sk-estimator input.sk-toggleable__control:checked~label.sk-toggleable__label {background-color: #d4ebff;}div.sk-label input.sk-toggleable__control:checked~label.sk-toggleable__label {background-color: #d4ebff;}input.sk-hidden--visually {border: 0;clip: rect(1px 1px 1px 1px);clip: rect(1px, 1px, 1px, 1px);height: 1px;margin: -1px;overflow: hidden;padding: 0;position: absolute;width: 1px;}div.sk-estimator {font-family: monospace;background-color: #f0f8ff;margin: 0.25em 0.25em;border: 1px dotted black;border-radius: 0.25em;box-sizing: border-box;}div.sk-estimator:hover {background-color: #d4ebff;}div.sk-parallel-item::after {content: \"\";width: 100%;border-bottom: 1px solid gray;flex-grow: 1;}div.sk-label:hover label.sk-toggleable__label {background-color: #d4ebff;}div.sk-serial::before {content: \"\";position: absolute;border-left: 1px solid gray;box-sizing: border-box;top: 2em;bottom: 0;left: 50%;}div.sk-serial {display: flex;flex-direction: column;align-items: center;background-color: white;}div.sk-item {z-index: 1;}div.sk-parallel {display: flex;align-items: stretch;justify-content: center;background-color: white;}div.sk-parallel-item {display: flex;flex-direction: column;position: relative;background-color: white;}div.sk-parallel-item:first-child::after {align-self: flex-end;width: 50%;}div.sk-parallel-item:last-child::after {align-self: flex-start;width: 50%;}div.sk-parallel-item:only-child::after {width: 0;}div.sk-dashed-wrapped {border: 1px dashed gray;margin: 0.2em;box-sizing: border-box;padding-bottom: 0.1em;background-color: white;position: relative;}div.sk-label label {font-family: monospace;font-weight: bold;background-color: white;display: inline-block;line-height: 1.2em;}div.sk-label-container {position: relative;z-index: 2;text-align: center;}div.sk-container {display: inline-block;position: relative;}</style><div class=\"sk-top-container\"><div class=\"sk-container\"><div class=\"sk-item sk-dashed-wrapped\"><div class=\"sk-label-container\"><div class=\"sk-label sk-toggleable\"><input class=\"sk-toggleable__control sk-hidden--visually\" id=\"4da47b84-03df-4580-bb91-5ce998fc3535\" type=\"checkbox\" ><label class=\"sk-toggleable__label\" for=\"4da47b84-03df-4580-bb91-5ce998fc3535\">Pipeline</label><div class=\"sk-toggleable__content\"><pre>Pipeline(steps=[('columntransformer',\n",
       "                 ColumnTransformer(transformers=[('pipeline',\n",
       "                                                  Pipeline(steps=[('simpleimputer',\n",
       "                                                                   SimpleImputer(add_indicator=True,\n",
       "                                                                                 fill_value='Missing',\n",
       "                                                                                 strategy='constant')),\n",
       "                                                                  ('onehotencoder',\n",
       "                                                                   OneHotEncoder(handle_unknown='ignore'))]),\n",
       "                                                  ['code_module', 'gender',\n",
       "                                                   'region',\n",
       "                                                   'highest_education',\n",
       "                                                   'imd_band', 'age_band',\n",
       "                                                   'disability',\n",
       "                                                   'module_code'...\n",
       "                                                   'oucollaborate', 'oucontent',\n",
       "                                                   'ouelluminate', 'ouwiki',\n",
       "                                                   'page', 'questionnaire',\n",
       "                                                   'quiz', 'repeatactivity',\n",
       "                                                   'resource', 'sharedsubpage',\n",
       "                                                   'subpage', 'url']),\n",
       "                                                 ('simpleimputer-2',\n",
       "                                                  SimpleImputer(add_indicator=True,\n",
       "                                                                fill_value=0,\n",
       "                                                                strategy='constant'),\n",
       "                                                  ['CMA', 'TMA'])])),\n",
       "                ('randomforestclassifier',\n",
       "                 RandomForestClassifier(class_weight='balanced',\n",
       "                                        max_features='sqrt', n_estimators=500,\n",
       "                                        random_state=42))])</pre></div></div></div><div class=\"sk-serial\"><div class=\"sk-item sk-dashed-wrapped\"><div class=\"sk-label-container\"><div class=\"sk-label sk-toggleable\"><input class=\"sk-toggleable__control sk-hidden--visually\" id=\"164afff1-5672-41af-ae59-7031a33b5a04\" type=\"checkbox\" ><label class=\"sk-toggleable__label\" for=\"164afff1-5672-41af-ae59-7031a33b5a04\">columntransformer: ColumnTransformer</label><div class=\"sk-toggleable__content\"><pre>ColumnTransformer(transformers=[('pipeline',\n",
       "                                 Pipeline(steps=[('simpleimputer',\n",
       "                                                  SimpleImputer(add_indicator=True,\n",
       "                                                                fill_value='Missing',\n",
       "                                                                strategy='constant')),\n",
       "                                                 ('onehotencoder',\n",
       "                                                  OneHotEncoder(handle_unknown='ignore'))]),\n",
       "                                 ['code_module', 'gender', 'region',\n",
       "                                  'highest_education', 'imd_band', 'age_band',\n",
       "                                  'disability', 'module_code']),\n",
       "                                ('simpleimputer-1',\n",
       "                                 SimpleImputer(a...\n",
       "                                 ['num_of_prev_attempts', 'studied_credits',\n",
       "                                  'dataplus', 'dualpane', 'externalquiz',\n",
       "                                  'folder', 'forumng', 'glossary', 'homepage',\n",
       "                                  'htmlactivity', 'oucollaborate', 'oucontent',\n",
       "                                  'ouelluminate', 'ouwiki', 'page',\n",
       "                                  'questionnaire', 'quiz', 'repeatactivity',\n",
       "                                  'resource', 'sharedsubpage', 'subpage',\n",
       "                                  'url']),\n",
       "                                ('simpleimputer-2',\n",
       "                                 SimpleImputer(add_indicator=True, fill_value=0,\n",
       "                                               strategy='constant'),\n",
       "                                 ['CMA', 'TMA'])])</pre></div></div></div><div class=\"sk-parallel\"><div class=\"sk-parallel-item\"><div class=\"sk-item\"><div class=\"sk-label-container\"><div class=\"sk-label sk-toggleable\"><input class=\"sk-toggleable__control sk-hidden--visually\" id=\"6300a484-85a9-4520-8e5e-e3b2f65b9004\" type=\"checkbox\" ><label class=\"sk-toggleable__label\" for=\"6300a484-85a9-4520-8e5e-e3b2f65b9004\">pipeline</label><div class=\"sk-toggleable__content\"><pre>['code_module', 'gender', 'region', 'highest_education', 'imd_band', 'age_band', 'disability', 'module_code']</pre></div></div></div><div class=\"sk-serial\"><div class=\"sk-item\"><div class=\"sk-serial\"><div class=\"sk-item\"><div class=\"sk-estimator sk-toggleable\"><input class=\"sk-toggleable__control sk-hidden--visually\" id=\"89ac93b8-5f73-422e-9165-5a3dcf492fc9\" type=\"checkbox\" ><label class=\"sk-toggleable__label\" for=\"89ac93b8-5f73-422e-9165-5a3dcf492fc9\">SimpleImputer</label><div class=\"sk-toggleable__content\"><pre>SimpleImputer(add_indicator=True, fill_value='Missing', strategy='constant')</pre></div></div></div><div class=\"sk-item\"><div class=\"sk-estimator sk-toggleable\"><input class=\"sk-toggleable__control sk-hidden--visually\" id=\"6e04ed7e-2c96-435b-be07-208fa6f7d37c\" type=\"checkbox\" ><label class=\"sk-toggleable__label\" for=\"6e04ed7e-2c96-435b-be07-208fa6f7d37c\">OneHotEncoder</label><div class=\"sk-toggleable__content\"><pre>OneHotEncoder(handle_unknown='ignore')</pre></div></div></div></div></div></div></div></div><div class=\"sk-parallel-item\"><div class=\"sk-item\"><div class=\"sk-label-container\"><div class=\"sk-label sk-toggleable\"><input class=\"sk-toggleable__control sk-hidden--visually\" id=\"6bb60dcb-b254-4a28-ae03-0725dd503c48\" type=\"checkbox\" ><label class=\"sk-toggleable__label\" for=\"6bb60dcb-b254-4a28-ae03-0725dd503c48\">simpleimputer-1</label><div class=\"sk-toggleable__content\"><pre>['num_of_prev_attempts', 'studied_credits', 'dataplus', 'dualpane', 'externalquiz', 'folder', 'forumng', 'glossary', 'homepage', 'htmlactivity', 'oucollaborate', 'oucontent', 'ouelluminate', 'ouwiki', 'page', 'questionnaire', 'quiz', 'repeatactivity', 'resource', 'sharedsubpage', 'subpage', 'url']</pre></div></div></div><div class=\"sk-serial\"><div class=\"sk-item\"><div class=\"sk-estimator sk-toggleable\"><input class=\"sk-toggleable__control sk-hidden--visually\" id=\"8dfb88cc-064c-4854-a8a9-5c489a639d5a\" type=\"checkbox\" ><label class=\"sk-toggleable__label\" for=\"8dfb88cc-064c-4854-a8a9-5c489a639d5a\">SimpleImputer</label><div class=\"sk-toggleable__content\"><pre>SimpleImputer(add_indicator=True, strategy='median')</pre></div></div></div></div></div></div><div class=\"sk-parallel-item\"><div class=\"sk-item\"><div class=\"sk-label-container\"><div class=\"sk-label sk-toggleable\"><input class=\"sk-toggleable__control sk-hidden--visually\" id=\"f81b7361-e2f7-41d5-b519-5d5593596bb4\" type=\"checkbox\" ><label class=\"sk-toggleable__label\" for=\"f81b7361-e2f7-41d5-b519-5d5593596bb4\">simpleimputer-2</label><div class=\"sk-toggleable__content\"><pre>['CMA', 'TMA']</pre></div></div></div><div class=\"sk-serial\"><div class=\"sk-item\"><div class=\"sk-estimator sk-toggleable\"><input class=\"sk-toggleable__control sk-hidden--visually\" id=\"7963b887-96ec-475c-9965-955c5dec0b8a\" type=\"checkbox\" ><label class=\"sk-toggleable__label\" for=\"7963b887-96ec-475c-9965-955c5dec0b8a\">SimpleImputer</label><div class=\"sk-toggleable__content\"><pre>SimpleImputer(add_indicator=True, fill_value=0, strategy='constant')</pre></div></div></div></div></div></div></div></div><div class=\"sk-item\"><div class=\"sk-estimator sk-toggleable\"><input class=\"sk-toggleable__control sk-hidden--visually\" id=\"583a1b9a-d492-4ece-a13f-cdf5acc76e25\" type=\"checkbox\" ><label class=\"sk-toggleable__label\" for=\"583a1b9a-d492-4ece-a13f-cdf5acc76e25\">RandomForestClassifier</label><div class=\"sk-toggleable__content\"><pre>RandomForestClassifier(class_weight='balanced', max_features='sqrt',\n",
       "                       n_estimators=500, random_state=42)</pre></div></div></div></div></div></div></div>"
      ],
      "text/plain": [
       "Pipeline(steps=[('columntransformer',\n",
       "                 ColumnTransformer(transformers=[('pipeline',\n",
       "                                                  Pipeline(steps=[('simpleimputer',\n",
       "                                                                   SimpleImputer(add_indicator=True,\n",
       "                                                                                 fill_value='Missing',\n",
       "                                                                                 strategy='constant')),\n",
       "                                                                  ('onehotencoder',\n",
       "                                                                   OneHotEncoder(handle_unknown='ignore'))]),\n",
       "                                                  ['code_module', 'gender',\n",
       "                                                   'region',\n",
       "                                                   'highest_education',\n",
       "                                                   'imd_band', 'age_band',\n",
       "                                                   'disability',\n",
       "                                                   'module_code'...\n",
       "                                                   'oucollaborate', 'oucontent',\n",
       "                                                   'ouelluminate', 'ouwiki',\n",
       "                                                   'page', 'questionnaire',\n",
       "                                                   'quiz', 'repeatactivity',\n",
       "                                                   'resource', 'sharedsubpage',\n",
       "                                                   'subpage', 'url']),\n",
       "                                                 ('simpleimputer-2',\n",
       "                                                  SimpleImputer(add_indicator=True,\n",
       "                                                                fill_value=0,\n",
       "                                                                strategy='constant'),\n",
       "                                                  ['CMA', 'TMA'])])),\n",
       "                ('randomforestclassifier',\n",
       "                 RandomForestClassifier(class_weight='balanced',\n",
       "                                        max_features='sqrt', n_estimators=500,\n",
       "                                        random_state=42))])"
      ]
     },
     "execution_count": 100,
     "metadata": {},
     "output_type": "execute_result"
    }
   ],
   "source": [
    "third_model = make_pipeline(\n",
    "                            third_experiment_pipeline,\n",
    "                            RandomForestClassifier(n_estimators=500,\n",
    "                                                   max_features=\"sqrt\",\n",
    "                                                   class_weight='balanced',   #remediar o desbalanceamento \n",
    "                                                   random_state=RANDOM_SEED)\n",
    "                           )\n",
    "third_model"
   ]
  },
  {
   "cell_type": "markdown",
   "metadata": {},
   "source": [
    "## 3.5 Avaliando o Terceiro Modelo"
   ]
  },
  {
   "cell_type": "code",
   "execution_count": 101,
   "metadata": {},
   "outputs": [],
   "source": [
    "average_precision_third = cross_val_score(\n",
    "                                            estimator = third_model,\n",
    "                                            X = X_train,\n",
    "                                            y = y_train,\n",
    "                                            scoring = make_scorer(average_precision_score,needs_proba=True),\n",
    "                                            cv = skf\n",
    "                                             )\n",
    "# Cross-Validation Predictions\n",
    "cv_preds = cross_val_predict(\n",
    "                              estimator = third_model,\n",
    "                              X = X_train,\n",
    "                              y = y_train,\n",
    "                              cv = 5, # n_splits --> O padrao ja eh stratified kfold\n",
    "                              method = 'predict_proba'\n",
    "                             )"
   ]
  },
  {
   "cell_type": "code",
   "execution_count": 102,
   "metadata": {},
   "outputs": [
    {
     "data": {
      "text/plain": [
       "'CV Average Precision: 0.89 / Desvio-Padrão: 0.004'"
      ]
     },
     "execution_count": 102,
     "metadata": {},
     "output_type": "execute_result"
    }
   ],
   "source": [
    "ap,std = np.mean(average_precision_third).round(2),np.std(average_precision_third).round(3)\n",
    "f'CV Average Precision: {ap} / Desvio-Padrão: {std}'"
   ]
  },
  {
   "cell_type": "markdown",
   "metadata": {},
   "source": [
    "O modelo avançou **3.4%** sobre o segundo experimento. O esquema de *cross-validation* nos indica *Average Precision* estavel em **0.89**. Ha espaço para mais experimentos no futuro, mas nosso orçamento de horas esta terminando e julgo termos um modelo forte o suficiente para atacarmos o problema de negócio."
   ]
  },
  {
   "cell_type": "markdown",
   "metadata": {},
   "source": [
    "## 3.6 Busca por Hiperparametros Ótimos"
   ]
  },
  {
   "cell_type": "markdown",
   "metadata": {},
   "source": [
    "Agora faremos uma busca por alguma configuração de hiperparametros que nos ajude a melhorar ainda mais o desempenho do modelo."
   ]
  },
  {
   "cell_type": "markdown",
   "metadata": {},
   "source": [
    "Construiremos um dicionário com os hiperparametros que desejamos otimizar. Nao sera uma busca exaustiva, pois sabemos que *Random Forests* tem desempenho forte com os hiperparametros de prateleira. Podemos fazer isso apos discutir a aplicação do modelo na solução do problema."
   ]
  },
  {
   "cell_type": "code",
   "execution_count": 103,
   "metadata": {},
   "outputs": [
    {
     "data": {
      "text/plain": [
       "{'randomforestclassifier__max_features': ['sqrt', 0.6, 0.8],\n",
       " 'randomforestclassifier__max_depth': [None, 15, 25],\n",
       " 'randomforestclassifier__n_estimators': [100, 500]}"
      ]
     },
     "execution_count": 103,
     "metadata": {},
     "output_type": "execute_result"
    }
   ],
   "source": [
    "params = {}\n",
    "params['randomforestclassifier__max_features'] = [\"sqrt\",0.6,0.8]\n",
    "params['randomforestclassifier__max_depth'] = [None,15,25]\n",
    "params['randomforestclassifier__n_estimators'] = [100,500]\n",
    "params"
   ]
  },
  {
   "cell_type": "code",
   "execution_count": 104,
   "metadata": {
    "scrolled": true
   },
   "outputs": [
    {
     "name": "stdout",
     "output_type": "stream",
     "text": [
      "Fitting 5 folds for each of 18 candidates, totalling 90 fits\n",
      "[Parallel(n_jobs=-1)]: Using backend LokyBackend with 8 concurrent workers.\n",
      "[Parallel(n_jobs=-1)]: Done   1 tasks      | elapsed:    7.4s\n",
      "[Parallel(n_jobs=-1)]: Done   2 tasks      | elapsed:    7.4s\n",
      "[Parallel(n_jobs=-1)]: Done   3 tasks      | elapsed:    7.5s\n",
      "[Parallel(n_jobs=-1)]: Done   4 tasks      | elapsed:    7.5s\n",
      "[Parallel(n_jobs=-1)]: Done   5 tasks      | elapsed:    7.5s\n",
      "[Parallel(n_jobs=-1)]: Done   6 tasks      | elapsed:   28.5s\n",
      "[Parallel(n_jobs=-1)]: Done   7 tasks      | elapsed:   28.9s\n",
      "[Parallel(n_jobs=-1)]: Done   8 tasks      | elapsed:   29.0s\n",
      "[Parallel(n_jobs=-1)]: Done   9 tasks      | elapsed:   29.6s\n",
      "[Parallel(n_jobs=-1)]: Done  10 tasks      | elapsed:   29.8s\n",
      "[Parallel(n_jobs=-1)]: Done  11 tasks      | elapsed:   29.8s\n",
      "[Parallel(n_jobs=-1)]: Done  12 tasks      | elapsed:   35.0s\n",
      "[Parallel(n_jobs=-1)]: Done  13 tasks      | elapsed:   35.1s\n",
      "[Parallel(n_jobs=-1)]: Done  14 tasks      | elapsed:   49.2s\n",
      "[Parallel(n_jobs=-1)]: Done  15 tasks      | elapsed:   49.3s\n",
      "[Parallel(n_jobs=-1)]: Done  16 tasks      | elapsed:  1.0min\n",
      "[Parallel(n_jobs=-1)]: Done  17 tasks      | elapsed:  1.3min\n",
      "[Parallel(n_jobs=-1)]: Done  18 tasks      | elapsed:  1.3min\n",
      "[Parallel(n_jobs=-1)]: Done  19 tasks      | elapsed:  1.5min\n",
      "[Parallel(n_jobs=-1)]: Done  20 tasks      | elapsed:  1.7min\n",
      "[Parallel(n_jobs=-1)]: Done  21 tasks      | elapsed:  2.2min\n",
      "[Parallel(n_jobs=-1)]: Done  22 tasks      | elapsed:  2.2min\n",
      "[Parallel(n_jobs=-1)]: Done  23 tasks      | elapsed:  2.2min\n",
      "[Parallel(n_jobs=-1)]: Done  24 tasks      | elapsed:  2.2min\n",
      "[Parallel(n_jobs=-1)]: Done  25 tasks      | elapsed:  2.3min\n",
      "[Parallel(n_jobs=-1)]: Done  26 tasks      | elapsed:  2.3min\n",
      "[Parallel(n_jobs=-1)]: Done  27 tasks      | elapsed:  2.3min\n",
      "[Parallel(n_jobs=-1)]: Done  28 tasks      | elapsed:  2.4min\n",
      "[Parallel(n_jobs=-1)]: Done  29 tasks      | elapsed:  2.4min\n",
      "[Parallel(n_jobs=-1)]: Done  30 tasks      | elapsed:  2.4min\n",
      "[Parallel(n_jobs=-1)]: Done  31 tasks      | elapsed:  2.8min\n",
      "[Parallel(n_jobs=-1)]: Done  32 tasks      | elapsed:  2.8min\n",
      "[Parallel(n_jobs=-1)]: Done  33 tasks      | elapsed:  2.8min\n",
      "[Parallel(n_jobs=-1)]: Done  34 tasks      | elapsed:  3.2min\n",
      "[Parallel(n_jobs=-1)]: Done  35 tasks      | elapsed:  3.2min\n",
      "[Parallel(n_jobs=-1)]: Done  36 tasks      | elapsed:  3.3min\n",
      "[Parallel(n_jobs=-1)]: Done  37 tasks      | elapsed:  3.5min\n",
      "[Parallel(n_jobs=-1)]: Done  38 tasks      | elapsed:  3.6min\n",
      "[Parallel(n_jobs=-1)]: Done  39 tasks      | elapsed:  3.6min\n",
      "[Parallel(n_jobs=-1)]: Done  40 tasks      | elapsed:  3.6min\n",
      "[Parallel(n_jobs=-1)]: Done  41 tasks      | elapsed:  3.8min\n",
      "[Parallel(n_jobs=-1)]: Done  42 tasks      | elapsed:  3.8min\n",
      "[Parallel(n_jobs=-1)]: Done  43 tasks      | elapsed:  4.0min\n",
      "[Parallel(n_jobs=-1)]: Done  44 tasks      | elapsed:  4.5min\n",
      "[Parallel(n_jobs=-1)]: Done  45 tasks      | elapsed:  4.5min\n",
      "[Parallel(n_jobs=-1)]: Done  46 tasks      | elapsed:  4.5min\n",
      "[Parallel(n_jobs=-1)]: Done  47 tasks      | elapsed:  4.9min\n",
      "[Parallel(n_jobs=-1)]: Done  48 tasks      | elapsed:  4.9min\n",
      "[Parallel(n_jobs=-1)]: Done  49 tasks      | elapsed:  4.9min\n",
      "[Parallel(n_jobs=-1)]: Done  50 tasks      | elapsed:  5.2min\n",
      "[Parallel(n_jobs=-1)]: Done  51 tasks      | elapsed:  5.2min\n",
      "[Parallel(n_jobs=-1)]: Done  52 tasks      | elapsed:  5.2min\n",
      "[Parallel(n_jobs=-1)]: Done  53 tasks      | elapsed:  5.3min\n",
      "[Parallel(n_jobs=-1)]: Done  54 tasks      | elapsed:  5.4min\n",
      "[Parallel(n_jobs=-1)]: Done  55 tasks      | elapsed:  5.4min\n",
      "[Parallel(n_jobs=-1)]: Done  56 tasks      | elapsed:  5.4min\n",
      "[Parallel(n_jobs=-1)]: Done  57 tasks      | elapsed:  5.5min\n",
      "[Parallel(n_jobs=-1)]: Done  58 tasks      | elapsed:  5.5min\n",
      "[Parallel(n_jobs=-1)]: Done  59 tasks      | elapsed:  5.6min\n",
      "[Parallel(n_jobs=-1)]: Done  60 tasks      | elapsed:  5.6min\n",
      "[Parallel(n_jobs=-1)]: Done  61 tasks      | elapsed:  6.0min\n",
      "[Parallel(n_jobs=-1)]: Done  62 tasks      | elapsed:  6.0min\n",
      "[Parallel(n_jobs=-1)]: Done  63 tasks      | elapsed:  6.1min\n",
      "[Parallel(n_jobs=-1)]: Done  64 tasks      | elapsed:  6.4min\n",
      "[Parallel(n_jobs=-1)]: Done  65 tasks      | elapsed:  6.5min\n",
      "[Parallel(n_jobs=-1)]: Done  66 tasks      | elapsed:  6.5min\n",
      "[Parallel(n_jobs=-1)]: Done  67 tasks      | elapsed:  6.8min\n",
      "[Parallel(n_jobs=-1)]: Done  68 tasks      | elapsed:  6.8min\n",
      "[Parallel(n_jobs=-1)]: Done  69 tasks      | elapsed:  6.9min\n",
      "[Parallel(n_jobs=-1)]: Done  70 tasks      | elapsed:  7.1min\n",
      "[Parallel(n_jobs=-1)]: Done  71 tasks      | elapsed:  7.1min\n",
      "[Parallel(n_jobs=-1)]: Done  72 tasks      | elapsed:  7.1min\n",
      "[Parallel(n_jobs=-1)]: Done  73 tasks      | elapsed:  7.4min\n",
      "[Parallel(n_jobs=-1)]: Done  74 tasks      | elapsed:  7.4min\n",
      "[Parallel(n_jobs=-1)]: Done  75 tasks      | elapsed:  7.4min\n",
      "[Parallel(n_jobs=-1)]: Done  76 out of  90 | elapsed:  7.8min remaining:  1.4min\n",
      "[Parallel(n_jobs=-1)]: Done  77 out of  90 | elapsed:  7.8min remaining:  1.3min\n",
      "[Parallel(n_jobs=-1)]: Done  78 out of  90 | elapsed:  7.9min remaining:  1.2min\n",
      "[Parallel(n_jobs=-1)]: Done  79 out of  90 | elapsed:  8.3min remaining:  1.2min\n",
      "[Parallel(n_jobs=-1)]: Done  80 out of  90 | elapsed:  8.3min remaining:  1.0min\n",
      "[Parallel(n_jobs=-1)]: Done  81 out of  90 | elapsed:  8.6min remaining:   57.3s\n",
      "[Parallel(n_jobs=-1)]: Done  82 out of  90 | elapsed:  8.6min remaining:   50.3s\n",
      "[Parallel(n_jobs=-1)]: Done  83 out of  90 | elapsed:  8.8min remaining:   44.5s\n",
      "[Parallel(n_jobs=-1)]: Done  84 out of  90 | elapsed:  8.8min remaining:   37.7s\n",
      "[Parallel(n_jobs=-1)]: Done  85 out of  90 | elapsed:  8.8min remaining:   31.1s\n",
      "[Parallel(n_jobs=-1)]: Done  86 out of  90 | elapsed:  9.6min remaining:   26.9s\n",
      "[Parallel(n_jobs=-1)]: Done  87 out of  90 | elapsed:  9.9min remaining:   20.4s\n",
      "[Parallel(n_jobs=-1)]: Done  88 out of  90 | elapsed:  9.9min remaining:   13.5s\n",
      "[Parallel(n_jobs=-1)]: Done  90 out of  90 | elapsed: 10.3min remaining:    0.0s\n",
      "[Parallel(n_jobs=-1)]: Done  90 out of  90 | elapsed: 10.3min finished\n"
     ]
    },
    {
     "data": {
      "text/html": [
       "<style>div.sk-top-container {color: black;background-color: white;}div.sk-toggleable {background-color: white;}label.sk-toggleable__label {cursor: pointer;display: block;width: 100%;margin-bottom: 0;padding: 0.2em 0.3em;box-sizing: border-box;text-align: center;}div.sk-toggleable__content {max-height: 0;max-width: 0;overflow: hidden;text-align: left;background-color: #f0f8ff;}div.sk-toggleable__content pre {margin: 0.2em;color: black;border-radius: 0.25em;background-color: #f0f8ff;}input.sk-toggleable__control:checked~div.sk-toggleable__content {max-height: 200px;max-width: 100%;overflow: auto;}div.sk-estimator input.sk-toggleable__control:checked~label.sk-toggleable__label {background-color: #d4ebff;}div.sk-label input.sk-toggleable__control:checked~label.sk-toggleable__label {background-color: #d4ebff;}input.sk-hidden--visually {border: 0;clip: rect(1px 1px 1px 1px);clip: rect(1px, 1px, 1px, 1px);height: 1px;margin: -1px;overflow: hidden;padding: 0;position: absolute;width: 1px;}div.sk-estimator {font-family: monospace;background-color: #f0f8ff;margin: 0.25em 0.25em;border: 1px dotted black;border-radius: 0.25em;box-sizing: border-box;}div.sk-estimator:hover {background-color: #d4ebff;}div.sk-parallel-item::after {content: \"\";width: 100%;border-bottom: 1px solid gray;flex-grow: 1;}div.sk-label:hover label.sk-toggleable__label {background-color: #d4ebff;}div.sk-serial::before {content: \"\";position: absolute;border-left: 1px solid gray;box-sizing: border-box;top: 2em;bottom: 0;left: 50%;}div.sk-serial {display: flex;flex-direction: column;align-items: center;background-color: white;}div.sk-item {z-index: 1;}div.sk-parallel {display: flex;align-items: stretch;justify-content: center;background-color: white;}div.sk-parallel-item {display: flex;flex-direction: column;position: relative;background-color: white;}div.sk-parallel-item:first-child::after {align-self: flex-end;width: 50%;}div.sk-parallel-item:last-child::after {align-self: flex-start;width: 50%;}div.sk-parallel-item:only-child::after {width: 0;}div.sk-dashed-wrapped {border: 1px dashed gray;margin: 0.2em;box-sizing: border-box;padding-bottom: 0.1em;background-color: white;position: relative;}div.sk-label label {font-family: monospace;font-weight: bold;background-color: white;display: inline-block;line-height: 1.2em;}div.sk-label-container {position: relative;z-index: 2;text-align: center;}div.sk-container {display: inline-block;position: relative;}</style><div class=\"sk-top-container\"><div class=\"sk-container\"><div class=\"sk-item sk-dashed-wrapped\"><div class=\"sk-label-container\"><div class=\"sk-label sk-toggleable\"><input class=\"sk-toggleable__control sk-hidden--visually\" id=\"d424152b-1c8a-4de0-bb30-3da485c90c29\" type=\"checkbox\" ><label class=\"sk-toggleable__label\" for=\"d424152b-1c8a-4de0-bb30-3da485c90c29\">GridSearchCV</label><div class=\"sk-toggleable__content\"><pre>GridSearchCV(cv=StratifiedKFold(n_splits=5, random_state=42, shuffle=True),\n",
       "             estimator=Pipeline(steps=[('columntransformer',\n",
       "                                        ColumnTransformer(transformers=[('pipeline',\n",
       "                                                                         Pipeline(steps=[('simpleimputer',\n",
       "                                                                                          SimpleImputer(add_indicator=True,\n",
       "                                                                                                        fill_value='Missing',\n",
       "                                                                                                        strategy='constant')),\n",
       "                                                                                         ('onehotencoder',\n",
       "                                                                                          OneHotEncoder(handle_unknown='ignore'))]),\n",
       "                                                                         ['code_module',\n",
       "                                                                          'ge...\n",
       "                                        RandomForestClassifier(class_weight='balanced',\n",
       "                                                               max_features='sqrt',\n",
       "                                                               n_estimators=500,\n",
       "                                                               random_state=42))]),\n",
       "             n_jobs=-1,\n",
       "             param_grid={'randomforestclassifier__max_depth': [None, 15, 25],\n",
       "                         'randomforestclassifier__max_features': ['sqrt', 0.6,\n",
       "                                                                  0.8],\n",
       "                         'randomforestclassifier__n_estimators': [100, 500]},\n",
       "             return_train_score=True,\n",
       "             scoring=make_scorer(average_precision_score, needs_proba=True),\n",
       "             verbose=1000)</pre></div></div></div><div class=\"sk-parallel\"><div class=\"sk-parallel-item\"><div class=\"sk-item\"><div class=\"sk-serial\"><div class=\"sk-item\"><div class=\"sk-serial\"><div class=\"sk-item sk-dashed-wrapped\"><div class=\"sk-label-container\"><div class=\"sk-label sk-toggleable\"><input class=\"sk-toggleable__control sk-hidden--visually\" id=\"9b33f45e-642a-4d30-8b7c-e3d07b22b995\" type=\"checkbox\" ><label class=\"sk-toggleable__label\" for=\"9b33f45e-642a-4d30-8b7c-e3d07b22b995\">columntransformer: ColumnTransformer</label><div class=\"sk-toggleable__content\"><pre>ColumnTransformer(transformers=[('pipeline',\n",
       "                                 Pipeline(steps=[('simpleimputer',\n",
       "                                                  SimpleImputer(add_indicator=True,\n",
       "                                                                fill_value='Missing',\n",
       "                                                                strategy='constant')),\n",
       "                                                 ('onehotencoder',\n",
       "                                                  OneHotEncoder(handle_unknown='ignore'))]),\n",
       "                                 ['code_module', 'gender', 'region',\n",
       "                                  'highest_education', 'imd_band', 'age_band',\n",
       "                                  'disability', 'module_code']),\n",
       "                                ('simpleimputer-1',\n",
       "                                 SimpleImputer(a...\n",
       "                                 ['num_of_prev_attempts', 'studied_credits',\n",
       "                                  'dataplus', 'dualpane', 'externalquiz',\n",
       "                                  'folder', 'forumng', 'glossary', 'homepage',\n",
       "                                  'htmlactivity', 'oucollaborate', 'oucontent',\n",
       "                                  'ouelluminate', 'ouwiki', 'page',\n",
       "                                  'questionnaire', 'quiz', 'repeatactivity',\n",
       "                                  'resource', 'sharedsubpage', 'subpage',\n",
       "                                  'url']),\n",
       "                                ('simpleimputer-2',\n",
       "                                 SimpleImputer(add_indicator=True, fill_value=0,\n",
       "                                               strategy='constant'),\n",
       "                                 ['CMA', 'TMA'])])</pre></div></div></div><div class=\"sk-parallel\"><div class=\"sk-parallel-item\"><div class=\"sk-item\"><div class=\"sk-label-container\"><div class=\"sk-label sk-toggleable\"><input class=\"sk-toggleable__control sk-hidden--visually\" id=\"504dd6ad-2b23-477d-9673-a32202a8b7f9\" type=\"checkbox\" ><label class=\"sk-toggleable__label\" for=\"504dd6ad-2b23-477d-9673-a32202a8b7f9\">pipeline</label><div class=\"sk-toggleable__content\"><pre>['code_module', 'gender', 'region', 'highest_education', 'imd_band', 'age_band', 'disability', 'module_code']</pre></div></div></div><div class=\"sk-serial\"><div class=\"sk-item\"><div class=\"sk-serial\"><div class=\"sk-item\"><div class=\"sk-estimator sk-toggleable\"><input class=\"sk-toggleable__control sk-hidden--visually\" id=\"355cdf05-8339-4942-8414-b1dd3b693170\" type=\"checkbox\" ><label class=\"sk-toggleable__label\" for=\"355cdf05-8339-4942-8414-b1dd3b693170\">SimpleImputer</label><div class=\"sk-toggleable__content\"><pre>SimpleImputer(add_indicator=True, fill_value='Missing', strategy='constant')</pre></div></div></div><div class=\"sk-item\"><div class=\"sk-estimator sk-toggleable\"><input class=\"sk-toggleable__control sk-hidden--visually\" id=\"c15e3d27-aa5c-4864-97d2-b5b3dbd6e08d\" type=\"checkbox\" ><label class=\"sk-toggleable__label\" for=\"c15e3d27-aa5c-4864-97d2-b5b3dbd6e08d\">OneHotEncoder</label><div class=\"sk-toggleable__content\"><pre>OneHotEncoder(handle_unknown='ignore')</pre></div></div></div></div></div></div></div></div><div class=\"sk-parallel-item\"><div class=\"sk-item\"><div class=\"sk-label-container\"><div class=\"sk-label sk-toggleable\"><input class=\"sk-toggleable__control sk-hidden--visually\" id=\"ca10d5ae-1b6f-47bf-9a56-dda58619b098\" type=\"checkbox\" ><label class=\"sk-toggleable__label\" for=\"ca10d5ae-1b6f-47bf-9a56-dda58619b098\">simpleimputer-1</label><div class=\"sk-toggleable__content\"><pre>['num_of_prev_attempts', 'studied_credits', 'dataplus', 'dualpane', 'externalquiz', 'folder', 'forumng', 'glossary', 'homepage', 'htmlactivity', 'oucollaborate', 'oucontent', 'ouelluminate', 'ouwiki', 'page', 'questionnaire', 'quiz', 'repeatactivity', 'resource', 'sharedsubpage', 'subpage', 'url']</pre></div></div></div><div class=\"sk-serial\"><div class=\"sk-item\"><div class=\"sk-estimator sk-toggleable\"><input class=\"sk-toggleable__control sk-hidden--visually\" id=\"d9649b0c-1110-44ec-bc2e-8b711ec48b7f\" type=\"checkbox\" ><label class=\"sk-toggleable__label\" for=\"d9649b0c-1110-44ec-bc2e-8b711ec48b7f\">SimpleImputer</label><div class=\"sk-toggleable__content\"><pre>SimpleImputer(add_indicator=True, strategy='median')</pre></div></div></div></div></div></div><div class=\"sk-parallel-item\"><div class=\"sk-item\"><div class=\"sk-label-container\"><div class=\"sk-label sk-toggleable\"><input class=\"sk-toggleable__control sk-hidden--visually\" id=\"25754c1e-4d87-482e-88c5-358faebcab99\" type=\"checkbox\" ><label class=\"sk-toggleable__label\" for=\"25754c1e-4d87-482e-88c5-358faebcab99\">simpleimputer-2</label><div class=\"sk-toggleable__content\"><pre>['CMA', 'TMA']</pre></div></div></div><div class=\"sk-serial\"><div class=\"sk-item\"><div class=\"sk-estimator sk-toggleable\"><input class=\"sk-toggleable__control sk-hidden--visually\" id=\"dff9033b-5b46-4993-a80e-0cfb8d5b6b0d\" type=\"checkbox\" ><label class=\"sk-toggleable__label\" for=\"dff9033b-5b46-4993-a80e-0cfb8d5b6b0d\">SimpleImputer</label><div class=\"sk-toggleable__content\"><pre>SimpleImputer(add_indicator=True, fill_value=0, strategy='constant')</pre></div></div></div></div></div></div></div></div><div class=\"sk-item\"><div class=\"sk-estimator sk-toggleable\"><input class=\"sk-toggleable__control sk-hidden--visually\" id=\"0b0d5144-dbf6-4773-a75c-ce700c12f8c1\" type=\"checkbox\" ><label class=\"sk-toggleable__label\" for=\"0b0d5144-dbf6-4773-a75c-ce700c12f8c1\">RandomForestClassifier</label><div class=\"sk-toggleable__content\"><pre>RandomForestClassifier(class_weight='balanced', max_features='sqrt',\n",
       "                       n_estimators=500, random_state=42)</pre></div></div></div></div></div></div></div></div></div></div></div></div>"
      ],
      "text/plain": [
       "GridSearchCV(cv=StratifiedKFold(n_splits=5, random_state=42, shuffle=True),\n",
       "             estimator=Pipeline(steps=[('columntransformer',\n",
       "                                        ColumnTransformer(transformers=[('pipeline',\n",
       "                                                                         Pipeline(steps=[('simpleimputer',\n",
       "                                                                                          SimpleImputer(add_indicator=True,\n",
       "                                                                                                        fill_value='Missing',\n",
       "                                                                                                        strategy='constant')),\n",
       "                                                                                         ('onehotencoder',\n",
       "                                                                                          OneHotEncoder(handle_unknown='ignore'))]),\n",
       "                                                                         ['code_module',\n",
       "                                                                          'ge...\n",
       "                                        RandomForestClassifier(class_weight='balanced',\n",
       "                                                               max_features='sqrt',\n",
       "                                                               n_estimators=500,\n",
       "                                                               random_state=42))]),\n",
       "             n_jobs=-1,\n",
       "             param_grid={'randomforestclassifier__max_depth': [None, 15, 25],\n",
       "                         'randomforestclassifier__max_features': ['sqrt', 0.6,\n",
       "                                                                  0.8],\n",
       "                         'randomforestclassifier__n_estimators': [100, 500]},\n",
       "             return_train_score=True,\n",
       "             scoring=make_scorer(average_precision_score, needs_proba=True),\n",
       "             verbose=1000)"
      ]
     },
     "execution_count": 104,
     "metadata": {},
     "output_type": "execute_result"
    }
   ],
   "source": [
    "grid = GridSearchCV(\n",
    "                    third_model, \n",
    "                    param_grid=params,\n",
    "                    scoring = make_scorer(average_precision_score,needs_proba=True), \n",
    "                    cv=skf,\n",
    "                    verbose = 100,\n",
    "                    return_train_score=True,\n",
    "                    n_jobs = -1\n",
    "                    )\n",
    "\n",
    "grid.fit(X_train, y_train)"
   ]
  },
  {
   "cell_type": "code",
   "execution_count": 105,
   "metadata": {
    "scrolled": true
   },
   "outputs": [
    {
     "data": {
      "text/html": [
       "<div>\n",
       "<style scoped>\n",
       "    .dataframe tbody tr th:only-of-type {\n",
       "        vertical-align: middle;\n",
       "    }\n",
       "\n",
       "    .dataframe tbody tr th {\n",
       "        vertical-align: top;\n",
       "    }\n",
       "\n",
       "    .dataframe thead th {\n",
       "        text-align: right;\n",
       "    }\n",
       "</style>\n",
       "<table border=\"1\" class=\"dataframe\">\n",
       "  <thead>\n",
       "    <tr style=\"text-align: right;\">\n",
       "      <th></th>\n",
       "      <th>mean_fit_time</th>\n",
       "      <th>std_fit_time</th>\n",
       "      <th>mean_score_time</th>\n",
       "      <th>std_score_time</th>\n",
       "      <th>param_randomforestclassifier__max_depth</th>\n",
       "      <th>param_randomforestclassifier__max_features</th>\n",
       "      <th>param_randomforestclassifier__n_estimators</th>\n",
       "      <th>params</th>\n",
       "      <th>split0_test_score</th>\n",
       "      <th>split1_test_score</th>\n",
       "      <th>...</th>\n",
       "      <th>mean_test_score</th>\n",
       "      <th>std_test_score</th>\n",
       "      <th>rank_test_score</th>\n",
       "      <th>split0_train_score</th>\n",
       "      <th>split1_train_score</th>\n",
       "      <th>split2_train_score</th>\n",
       "      <th>split3_train_score</th>\n",
       "      <th>split4_train_score</th>\n",
       "      <th>mean_train_score</th>\n",
       "      <th>std_train_score</th>\n",
       "    </tr>\n",
       "  </thead>\n",
       "  <tbody>\n",
       "    <tr>\n",
       "      <th>9</th>\n",
       "      <td>94.598645</td>\n",
       "      <td>1.218520</td>\n",
       "      <td>0.725208</td>\n",
       "      <td>0.132557</td>\n",
       "      <td>15</td>\n",
       "      <td>0.6</td>\n",
       "      <td>500</td>\n",
       "      <td>{'randomforestclassifier__max_depth': 15, 'ran...</td>\n",
       "      <td>0.894049</td>\n",
       "      <td>0.886182</td>\n",
       "      <td>...</td>\n",
       "      <td>0.892856</td>\n",
       "      <td>0.003414</td>\n",
       "      <td>1</td>\n",
       "      <td>0.999540</td>\n",
       "      <td>0.999339</td>\n",
       "      <td>0.999483</td>\n",
       "      <td>0.999275</td>\n",
       "      <td>0.999603</td>\n",
       "      <td>0.999448</td>\n",
       "      <td>1.228775e-04</td>\n",
       "    </tr>\n",
       "    <tr>\n",
       "      <th>15</th>\n",
       "      <td>100.555753</td>\n",
       "      <td>1.708224</td>\n",
       "      <td>0.706482</td>\n",
       "      <td>0.137758</td>\n",
       "      <td>25</td>\n",
       "      <td>0.6</td>\n",
       "      <td>500</td>\n",
       "      <td>{'randomforestclassifier__max_depth': 25, 'ran...</td>\n",
       "      <td>0.893216</td>\n",
       "      <td>0.885555</td>\n",
       "      <td>...</td>\n",
       "      <td>0.892252</td>\n",
       "      <td>0.003476</td>\n",
       "      <td>2</td>\n",
       "      <td>1.000000</td>\n",
       "      <td>1.000000</td>\n",
       "      <td>1.000000</td>\n",
       "      <td>1.000000</td>\n",
       "      <td>1.000000</td>\n",
       "      <td>1.000000</td>\n",
       "      <td>0.000000e+00</td>\n",
       "    </tr>\n",
       "    <tr>\n",
       "      <th>3</th>\n",
       "      <td>98.443102</td>\n",
       "      <td>0.684933</td>\n",
       "      <td>0.558761</td>\n",
       "      <td>0.014608</td>\n",
       "      <td>None</td>\n",
       "      <td>0.6</td>\n",
       "      <td>500</td>\n",
       "      <td>{'randomforestclassifier__max_depth': None, 'r...</td>\n",
       "      <td>0.892522</td>\n",
       "      <td>0.886092</td>\n",
       "      <td>...</td>\n",
       "      <td>0.892035</td>\n",
       "      <td>0.003077</td>\n",
       "      <td>3</td>\n",
       "      <td>1.000000</td>\n",
       "      <td>1.000000</td>\n",
       "      <td>1.000000</td>\n",
       "      <td>1.000000</td>\n",
       "      <td>1.000000</td>\n",
       "      <td>1.000000</td>\n",
       "      <td>0.000000e+00</td>\n",
       "    </tr>\n",
       "    <tr>\n",
       "      <th>11</th>\n",
       "      <td>126.404392</td>\n",
       "      <td>1.473534</td>\n",
       "      <td>0.749426</td>\n",
       "      <td>0.124062</td>\n",
       "      <td>15</td>\n",
       "      <td>0.8</td>\n",
       "      <td>500</td>\n",
       "      <td>{'randomforestclassifier__max_depth': 15, 'ran...</td>\n",
       "      <td>0.892356</td>\n",
       "      <td>0.884686</td>\n",
       "      <td>...</td>\n",
       "      <td>0.891315</td>\n",
       "      <td>0.003442</td>\n",
       "      <td>4</td>\n",
       "      <td>0.999364</td>\n",
       "      <td>0.998896</td>\n",
       "      <td>0.999153</td>\n",
       "      <td>0.998811</td>\n",
       "      <td>0.999284</td>\n",
       "      <td>0.999102</td>\n",
       "      <td>2.149769e-04</td>\n",
       "    </tr>\n",
       "    <tr>\n",
       "      <th>17</th>\n",
       "      <td>97.625056</td>\n",
       "      <td>4.550228</td>\n",
       "      <td>0.337384</td>\n",
       "      <td>0.043638</td>\n",
       "      <td>25</td>\n",
       "      <td>0.8</td>\n",
       "      <td>500</td>\n",
       "      <td>{'randomforestclassifier__max_depth': 25, 'ran...</td>\n",
       "      <td>0.891456</td>\n",
       "      <td>0.884501</td>\n",
       "      <td>...</td>\n",
       "      <td>0.891243</td>\n",
       "      <td>0.003636</td>\n",
       "      <td>5</td>\n",
       "      <td>1.000000</td>\n",
       "      <td>1.000000</td>\n",
       "      <td>1.000000</td>\n",
       "      <td>1.000000</td>\n",
       "      <td>1.000000</td>\n",
       "      <td>1.000000</td>\n",
       "      <td>0.000000e+00</td>\n",
       "    </tr>\n",
       "    <tr>\n",
       "      <th>8</th>\n",
       "      <td>19.194906</td>\n",
       "      <td>0.749164</td>\n",
       "      <td>0.149683</td>\n",
       "      <td>0.033427</td>\n",
       "      <td>15</td>\n",
       "      <td>0.6</td>\n",
       "      <td>100</td>\n",
       "      <td>{'randomforestclassifier__max_depth': 15, 'ran...</td>\n",
       "      <td>0.891123</td>\n",
       "      <td>0.885203</td>\n",
       "      <td>...</td>\n",
       "      <td>0.890991</td>\n",
       "      <td>0.003008</td>\n",
       "      <td>6</td>\n",
       "      <td>0.999299</td>\n",
       "      <td>0.999175</td>\n",
       "      <td>0.999289</td>\n",
       "      <td>0.998981</td>\n",
       "      <td>0.999339</td>\n",
       "      <td>0.999217</td>\n",
       "      <td>1.296828e-04</td>\n",
       "    </tr>\n",
       "    <tr>\n",
       "      <th>5</th>\n",
       "      <td>136.518155</td>\n",
       "      <td>0.919352</td>\n",
       "      <td>0.672800</td>\n",
       "      <td>0.153161</td>\n",
       "      <td>None</td>\n",
       "      <td>0.8</td>\n",
       "      <td>500</td>\n",
       "      <td>{'randomforestclassifier__max_depth': None, 'r...</td>\n",
       "      <td>0.890760</td>\n",
       "      <td>0.884214</td>\n",
       "      <td>...</td>\n",
       "      <td>0.890770</td>\n",
       "      <td>0.003574</td>\n",
       "      <td>7</td>\n",
       "      <td>1.000000</td>\n",
       "      <td>1.000000</td>\n",
       "      <td>1.000000</td>\n",
       "      <td>1.000000</td>\n",
       "      <td>1.000000</td>\n",
       "      <td>1.000000</td>\n",
       "      <td>0.000000e+00</td>\n",
       "    </tr>\n",
       "    <tr>\n",
       "      <th>1</th>\n",
       "      <td>24.681021</td>\n",
       "      <td>0.118192</td>\n",
       "      <td>0.801627</td>\n",
       "      <td>0.141238</td>\n",
       "      <td>None</td>\n",
       "      <td>sqrt</td>\n",
       "      <td>500</td>\n",
       "      <td>{'randomforestclassifier__max_depth': None, 'r...</td>\n",
       "      <td>0.889898</td>\n",
       "      <td>0.885477</td>\n",
       "      <td>...</td>\n",
       "      <td>0.890707</td>\n",
       "      <td>0.004325</td>\n",
       "      <td>8</td>\n",
       "      <td>1.000000</td>\n",
       "      <td>1.000000</td>\n",
       "      <td>1.000000</td>\n",
       "      <td>1.000000</td>\n",
       "      <td>1.000000</td>\n",
       "      <td>1.000000</td>\n",
       "      <td>0.000000e+00</td>\n",
       "    </tr>\n",
       "    <tr>\n",
       "      <th>13</th>\n",
       "      <td>24.309819</td>\n",
       "      <td>0.387382</td>\n",
       "      <td>0.911642</td>\n",
       "      <td>0.193252</td>\n",
       "      <td>25</td>\n",
       "      <td>sqrt</td>\n",
       "      <td>500</td>\n",
       "      <td>{'randomforestclassifier__max_depth': 25, 'ran...</td>\n",
       "      <td>0.889187</td>\n",
       "      <td>0.885007</td>\n",
       "      <td>...</td>\n",
       "      <td>0.890367</td>\n",
       "      <td>0.004559</td>\n",
       "      <td>9</td>\n",
       "      <td>1.000000</td>\n",
       "      <td>1.000000</td>\n",
       "      <td>1.000000</td>\n",
       "      <td>1.000000</td>\n",
       "      <td>1.000000</td>\n",
       "      <td>1.000000</td>\n",
       "      <td>0.000000e+00</td>\n",
       "    </tr>\n",
       "    <tr>\n",
       "      <th>10</th>\n",
       "      <td>25.197613</td>\n",
       "      <td>0.478008</td>\n",
       "      <td>0.174694</td>\n",
       "      <td>0.033528</td>\n",
       "      <td>15</td>\n",
       "      <td>0.8</td>\n",
       "      <td>100</td>\n",
       "      <td>{'randomforestclassifier__max_depth': 15, 'ran...</td>\n",
       "      <td>0.890965</td>\n",
       "      <td>0.884091</td>\n",
       "      <td>...</td>\n",
       "      <td>0.890102</td>\n",
       "      <td>0.003291</td>\n",
       "      <td>10</td>\n",
       "      <td>0.999208</td>\n",
       "      <td>0.998598</td>\n",
       "      <td>0.998999</td>\n",
       "      <td>0.998646</td>\n",
       "      <td>0.998969</td>\n",
       "      <td>0.998884</td>\n",
       "      <td>2.298442e-04</td>\n",
       "    </tr>\n",
       "    <tr>\n",
       "      <th>14</th>\n",
       "      <td>20.478904</td>\n",
       "      <td>0.412461</td>\n",
       "      <td>0.165551</td>\n",
       "      <td>0.042517</td>\n",
       "      <td>25</td>\n",
       "      <td>0.6</td>\n",
       "      <td>100</td>\n",
       "      <td>{'randomforestclassifier__max_depth': 25, 'ran...</td>\n",
       "      <td>0.891054</td>\n",
       "      <td>0.882681</td>\n",
       "      <td>...</td>\n",
       "      <td>0.889588</td>\n",
       "      <td>0.003580</td>\n",
       "      <td>11</td>\n",
       "      <td>1.000000</td>\n",
       "      <td>1.000000</td>\n",
       "      <td>1.000000</td>\n",
       "      <td>1.000000</td>\n",
       "      <td>1.000000</td>\n",
       "      <td>1.000000</td>\n",
       "      <td>4.681112e-08</td>\n",
       "    </tr>\n",
       "    <tr>\n",
       "      <th>16</th>\n",
       "      <td>26.610313</td>\n",
       "      <td>0.493459</td>\n",
       "      <td>0.174446</td>\n",
       "      <td>0.040482</td>\n",
       "      <td>25</td>\n",
       "      <td>0.8</td>\n",
       "      <td>100</td>\n",
       "      <td>{'randomforestclassifier__max_depth': 25, 'ran...</td>\n",
       "      <td>0.889140</td>\n",
       "      <td>0.881732</td>\n",
       "      <td>...</td>\n",
       "      <td>0.888659</td>\n",
       "      <td>0.003679</td>\n",
       "      <td>12</td>\n",
       "      <td>1.000000</td>\n",
       "      <td>1.000000</td>\n",
       "      <td>1.000000</td>\n",
       "      <td>1.000000</td>\n",
       "      <td>1.000000</td>\n",
       "      <td>1.000000</td>\n",
       "      <td>0.000000e+00</td>\n",
       "    </tr>\n",
       "    <tr>\n",
       "      <th>2</th>\n",
       "      <td>20.011744</td>\n",
       "      <td>0.419765</td>\n",
       "      <td>0.224789</td>\n",
       "      <td>0.003346</td>\n",
       "      <td>None</td>\n",
       "      <td>0.6</td>\n",
       "      <td>100</td>\n",
       "      <td>{'randomforestclassifier__max_depth': None, 'r...</td>\n",
       "      <td>0.888087</td>\n",
       "      <td>0.882825</td>\n",
       "      <td>...</td>\n",
       "      <td>0.888431</td>\n",
       "      <td>0.003048</td>\n",
       "      <td>13</td>\n",
       "      <td>1.000000</td>\n",
       "      <td>1.000000</td>\n",
       "      <td>1.000000</td>\n",
       "      <td>1.000000</td>\n",
       "      <td>1.000000</td>\n",
       "      <td>1.000000</td>\n",
       "      <td>4.681112e-08</td>\n",
       "    </tr>\n",
       "    <tr>\n",
       "      <th>4</th>\n",
       "      <td>26.446279</td>\n",
       "      <td>0.386407</td>\n",
       "      <td>0.173610</td>\n",
       "      <td>0.042179</td>\n",
       "      <td>None</td>\n",
       "      <td>0.8</td>\n",
       "      <td>100</td>\n",
       "      <td>{'randomforestclassifier__max_depth': None, 'r...</td>\n",
       "      <td>0.886882</td>\n",
       "      <td>0.881084</td>\n",
       "      <td>...</td>\n",
       "      <td>0.887300</td>\n",
       "      <td>0.003359</td>\n",
       "      <td>14</td>\n",
       "      <td>1.000000</td>\n",
       "      <td>1.000000</td>\n",
       "      <td>1.000000</td>\n",
       "      <td>1.000000</td>\n",
       "      <td>1.000000</td>\n",
       "      <td>1.000000</td>\n",
       "      <td>2.341122e-08</td>\n",
       "    </tr>\n",
       "    <tr>\n",
       "      <th>7</th>\n",
       "      <td>23.271797</td>\n",
       "      <td>0.571115</td>\n",
       "      <td>0.905393</td>\n",
       "      <td>0.108648</td>\n",
       "      <td>15</td>\n",
       "      <td>sqrt</td>\n",
       "      <td>500</td>\n",
       "      <td>{'randomforestclassifier__max_depth': 15, 'ran...</td>\n",
       "      <td>0.886008</td>\n",
       "      <td>0.882049</td>\n",
       "      <td>...</td>\n",
       "      <td>0.887007</td>\n",
       "      <td>0.004672</td>\n",
       "      <td>15</td>\n",
       "      <td>0.993869</td>\n",
       "      <td>0.993778</td>\n",
       "      <td>0.993773</td>\n",
       "      <td>0.994095</td>\n",
       "      <td>0.994424</td>\n",
       "      <td>0.993988</td>\n",
       "      <td>2.472904e-04</td>\n",
       "    </tr>\n",
       "    <tr>\n",
       "      <th>12</th>\n",
       "      <td>5.021964</td>\n",
       "      <td>0.144610</td>\n",
       "      <td>0.208921</td>\n",
       "      <td>0.061691</td>\n",
       "      <td>25</td>\n",
       "      <td>sqrt</td>\n",
       "      <td>100</td>\n",
       "      <td>{'randomforestclassifier__max_depth': 25, 'ran...</td>\n",
       "      <td>0.884952</td>\n",
       "      <td>0.880063</td>\n",
       "      <td>...</td>\n",
       "      <td>0.886745</td>\n",
       "      <td>0.005059</td>\n",
       "      <td>16</td>\n",
       "      <td>1.000000</td>\n",
       "      <td>1.000000</td>\n",
       "      <td>1.000000</td>\n",
       "      <td>1.000000</td>\n",
       "      <td>1.000000</td>\n",
       "      <td>1.000000</td>\n",
       "      <td>0.000000e+00</td>\n",
       "    </tr>\n",
       "    <tr>\n",
       "      <th>0</th>\n",
       "      <td>5.056539</td>\n",
       "      <td>0.062456</td>\n",
       "      <td>0.254687</td>\n",
       "      <td>0.002776</td>\n",
       "      <td>None</td>\n",
       "      <td>sqrt</td>\n",
       "      <td>100</td>\n",
       "      <td>{'randomforestclassifier__max_depth': None, 'r...</td>\n",
       "      <td>0.883554</td>\n",
       "      <td>0.879023</td>\n",
       "      <td>...</td>\n",
       "      <td>0.885679</td>\n",
       "      <td>0.005007</td>\n",
       "      <td>17</td>\n",
       "      <td>1.000000</td>\n",
       "      <td>1.000000</td>\n",
       "      <td>1.000000</td>\n",
       "      <td>1.000000</td>\n",
       "      <td>1.000000</td>\n",
       "      <td>1.000000</td>\n",
       "      <td>1.110223e-16</td>\n",
       "    </tr>\n",
       "    <tr>\n",
       "      <th>6</th>\n",
       "      <td>4.879760</td>\n",
       "      <td>0.183749</td>\n",
       "      <td>0.212311</td>\n",
       "      <td>0.060482</td>\n",
       "      <td>15</td>\n",
       "      <td>sqrt</td>\n",
       "      <td>100</td>\n",
       "      <td>{'randomforestclassifier__max_depth': 15, 'ran...</td>\n",
       "      <td>0.884935</td>\n",
       "      <td>0.879687</td>\n",
       "      <td>...</td>\n",
       "      <td>0.885431</td>\n",
       "      <td>0.004922</td>\n",
       "      <td>18</td>\n",
       "      <td>0.993376</td>\n",
       "      <td>0.993508</td>\n",
       "      <td>0.993317</td>\n",
       "      <td>0.993166</td>\n",
       "      <td>0.993326</td>\n",
       "      <td>0.993339</td>\n",
       "      <td>1.098412e-04</td>\n",
       "    </tr>\n",
       "  </tbody>\n",
       "</table>\n",
       "<p>18 rows × 23 columns</p>\n",
       "</div>"
      ],
      "text/plain": [
       "    mean_fit_time  std_fit_time  mean_score_time  std_score_time  \\\n",
       "9       94.598645      1.218520         0.725208        0.132557   \n",
       "15     100.555753      1.708224         0.706482        0.137758   \n",
       "3       98.443102      0.684933         0.558761        0.014608   \n",
       "11     126.404392      1.473534         0.749426        0.124062   \n",
       "17      97.625056      4.550228         0.337384        0.043638   \n",
       "8       19.194906      0.749164         0.149683        0.033427   \n",
       "5      136.518155      0.919352         0.672800        0.153161   \n",
       "1       24.681021      0.118192         0.801627        0.141238   \n",
       "13      24.309819      0.387382         0.911642        0.193252   \n",
       "10      25.197613      0.478008         0.174694        0.033528   \n",
       "14      20.478904      0.412461         0.165551        0.042517   \n",
       "16      26.610313      0.493459         0.174446        0.040482   \n",
       "2       20.011744      0.419765         0.224789        0.003346   \n",
       "4       26.446279      0.386407         0.173610        0.042179   \n",
       "7       23.271797      0.571115         0.905393        0.108648   \n",
       "12       5.021964      0.144610         0.208921        0.061691   \n",
       "0        5.056539      0.062456         0.254687        0.002776   \n",
       "6        4.879760      0.183749         0.212311        0.060482   \n",
       "\n",
       "   param_randomforestclassifier__max_depth  \\\n",
       "9                                       15   \n",
       "15                                      25   \n",
       "3                                     None   \n",
       "11                                      15   \n",
       "17                                      25   \n",
       "8                                       15   \n",
       "5                                     None   \n",
       "1                                     None   \n",
       "13                                      25   \n",
       "10                                      15   \n",
       "14                                      25   \n",
       "16                                      25   \n",
       "2                                     None   \n",
       "4                                     None   \n",
       "7                                       15   \n",
       "12                                      25   \n",
       "0                                     None   \n",
       "6                                       15   \n",
       "\n",
       "   param_randomforestclassifier__max_features  \\\n",
       "9                                         0.6   \n",
       "15                                        0.6   \n",
       "3                                         0.6   \n",
       "11                                        0.8   \n",
       "17                                        0.8   \n",
       "8                                         0.6   \n",
       "5                                         0.8   \n",
       "1                                        sqrt   \n",
       "13                                       sqrt   \n",
       "10                                        0.8   \n",
       "14                                        0.6   \n",
       "16                                        0.8   \n",
       "2                                         0.6   \n",
       "4                                         0.8   \n",
       "7                                        sqrt   \n",
       "12                                       sqrt   \n",
       "0                                        sqrt   \n",
       "6                                        sqrt   \n",
       "\n",
       "   param_randomforestclassifier__n_estimators  \\\n",
       "9                                         500   \n",
       "15                                        500   \n",
       "3                                         500   \n",
       "11                                        500   \n",
       "17                                        500   \n",
       "8                                         100   \n",
       "5                                         500   \n",
       "1                                         500   \n",
       "13                                        500   \n",
       "10                                        100   \n",
       "14                                        100   \n",
       "16                                        100   \n",
       "2                                         100   \n",
       "4                                         100   \n",
       "7                                         500   \n",
       "12                                        100   \n",
       "0                                         100   \n",
       "6                                         100   \n",
       "\n",
       "                                               params  split0_test_score  \\\n",
       "9   {'randomforestclassifier__max_depth': 15, 'ran...           0.894049   \n",
       "15  {'randomforestclassifier__max_depth': 25, 'ran...           0.893216   \n",
       "3   {'randomforestclassifier__max_depth': None, 'r...           0.892522   \n",
       "11  {'randomforestclassifier__max_depth': 15, 'ran...           0.892356   \n",
       "17  {'randomforestclassifier__max_depth': 25, 'ran...           0.891456   \n",
       "8   {'randomforestclassifier__max_depth': 15, 'ran...           0.891123   \n",
       "5   {'randomforestclassifier__max_depth': None, 'r...           0.890760   \n",
       "1   {'randomforestclassifier__max_depth': None, 'r...           0.889898   \n",
       "13  {'randomforestclassifier__max_depth': 25, 'ran...           0.889187   \n",
       "10  {'randomforestclassifier__max_depth': 15, 'ran...           0.890965   \n",
       "14  {'randomforestclassifier__max_depth': 25, 'ran...           0.891054   \n",
       "16  {'randomforestclassifier__max_depth': 25, 'ran...           0.889140   \n",
       "2   {'randomforestclassifier__max_depth': None, 'r...           0.888087   \n",
       "4   {'randomforestclassifier__max_depth': None, 'r...           0.886882   \n",
       "7   {'randomforestclassifier__max_depth': 15, 'ran...           0.886008   \n",
       "12  {'randomforestclassifier__max_depth': 25, 'ran...           0.884952   \n",
       "0   {'randomforestclassifier__max_depth': None, 'r...           0.883554   \n",
       "6   {'randomforestclassifier__max_depth': 15, 'ran...           0.884935   \n",
       "\n",
       "    split1_test_score  ...  mean_test_score  std_test_score  rank_test_score  \\\n",
       "9            0.886182  ...         0.892856        0.003414                1   \n",
       "15           0.885555  ...         0.892252        0.003476                2   \n",
       "3            0.886092  ...         0.892035        0.003077                3   \n",
       "11           0.884686  ...         0.891315        0.003442                4   \n",
       "17           0.884501  ...         0.891243        0.003636                5   \n",
       "8            0.885203  ...         0.890991        0.003008                6   \n",
       "5            0.884214  ...         0.890770        0.003574                7   \n",
       "1            0.885477  ...         0.890707        0.004325                8   \n",
       "13           0.885007  ...         0.890367        0.004559                9   \n",
       "10           0.884091  ...         0.890102        0.003291               10   \n",
       "14           0.882681  ...         0.889588        0.003580               11   \n",
       "16           0.881732  ...         0.888659        0.003679               12   \n",
       "2            0.882825  ...         0.888431        0.003048               13   \n",
       "4            0.881084  ...         0.887300        0.003359               14   \n",
       "7            0.882049  ...         0.887007        0.004672               15   \n",
       "12           0.880063  ...         0.886745        0.005059               16   \n",
       "0            0.879023  ...         0.885679        0.005007               17   \n",
       "6            0.879687  ...         0.885431        0.004922               18   \n",
       "\n",
       "    split0_train_score  split1_train_score  split2_train_score  \\\n",
       "9             0.999540            0.999339            0.999483   \n",
       "15            1.000000            1.000000            1.000000   \n",
       "3             1.000000            1.000000            1.000000   \n",
       "11            0.999364            0.998896            0.999153   \n",
       "17            1.000000            1.000000            1.000000   \n",
       "8             0.999299            0.999175            0.999289   \n",
       "5             1.000000            1.000000            1.000000   \n",
       "1             1.000000            1.000000            1.000000   \n",
       "13            1.000000            1.000000            1.000000   \n",
       "10            0.999208            0.998598            0.998999   \n",
       "14            1.000000            1.000000            1.000000   \n",
       "16            1.000000            1.000000            1.000000   \n",
       "2             1.000000            1.000000            1.000000   \n",
       "4             1.000000            1.000000            1.000000   \n",
       "7             0.993869            0.993778            0.993773   \n",
       "12            1.000000            1.000000            1.000000   \n",
       "0             1.000000            1.000000            1.000000   \n",
       "6             0.993376            0.993508            0.993317   \n",
       "\n",
       "    split3_train_score  split4_train_score  mean_train_score  std_train_score  \n",
       "9             0.999275            0.999603          0.999448     1.228775e-04  \n",
       "15            1.000000            1.000000          1.000000     0.000000e+00  \n",
       "3             1.000000            1.000000          1.000000     0.000000e+00  \n",
       "11            0.998811            0.999284          0.999102     2.149769e-04  \n",
       "17            1.000000            1.000000          1.000000     0.000000e+00  \n",
       "8             0.998981            0.999339          0.999217     1.296828e-04  \n",
       "5             1.000000            1.000000          1.000000     0.000000e+00  \n",
       "1             1.000000            1.000000          1.000000     0.000000e+00  \n",
       "13            1.000000            1.000000          1.000000     0.000000e+00  \n",
       "10            0.998646            0.998969          0.998884     2.298442e-04  \n",
       "14            1.000000            1.000000          1.000000     4.681112e-08  \n",
       "16            1.000000            1.000000          1.000000     0.000000e+00  \n",
       "2             1.000000            1.000000          1.000000     4.681112e-08  \n",
       "4             1.000000            1.000000          1.000000     2.341122e-08  \n",
       "7             0.994095            0.994424          0.993988     2.472904e-04  \n",
       "12            1.000000            1.000000          1.000000     0.000000e+00  \n",
       "0             1.000000            1.000000          1.000000     1.110223e-16  \n",
       "6             0.993166            0.993326          0.993339     1.098412e-04  \n",
       "\n",
       "[18 rows x 23 columns]"
      ]
     },
     "execution_count": 105,
     "metadata": {},
     "output_type": "execute_result"
    }
   ],
   "source": [
    "grid_search = pd.DataFrame(grid.cv_results_)\n",
    "grid_search.sort_values(\"rank_test_score\")"
   ]
  },
  {
   "cell_type": "code",
   "execution_count": 106,
   "metadata": {},
   "outputs": [
    {
     "data": {
      "image/png": "[encoded data removed]",
      "text/plain": [
       "<Figure size 576x360 with 1 Axes>"
      ]
     },
     "metadata": {},
     "output_type": "display_data"
    }
   ],
   "source": [
    "ax = grid_search[['mean_train_score','mean_test_score']].plot()\n",
    "_= ax.set_xlabel(\"Configuracoes de Hiperparametros (0-17)\")\n",
    "_= ax.set_ylabel(\"Average Precision Score\")"
   ]
  },
  {
   "cell_type": "markdown",
   "metadata": {},
   "source": [
    "Ao analisar as tabelas e o gráfico acima, podemos concluir:\n",
    "\n",
    "\n",
    " - Há overfitting, portanto talvez regularizar ajude o modelo a ter melhor desempenho num próximo experimento.\n",
    " - O desempenho no esquema de *Cross Validation* esta em torno de **0.89**\n",
    " - Escolheremos o modelo de *rank* 7 na busca de hiperparametros por ter desempenho parecido aos *ranks* superiores, mas usando menos árvores e tendo uma profundidade limitada a 15 níveis pode ser treinado mais rápido produz predições significativamente mais rápido (fator de 5x)."
   ]
  },
  {
   "cell_type": "markdown",
   "metadata": {},
   "source": [
    "rf_estimator = RandomForestClassifier(\n",
    "                                       n_estimators=100,\n",
    "                                       max_features=0.6,\n",
    "                                       max_depth=15\n",
    "                                      )\n",
    "rf_estimator.fit(third_experiment_pipeline.fit_transform(X_train),y_train)"
   ]
  },
  {
   "cell_type": "markdown",
   "metadata": {},
   "source": [
    "# 4. Desempenho do Modelo"
   ]
  },
  {
   "cell_type": "code",
   "execution_count": 115,
   "metadata": {},
   "outputs": [
    {
     "data": {
      "image/png": "[encoded data removed]",
      "text/plain": [
       "<Figure size 576x360 with 1 Axes>"
      ]
     },
     "metadata": {},
     "output_type": "display_data"
    }
   ],
   "source": [
    "X_test = third_experiment_pipeline.transform(X_test)\n",
    "ax = plot_precision_recall_curve(rf_estimator,X_test,y_test)"
   ]
  },
  {
   "cell_type": "markdown",
   "metadata": {},
   "source": [
    "A estimativa de desempenho do modelo via *Cross-Validation* provou-se boa, dada a pequena diferenca entre *Average Precision* estimada (0.89) e a estimada nos dados de teste (**0.88**)."
   ]
  },
  {
   "cell_type": "code",
   "execution_count": 126,
   "metadata": {},
   "outputs": [
    {
     "data": {
      "image/png": "[encoded data removed]",
      "text/plain": [
       "<Figure size 576x360 with 1 Axes>"
      ]
     },
     "metadata": {},
     "output_type": "display_data"
    }
   ],
   "source": [
    "ax = plot_roc_curve(rf_estimator,X_test,y_test)"
   ]
  },
  {
   "cell_type": "markdown",
   "metadata": {},
   "source": [
    "O modelo apresenta excelente desempenho para discriminar as classes, dado seu alto valor de AUC (**0.94**). "
   ]
  },
  {
   "cell_type": "code",
   "execution_count": 122,
   "metadata": {},
   "outputs": [
    {
     "data": {
      "image/png": "[encoded data removed]",
      "text/plain": [
       "<Figure size 576x360 with 2 Axes>"
      ]
     },
     "metadata": {},
     "output_type": "display_data"
    }
   ],
   "source": [
    "ax = plot_confusion_matrix(rf_estimator,X_test,y_test)"
   ]
  },
  {
   "cell_type": "code",
   "execution_count": 131,
   "metadata": {},
   "outputs": [
    {
     "data": {
      "text/plain": [
       "'Dos 574 alunos reprovados nos dados de teste, o modelo foi capaz de identificar 393 destes.'"
      ]
     },
     "execution_count": 131,
     "metadata": {},
     "output_type": "execute_result"
    }
   ],
   "source": [
    "f'Dos {y_test.sum()} alunos reprovados nos dados de teste, o modelo foi capaz de identificar 393 destes.'"
   ]
  },
  {
   "cell_type": "code",
   "execution_count": 135,
   "metadata": {},
   "outputs": [
    {
     "data": {
      "text/plain": [
       "'Dos 1538 alunos aprovados, o modelo foi capaz de identificar 1488 destes.'"
      ]
     },
     "execution_count": 135,
     "metadata": {},
     "output_type": "execute_result"
    }
   ],
   "source": [
    "f'Dos {y_test.shape[0] - y_test.sum()} alunos aprovados, o modelo foi capaz de identificar 1488 destes.'"
   ]
  },
  {
   "cell_type": "markdown",
   "metadata": {},
   "source": [
    "O modelo em seu estado atual demonstrou excelente potencial para ser aplicado na solucao do problema de predizer o desempenho dos alunos. Para aumentar ainda mais seu desempenho, meu proximo experimento seria verificar se aumentar o peso das observacoes em que o aluno falha no exame ajudaria a aumentar a deteccao destes, visto que o modelo claramente tem um desempenho excepcional (1488/1538) na classe majoritaria."
   ]
  },
  {
   "cell_type": "code",
   "execution_count": null,
   "metadata": {},
   "outputs": [],
   "source": []
  },
  {
   "cell_type": "code",
   "execution_count": null,
   "metadata": {},
   "outputs": [],
   "source": []
  },
  {
   "cell_type": "code",
   "execution_count": null,
   "metadata": {},
   "outputs": [],
   "source": []
  },
  {
   "cell_type": "code",
   "execution_count": null,
   "metadata": {},
   "outputs": [],
   "source": []
  },
  {
   "cell_type": "code",
   "execution_count": null,
   "metadata": {},
   "outputs": [],
   "source": []
  }
 ],
 "metadata": {
  "kernelspec": {
   "display_name": "Python 3",
   "language": "python",
   "name": "python3"
  },
  "language_info": {
   "codemirror_mode": {
    "name": "ipython",
    "version": 3
   },
   "file_extension": ".py",
   "mimetype": "text/x-python",
   "name": "python",
   "nbconvert_exporter": "python",
   "pygments_lexer": "ipython3",
   "version": "3.7.9"
  }
 },
 "nbformat": 4,
 "nbformat_minor": 4
}
